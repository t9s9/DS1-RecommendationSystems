{
 "cells": [
  {
   "cell_type": "code",
   "execution_count": 50,
   "metadata": {
    "collapsed": true
   },
   "outputs": [],
   "source": [
    "import pandas as pd\n",
    "from implicit.als import AlternatingLeastSquares\n",
    "from implicit.evaluation import mean_average_precision_at_k, ranking_metrics_at_k\n",
    "\n",
    "from src.algorithm.als.sparsedataset import SparseDataset\n",
    "from model_selection import GridSearchCV, KFold\n",
    "from src.algorithm.als.model_wrapper import ImplicitModelWrapper\n",
    "\n",
    "from implicit.nearest_neighbours import CosineRecommender, normalize, BM25Recommender, TFIDFRecommender\n",
    "\n",
    "import matplotlib.pyplot as plt\n",
    "\n",
    "plt.rcParams['figure.facecolor'] = 'white'"
   ]
  },
  {
   "cell_type": "code",
   "execution_count": 51,
   "outputs": [
    {
     "name": "stdout",
     "output_type": "stream",
     "text": [
      "Loading csv.\n",
      "Creating pivot.\n"
     ]
    }
   ],
   "source": [
    "dataset, test = SparseDataset.from_csv(\"C:/Users/TS/PycharmProjects/DS1-RecommendationSystems/data.csv\",\n",
    "                                       user=\"user\", item=\"subreddit\", rating='count')"
   ],
   "metadata": {
    "collapsed": false,
    "pycharm": {
     "name": "#%%\n"
    }
   }
  },
  {
   "cell_type": "code",
   "execution_count": 56,
   "outputs": [
    {
     "name": "stdout",
     "output_type": "stream",
     "text": [
      "Number of parameters combinations in grid: 6\n"
     ]
    }
   ],
   "source": [
    "model = AlternatingLeastSquares\n",
    "\n",
    "parameter = dict(iterations=[10],\n",
    "                 factors=[64],\n",
    "                 alpha=[1, 10, 20, 30, 40, 50],\n",
    "                 regularization=[0.1],\n",
    "                 )\n",
    "grid = GridSearchCV(algo=model,\n",
    "                    param_grid=parameter,\n",
    "                    cv=5,  # Number of folds in cross validation\n",
    "                    eval_k=20,  # Number of Top items to check in validation\n",
    "                    metrics=['map', 'precision'],  # the metrics to use\n",
    "                    random_state=12)\n",
    "print(\"Number of parameters combinations in grid:\", len(grid))"
   ],
   "metadata": {
    "collapsed": false,
    "pycharm": {
     "name": "#%%\n"
    }
   }
  },
  {
   "cell_type": "code",
   "execution_count": 58,
   "outputs": [
    {
     "data": {
      "text/plain": "  0%|          | 0/10 [00:00<?, ?it/s]",
      "application/vnd.jupyter.widget-view+json": {
       "version_major": 2,
       "version_minor": 0,
       "model_id": "8867985cc72c40c0be540ff6b40e0ffb"
      }
     },
     "metadata": {},
     "output_type": "display_data"
    },
    {
     "data": {
      "text/plain": "  0%|          | 0/10 [00:00<?, ?it/s]",
      "application/vnd.jupyter.widget-view+json": {
       "version_major": 2,
       "version_minor": 0,
       "model_id": "47018bab4cd44a3d80161edae11bb80f"
      }
     },
     "metadata": {},
     "output_type": "display_data"
    },
    {
     "data": {
      "text/plain": "  0%|          | 0/10 [00:00<?, ?it/s]",
      "application/vnd.jupyter.widget-view+json": {
       "version_major": 2,
       "version_minor": 0,
       "model_id": "f00d804b390a4e15bc8d36f4e629f2d9"
      }
     },
     "metadata": {},
     "output_type": "display_data"
    },
    {
     "data": {
      "text/plain": "  0%|          | 0/10 [00:00<?, ?it/s]",
      "application/vnd.jupyter.widget-view+json": {
       "version_major": 2,
       "version_minor": 0,
       "model_id": "53bcc5408fa94a89a2b2d222bbe03048"
      }
     },
     "metadata": {},
     "output_type": "display_data"
    },
    {
     "data": {
      "text/plain": "  0%|          | 0/10 [00:00<?, ?it/s]",
      "application/vnd.jupyter.widget-view+json": {
       "version_major": 2,
       "version_minor": 0,
       "model_id": "3b287f90d89f405bb8b2f18f596aa5dc"
      }
     },
     "metadata": {},
     "output_type": "display_data"
    },
    {
     "data": {
      "text/plain": "  0%|          | 0/10 [00:00<?, ?it/s]",
      "application/vnd.jupyter.widget-view+json": {
       "version_major": 2,
       "version_minor": 0,
       "model_id": "d25fd438db814a1daa5cc5b50a32f0f9"
      }
     },
     "metadata": {},
     "output_type": "display_data"
    },
    {
     "data": {
      "text/plain": "  0%|          | 0/10 [00:00<?, ?it/s]",
      "application/vnd.jupyter.widget-view+json": {
       "version_major": 2,
       "version_minor": 0,
       "model_id": "7c52e44f9b5d434d87dccdb71992f10a"
      }
     },
     "metadata": {},
     "output_type": "display_data"
    },
    {
     "data": {
      "text/plain": "  0%|          | 0/10 [00:00<?, ?it/s]",
      "application/vnd.jupyter.widget-view+json": {
       "version_major": 2,
       "version_minor": 0,
       "model_id": "2d273e30636b4fdf8016c65c86484be1"
      }
     },
     "metadata": {},
     "output_type": "display_data"
    },
    {
     "data": {
      "text/plain": "  0%|          | 0/10 [00:00<?, ?it/s]",
      "application/vnd.jupyter.widget-view+json": {
       "version_major": 2,
       "version_minor": 0,
       "model_id": "d6a7628699ff43b6ae8140fe2d227019"
      }
     },
     "metadata": {},
     "output_type": "display_data"
    },
    {
     "data": {
      "text/plain": "  0%|          | 0/10 [00:00<?, ?it/s]",
      "application/vnd.jupyter.widget-view+json": {
       "version_major": 2,
       "version_minor": 0,
       "model_id": "cd258a726ce44866afbfc7a6ce68df53"
      }
     },
     "metadata": {},
     "output_type": "display_data"
    },
    {
     "data": {
      "text/plain": "  0%|          | 0/10 [00:00<?, ?it/s]",
      "application/vnd.jupyter.widget-view+json": {
       "version_major": 2,
       "version_minor": 0,
       "model_id": "8beb17bf072c470b8409a6d8bec217a0"
      }
     },
     "metadata": {},
     "output_type": "display_data"
    },
    {
     "data": {
      "text/plain": "  0%|          | 0/10 [00:00<?, ?it/s]",
      "application/vnd.jupyter.widget-view+json": {
       "version_major": 2,
       "version_minor": 0,
       "model_id": "1cd2e46871b24faa8d2ca6c122d2f046"
      }
     },
     "metadata": {},
     "output_type": "display_data"
    },
    {
     "data": {
      "text/plain": "  0%|          | 0/10 [00:00<?, ?it/s]",
      "application/vnd.jupyter.widget-view+json": {
       "version_major": 2,
       "version_minor": 0,
       "model_id": "bec9f72135ab4e3397b7c09c294dc296"
      }
     },
     "metadata": {},
     "output_type": "display_data"
    },
    {
     "data": {
      "text/plain": "  0%|          | 0/10 [00:00<?, ?it/s]",
      "application/vnd.jupyter.widget-view+json": {
       "version_major": 2,
       "version_minor": 0,
       "model_id": "85d98089744b4f019f32753b0e843af1"
      }
     },
     "metadata": {},
     "output_type": "display_data"
    },
    {
     "data": {
      "text/plain": "  0%|          | 0/10 [00:00<?, ?it/s]",
      "application/vnd.jupyter.widget-view+json": {
       "version_major": 2,
       "version_minor": 0,
       "model_id": "136a19a0d9c94bbfbc03f4a225c2e1b6"
      }
     },
     "metadata": {},
     "output_type": "display_data"
    },
    {
     "data": {
      "text/plain": "  0%|          | 0/10 [00:00<?, ?it/s]",
      "application/vnd.jupyter.widget-view+json": {
       "version_major": 2,
       "version_minor": 0,
       "model_id": "210c9a2c9b6a42a7a62d21b91cadee64"
      }
     },
     "metadata": {},
     "output_type": "display_data"
    },
    {
     "data": {
      "text/plain": "  0%|          | 0/10 [00:00<?, ?it/s]",
      "application/vnd.jupyter.widget-view+json": {
       "version_major": 2,
       "version_minor": 0,
       "model_id": "7f0e5c4d951f4ece8ef4457766111842"
      }
     },
     "metadata": {},
     "output_type": "display_data"
    },
    {
     "data": {
      "text/plain": "  0%|          | 0/10 [00:00<?, ?it/s]",
      "application/vnd.jupyter.widget-view+json": {
       "version_major": 2,
       "version_minor": 0,
       "model_id": "85d49fb33c6c4b2d86761d5da0e150a5"
      }
     },
     "metadata": {},
     "output_type": "display_data"
    },
    {
     "data": {
      "text/plain": "  0%|          | 0/10 [00:00<?, ?it/s]",
      "application/vnd.jupyter.widget-view+json": {
       "version_major": 2,
       "version_minor": 0,
       "model_id": "06b3f066e7fd4fdd86c08be95e69edb5"
      }
     },
     "metadata": {},
     "output_type": "display_data"
    },
    {
     "data": {
      "text/plain": "  0%|          | 0/10 [00:00<?, ?it/s]",
      "application/vnd.jupyter.widget-view+json": {
       "version_major": 2,
       "version_minor": 0,
       "model_id": "01a0b68ff99e4f238b82501601971e0b"
      }
     },
     "metadata": {},
     "output_type": "display_data"
    },
    {
     "data": {
      "text/plain": "  0%|          | 0/10 [00:00<?, ?it/s]",
      "application/vnd.jupyter.widget-view+json": {
       "version_major": 2,
       "version_minor": 0,
       "model_id": "269c0ed82f504846bdca4793702037bc"
      }
     },
     "metadata": {},
     "output_type": "display_data"
    },
    {
     "data": {
      "text/plain": "  0%|          | 0/10 [00:00<?, ?it/s]",
      "application/vnd.jupyter.widget-view+json": {
       "version_major": 2,
       "version_minor": 0,
       "model_id": "f818fc04160744d58655f979865dc6d9"
      }
     },
     "metadata": {},
     "output_type": "display_data"
    },
    {
     "data": {
      "text/plain": "  0%|          | 0/10 [00:00<?, ?it/s]",
      "application/vnd.jupyter.widget-view+json": {
       "version_major": 2,
       "version_minor": 0,
       "model_id": "69e92321e78b4a7b8fd26fa0b10f4a8e"
      }
     },
     "metadata": {},
     "output_type": "display_data"
    },
    {
     "data": {
      "text/plain": "  0%|          | 0/10 [00:00<?, ?it/s]",
      "application/vnd.jupyter.widget-view+json": {
       "version_major": 2,
       "version_minor": 0,
       "model_id": "0e6bb46482154a51b93c92900bd818cc"
      }
     },
     "metadata": {},
     "output_type": "display_data"
    },
    {
     "data": {
      "text/plain": "  0%|          | 0/10 [00:00<?, ?it/s]",
      "application/vnd.jupyter.widget-view+json": {
       "version_major": 2,
       "version_minor": 0,
       "model_id": "8e54f7a7535b4ded863ad699e3333299"
      }
     },
     "metadata": {},
     "output_type": "display_data"
    },
    {
     "data": {
      "text/plain": "  0%|          | 0/10 [00:00<?, ?it/s]",
      "application/vnd.jupyter.widget-view+json": {
       "version_major": 2,
       "version_minor": 0,
       "model_id": "ceb4c7f4efd74aa1aaf28fea98b743bc"
      }
     },
     "metadata": {},
     "output_type": "display_data"
    },
    {
     "data": {
      "text/plain": "  0%|          | 0/10 [00:00<?, ?it/s]",
      "application/vnd.jupyter.widget-view+json": {
       "version_major": 2,
       "version_minor": 0,
       "model_id": "9ac88018d5134f26a5a37fd86b972fa7"
      }
     },
     "metadata": {},
     "output_type": "display_data"
    },
    {
     "data": {
      "text/plain": "  0%|          | 0/10 [00:00<?, ?it/s]",
      "application/vnd.jupyter.widget-view+json": {
       "version_major": 2,
       "version_minor": 0,
       "model_id": "215bdfbeda0841bab574bd9a24670c4a"
      }
     },
     "metadata": {},
     "output_type": "display_data"
    },
    {
     "data": {
      "text/plain": "  0%|          | 0/10 [00:00<?, ?it/s]",
      "application/vnd.jupyter.widget-view+json": {
       "version_major": 2,
       "version_minor": 0,
       "model_id": "9518d75b4dff449a88d31183459563fa"
      }
     },
     "metadata": {},
     "output_type": "display_data"
    },
    {
     "data": {
      "text/plain": "  0%|          | 0/10 [00:00<?, ?it/s]",
      "application/vnd.jupyter.widget-view+json": {
       "version_major": 2,
       "version_minor": 0,
       "model_id": "8a05bdee52e64fc88cd8ab1c07cd9272"
      }
     },
     "metadata": {},
     "output_type": "display_data"
    },
    {
     "data": {
      "text/plain": "{'param_set_0': {'params': {'alpha': 1,\n   'factors': 64,\n   'iterations': 10,\n   'regularization': 0.1},\n  'Fold 0': {'map': 0.12627929513101524, 'precision': 0.2711832656884171},\n  'Fold 1': {'map': 0.12435986086237671, 'precision': 0.2696195835136825},\n  'Fold 2': {'map': 0.12480084285842709, 'precision': 0.2701038251628418},\n  'Fold 3': {'map': 0.1255059334676894, 'precision': 0.270670076824707},\n  'Fold 4': {'map': 0.12473055966269925, 'precision': 0.27074839732046385},\n  'mean': {'map': 0.12513529839644155, 'precision': 0.27046502970202246},\n  'std': {'map': 0.0006816269072580078, 'precision': 0.0005446930215007259}},\n 'param_set_1': {'params': {'alpha': 10,\n   'factors': 64,\n   'iterations': 10,\n   'regularization': 0.1},\n  'Fold 0': {'map': 0.10063684604380418, 'precision': 0.2488100098465381},\n  'Fold 1': {'map': 0.1249585139258559, 'precision': 0.2697927187034098},\n  'Fold 2': {'map': 0.12470340146039413, 'precision': 0.26924461553969403},\n  'Fold 3': {'map': 0.12393360174966239, 'precision': 0.2701316308183418},\n  'Fold 4': {'map': 0.12576123239644857, 'precision': 0.2715167230905904},\n  'mean': {'map': 0.11999871911523304, 'precision': 0.26589913959971484},\n  'std': {'map': 0.009698511123150736, 'precision': 0.008577432592743968}},\n 'param_set_2': {'params': {'alpha': 20,\n   'factors': 64,\n   'iterations': 10,\n   'regularization': 0.1},\n  'Fold 0': {'map': 0.08176813100166856, 'precision': 0.2189918105622133},\n  'Fold 1': {'map': 0.12450341420793155, 'precision': 0.2698744769874477},\n  'Fold 2': {'map': 0.12430729977979837, 'precision': 0.2690670135505518},\n  'Fold 3': {'map': 0.12449318038359242, 'precision': 0.2705979635202831},\n  'Fold 4': {'map': 0.12554068260724463, 'precision': 0.2716703882446157},\n  'mean': {'map': 0.11612254159604711, 'precision': 0.2600403305730223},\n  'std': {'map': 0.01718268776046766, 'precision': 0.020542123995578636}},\n 'param_set_3': {'params': {'alpha': 30,\n   'factors': 64,\n   'iterations': 10,\n   'regularization': 0.1},\n  'Fold 0': {'map': 0.07231103482132649, 'precision': 0.19823242633108384},\n  'Fold 1': {'map': 0.12504118233914893, 'precision': 0.26986485836579616},\n  'Fold 2': {'map': 0.1250453722514151, 'precision': 0.26922541532465166},\n  'Fold 3': {'map': 0.12471401524543994, 'precision': 0.27012201571108524},\n  'Fold 4': {'map': 0.12530520533194275, 'precision': 0.27037383850752716},\n  'mean': {'map': 0.11448336199785465, 'precision': 0.2555637108480288},\n  'std': {'map': 0.021086997744863414, 'precision': 0.02866818897548551}},\n 'param_set_4': {'params': {'alpha': 40,\n   'factors': 64,\n   'iterations': 10,\n   'regularization': 0.1},\n  'Fold 0': {'map': 0.06271017157440158, 'precision': 0.17946156247748504},\n  'Fold 1': {'map': 0.12500102454476722, 'precision': 0.2697446255951522},\n  'Fold 2': {'map': 0.12489080065543022, 'precision': 0.2694270175825969},\n  'Fold 3': {'map': 0.12397761368481999, 'precision': 0.2697470265280809},\n  'Fold 4': {'map': 0.125130838818474, 'precision': 0.2715791495594132},\n  'mean': {'map': 0.11234208985557861, 'precision': 0.2519918763485457},\n  'std': {'map': 0.024819281203490532, 'precision': 0.03627312315098823}},\n 'param_set_5': {'params': {'alpha': 50,\n   'factors': 64,\n   'iterations': 10,\n   'regularization': 0.1},\n  'Fold 0': {'map': 0.05688729898308199, 'precision': 0.166382477965369},\n  'Fold 1': {'map': 0.1243539942950585, 'precision': 0.26996104458231135},\n  'Fold 2': {'map': 0.1252554103570191, 'precision': 0.27063183107650807},\n  'Fold 3': {'map': 0.12305813358855758, 'precision': 0.26811726584810053},\n  'Fold 4': {'map': 0.12421150588179536, 'precision': 0.2695238781243247},\n  'mean': {'map': 0.11075326862110249, 'precision': 0.24892329951932277},\n  'std': {'map': 0.02694204294727247, 'precision': 0.041278629979197144}}}"
     },
     "execution_count": 58,
     "metadata": {},
     "output_type": "execute_result"
    }
   ],
   "source": [
    "grid.fit(dataset.item_user)\n",
    "grid.get_result(show=False)"
   ],
   "metadata": {
    "collapsed": false,
    "pycharm": {
     "name": "#%%\n"
    }
   }
  },
  {
   "cell_type": "code",
   "execution_count": 59,
   "outputs": [
    {
     "data": {
      "text/plain": "   alpha  factors  iterations  regularization    Fold 0    Fold 1    Fold 2  \\\n0      1       64          10             0.1  0.126279  0.124360  0.124801   \n1     10       64          10             0.1  0.100637  0.124959  0.124703   \n2     20       64          10             0.1  0.081768  0.124503  0.124307   \n3     30       64          10             0.1  0.072311  0.125041  0.125045   \n4     40       64          10             0.1  0.062710  0.125001  0.124891   \n5     50       64          10             0.1  0.056887  0.124354  0.125255   \n\n     Fold 3    Fold 4      mean       std  \n0  0.125506  0.124731  0.125135  0.000682  \n1  0.123934  0.125761  0.119999  0.009699  \n2  0.124493  0.125541  0.116123  0.017183  \n3  0.124714  0.125305  0.114483  0.021087  \n4  0.123978  0.125131  0.112342  0.024819  \n5  0.123058  0.124212  0.110753  0.026942  ",
      "text/html": "<div>\n<style scoped>\n    .dataframe tbody tr th:only-of-type {\n        vertical-align: middle;\n    }\n\n    .dataframe tbody tr th {\n        vertical-align: top;\n    }\n\n    .dataframe thead th {\n        text-align: right;\n    }\n</style>\n<table border=\"1\" class=\"dataframe\">\n  <thead>\n    <tr style=\"text-align: right;\">\n      <th></th>\n      <th>alpha</th>\n      <th>factors</th>\n      <th>iterations</th>\n      <th>regularization</th>\n      <th>Fold 0</th>\n      <th>Fold 1</th>\n      <th>Fold 2</th>\n      <th>Fold 3</th>\n      <th>Fold 4</th>\n      <th>mean</th>\n      <th>std</th>\n    </tr>\n  </thead>\n  <tbody>\n    <tr>\n      <th>0</th>\n      <td>1</td>\n      <td>64</td>\n      <td>10</td>\n      <td>0.1</td>\n      <td>0.126279</td>\n      <td>0.124360</td>\n      <td>0.124801</td>\n      <td>0.125506</td>\n      <td>0.124731</td>\n      <td>0.125135</td>\n      <td>0.000682</td>\n    </tr>\n    <tr>\n      <th>1</th>\n      <td>10</td>\n      <td>64</td>\n      <td>10</td>\n      <td>0.1</td>\n      <td>0.100637</td>\n      <td>0.124959</td>\n      <td>0.124703</td>\n      <td>0.123934</td>\n      <td>0.125761</td>\n      <td>0.119999</td>\n      <td>0.009699</td>\n    </tr>\n    <tr>\n      <th>2</th>\n      <td>20</td>\n      <td>64</td>\n      <td>10</td>\n      <td>0.1</td>\n      <td>0.081768</td>\n      <td>0.124503</td>\n      <td>0.124307</td>\n      <td>0.124493</td>\n      <td>0.125541</td>\n      <td>0.116123</td>\n      <td>0.017183</td>\n    </tr>\n    <tr>\n      <th>3</th>\n      <td>30</td>\n      <td>64</td>\n      <td>10</td>\n      <td>0.1</td>\n      <td>0.072311</td>\n      <td>0.125041</td>\n      <td>0.125045</td>\n      <td>0.124714</td>\n      <td>0.125305</td>\n      <td>0.114483</td>\n      <td>0.021087</td>\n    </tr>\n    <tr>\n      <th>4</th>\n      <td>40</td>\n      <td>64</td>\n      <td>10</td>\n      <td>0.1</td>\n      <td>0.062710</td>\n      <td>0.125001</td>\n      <td>0.124891</td>\n      <td>0.123978</td>\n      <td>0.125131</td>\n      <td>0.112342</td>\n      <td>0.024819</td>\n    </tr>\n    <tr>\n      <th>5</th>\n      <td>50</td>\n      <td>64</td>\n      <td>10</td>\n      <td>0.1</td>\n      <td>0.056887</td>\n      <td>0.124354</td>\n      <td>0.125255</td>\n      <td>0.123058</td>\n      <td>0.124212</td>\n      <td>0.110753</td>\n      <td>0.026942</td>\n    </tr>\n  </tbody>\n</table>\n</div>"
     },
     "execution_count": 59,
     "metadata": {},
     "output_type": "execute_result"
    }
   ],
   "source": [
    "inf = grid.get_result(show=False, filter_metric='map')\n",
    "df = pd.DataFrame(inf)\n",
    "df"
   ],
   "metadata": {
    "collapsed": false,
    "pycharm": {
     "name": "#%%\n"
    }
   }
  },
  {
   "cell_type": "code",
   "execution_count": 5,
   "outputs": [
    {
     "name": "stdout",
     "output_type": "stream",
     "text": [
      "alpha              1.000000\n",
      "factors           64.000000\n",
      "iterations        10.000000\n",
      "regularization     0.100000\n",
      "Fold 0             0.130713\n",
      "Fold 1             0.127383\n",
      "Fold 2             0.128475\n",
      "Fold 3             0.129593\n",
      "Fold 4             0.129868\n",
      "mean               0.129206\n",
      "std                0.001159\n",
      "Name: 213, dtype: float64\n"
     ]
    }
   ],
   "source": [
    "df = pd.read_csv(\"T:/SubredditDataset/Gridsearch_new.csv\")\n",
    "best = df.iloc[df['mean'].argmax()]\n",
    "print(best)"
   ],
   "metadata": {
    "collapsed": false,
    "pycharm": {
     "name": "#%%\n"
    }
   }
  },
  {
   "cell_type": "code",
   "execution_count": 48,
   "outputs": [
    {
     "data": {
      "text/plain": "  0%|          | 0/10 [00:00<?, ?it/s]",
      "application/vnd.jupyter.widget-view+json": {
       "version_major": 2,
       "version_minor": 0,
       "model_id": "f40b309e2ea5410fb1b460c61226bf33"
      }
     },
     "metadata": {},
     "output_type": "display_data"
    }
   ],
   "source": [
    "# , **grid.get_best()['map'][1]\n",
    "best_model = AlternatingLeastSquares(regularization=0.01,\n",
    "                                     iterations=10,\n",
    "                                     factors=32)\n",
    "best_model.fit(dataset.item_user)"
   ],
   "metadata": {
    "collapsed": false,
    "pycharm": {
     "name": "#%%\n"
    }
   }
  },
  {
   "cell_type": "code",
   "execution_count": 49,
   "outputs": [
    {
     "name": "stdout",
     "output_type": "stream",
     "text": [
      "1  Python              1.000\n",
      "2  learnpython         0.939\n",
      "3  learnprogramming    0.906\n",
      "4  webdev              0.882\n",
      "5  programming         0.871\n",
      "6  web_design          0.863\n",
      "7  programminghorror   0.843\n",
      "8  javascript          0.831\n",
      "9  linux4noobs         0.817\n",
      "10 Wordpress           0.817\n"
     ]
    }
   ],
   "source": [
    "reddit = \"Python\"\n",
    "sitems = best_model.similar_items(dataset.get_item_id(reddit), N=10)\n",
    "\n",
    "for i, (idx, dist) in enumerate(sitems):\n",
    "    print(\"{0:<3}{1:<20}{2:.3f}\".format(i + 1, dataset.get_item(idx), dist))\n"
   ],
   "metadata": {
    "collapsed": false,
    "pycharm": {
     "name": "#%%\n"
    }
   }
  },
  {
   "cell_type": "code",
   "execution_count": 18,
   "outputs": [
    {
     "name": "stdout",
     "output_type": "stream",
     "text": [
      "1  britishproblems     0.849\n",
      "2  UKPersonalFinance   0.723\n",
      "3  CoronavirusUK       0.704\n",
      "4  london              0.704\n",
      "5  Scotland            0.703\n",
      "6  politics            0.628\n",
      "7  soccer              0.554\n",
      "8  LegalAdviceUK       0.541\n",
      "9  brexit              0.521\n",
      "10 videos              0.508\n",
      "------------------------------\n",
      "True feedback:\n",
      "unitedkingdom          661\n",
      "ukpolitics             89 \n",
      "europe                 46 \n",
      "worldnews              9  \n",
      "CasualUK               6  \n",
      "ModSupport             6  \n",
      "PoliticalDiscussion    6  \n",
      "Roadcam                6  \n",
      "AskUK                  5  \n",
      "de                     5  \n",
      "news                   3  \n",
      "Showerthoughts         2  \n",
      "aww                    2  \n",
      "france                 2  \n",
      "nottheonion            2  \n",
      "todayilearned          2  \n",
      "AskReddit              1  \n",
      "ich_iel                1  \n",
      "space                  1  \n"
     ]
    }
   ],
   "source": [
    "user = \"-ah\"  # -ah IncognitoCumShot\n",
    "userid = dataset.get_user_id(user)\n",
    "\n",
    "rec = best_model.recommend(userid, dataset.user_item, N=10, filter_already_liked_items=True)\n",
    "\n",
    "for i, (idx, dist) in enumerate(rec):\n",
    "    print(\"{0:<3}{1:<20}{2:.3f}\".format(i + 1, dataset.get_item(idx), dist))\n",
    "print(\"-\" * 30)\n",
    "print(\"True feedback:\")\n",
    "for subreddit, rating in sorted(zip(dataset.user_item.getrow(userid).indices,\n",
    "                                    dataset.user_item.getrow(userid).data), key=lambda x: x[1],\n",
    "                                reverse=True):\n",
    "    print(\"{0:<23}{1:<3}\".format(dataset.get_item(subreddit), rating))"
   ],
   "metadata": {
    "collapsed": false,
    "pycharm": {
     "name": "#%%\n"
    }
   }
  },
  {
   "cell_type": "markdown",
   "source": [
    "Testing Cosine Neighbours"
   ],
   "metadata": {
    "collapsed": false
   }
  },
  {
   "cell_type": "code",
   "execution_count": 63,
   "outputs": [
    {
     "name": "stdout",
     "output_type": "stream",
     "text": [
      "Number of parameters combinations in grid: 1\n"
     ]
    }
   ],
   "source": [
    "\n",
    "neighbour_model = CosineRecommender\n",
    "\n",
    "parameter = dict(K=list(range(191, 201, 10)))\n",
    "grid = GridSearchCV(algo=neighbour_model,\n",
    "                    param_grid=parameter,\n",
    "                    cv=5,  # Number of folds in cross validation\n",
    "                    eval_k=10,  # Number of Top items to check in validation\n",
    "                    metrics=['map', 'precision'],  # the metrics to use\n",
    "                    random_state=0)\n",
    "print(\"Number of parameters combinations in grid:\", len(grid))"
   ],
   "metadata": {
    "collapsed": false,
    "pycharm": {
     "name": "#%%\n"
    }
   }
  },
  {
   "cell_type": "code",
   "execution_count": 65,
   "outputs": [
    {
     "data": {
      "text/plain": "{'param_set_0': {'params': {'K': 191},\n  'Fold 0': {'map': 0.08446494289922978, 'precision': 0.17294201417912758},\n  'Fold 1': {'map': 0.0828053443133263, 'precision': 0.17167078770752384},\n  'Fold 2': {'map': 0.08415020210528971, 'precision': 0.1727898753024381},\n  'Fold 3': {'map': 0.08344882702446713, 'precision': 0.17319929050743602},\n  'Fold 4': {'map': 0.08478858616009882, 'precision': 0.17471788625969378},\n  'mean': {'map': 0.08393158050048234, 'precision': 0.17306397079124386},\n  'std': {'map': 0.0007166852060654527, 'precision': 0.0009782339862583421}}}"
     },
     "execution_count": 64,
     "metadata": {},
     "output_type": "execute_result"
    },
    {
     "data": {
      "text/plain": "  0%|          | 0/2483 [00:00<?, ?it/s]",
      "application/vnd.jupyter.widget-view+json": {
       "version_major": 2,
       "version_minor": 0,
       "model_id": "328b64ea1e1e436f96340aaf6ea73223"
      }
     },
     "metadata": {},
     "output_type": "display_data"
    },
    {
     "data": {
      "text/plain": "  0%|          | 0/2483 [00:00<?, ?it/s]",
      "application/vnd.jupyter.widget-view+json": {
       "version_major": 2,
       "version_minor": 0,
       "model_id": "1bad72ea2afb446a967db260e066c8c5"
      }
     },
     "metadata": {},
     "output_type": "display_data"
    },
    {
     "data": {
      "text/plain": "  0%|          | 0/2483 [00:00<?, ?it/s]",
      "application/vnd.jupyter.widget-view+json": {
       "version_major": 2,
       "version_minor": 0,
       "model_id": "1a27749a63744fa0b7ab58af8c159961"
      }
     },
     "metadata": {},
     "output_type": "display_data"
    },
    {
     "data": {
      "text/plain": "  0%|          | 0/2483 [00:00<?, ?it/s]",
      "application/vnd.jupyter.widget-view+json": {
       "version_major": 2,
       "version_minor": 0,
       "model_id": "6295915655ba45568a13031a99f949f3"
      }
     },
     "metadata": {},
     "output_type": "display_data"
    },
    {
     "data": {
      "text/plain": "  0%|          | 0/2483 [00:00<?, ?it/s]",
      "application/vnd.jupyter.widget-view+json": {
       "version_major": 2,
       "version_minor": 0,
       "model_id": "0a782d7e05664368b9c97bda7bc65581"
      }
     },
     "metadata": {},
     "output_type": "display_data"
    },
    {
     "data": {
      "text/plain": "{'param_set_0': {'params': {'K': 191},\n  'Fold 0': {'map': 0.08446494289922978, 'precision': 0.17294201417912758},\n  'Fold 1': {'map': 0.0828053443133263, 'precision': 0.17167078770752384},\n  'Fold 2': {'map': 0.08415020210528971, 'precision': 0.1727898753024381},\n  'Fold 3': {'map': 0.08344882702446713, 'precision': 0.17319929050743602},\n  'Fold 4': {'map': 0.08478858616009882, 'precision': 0.17471788625969378},\n  'mean': {'map': 0.08393158050048234, 'precision': 0.17306397079124386},\n  'std': {'map': 0.0007166852060654527, 'precision': 0.0009782339862583421}}}"
     },
     "execution_count": 65,
     "metadata": {},
     "output_type": "execute_result"
    }
   ],
   "source": [
    "grid.fit(dataset.item_user.astype(float))\n",
    "grid.get_result(show=False)\n"
   ],
   "metadata": {
    "collapsed": false,
    "pycharm": {
     "name": "#%%\n"
    }
   }
  },
  {
   "cell_type": "code",
   "execution_count": 66,
   "outputs": [
    {
     "data": {
      "text/plain": "     K    Fold 0    Fold 1   Fold 2    Fold 3    Fold 4      mean       std\n0  191  0.084465  0.082805  0.08415  0.083449  0.084789  0.083932  0.000717",
      "text/html": "<div>\n<style scoped>\n    .dataframe tbody tr th:only-of-type {\n        vertical-align: middle;\n    }\n\n    .dataframe tbody tr th {\n        vertical-align: top;\n    }\n\n    .dataframe thead th {\n        text-align: right;\n    }\n</style>\n<table border=\"1\" class=\"dataframe\">\n  <thead>\n    <tr style=\"text-align: right;\">\n      <th></th>\n      <th>K</th>\n      <th>Fold 0</th>\n      <th>Fold 1</th>\n      <th>Fold 2</th>\n      <th>Fold 3</th>\n      <th>Fold 4</th>\n      <th>mean</th>\n      <th>std</th>\n    </tr>\n  </thead>\n  <tbody>\n    <tr>\n      <th>0</th>\n      <td>191</td>\n      <td>0.084465</td>\n      <td>0.082805</td>\n      <td>0.08415</td>\n      <td>0.083449</td>\n      <td>0.084789</td>\n      <td>0.083932</td>\n      <td>0.000717</td>\n    </tr>\n  </tbody>\n</table>\n</div>"
     },
     "execution_count": 66,
     "metadata": {},
     "output_type": "execute_result"
    }
   ],
   "source": [
    "inf = grid.get_result(show=False, filter_metric='map')\n",
    "df = pd.DataFrame(inf)\n",
    "#df.to_csv(\"nearst_neigh_grid.csv\", index=False)\n",
    "df"
   ],
   "metadata": {
    "collapsed": false,
    "pycharm": {
     "name": "#%%\n"
    }
   }
  },
  {
   "cell_type": "code",
   "execution_count": 42,
   "outputs": [
    {
     "data": {
      "text/plain": "  0%|          | 0/2483 [00:00<?, ?it/s]",
      "application/vnd.jupyter.widget-view+json": {
       "version_major": 2,
       "version_minor": 0,
       "model_id": "5e5bf08fa9774698a3a294e905224bc0"
      }
     },
     "metadata": {},
     "output_type": "display_data"
    }
   ],
   "source": [
    "m = TFIDFRecommender(K=200)\n",
    "m.fit(dataset.item_user.astype(float))"
   ],
   "metadata": {
    "collapsed": false,
    "pycharm": {
     "name": "#%%\n"
    }
   }
  },
  {
   "cell_type": "code",
   "execution_count": 43,
   "outputs": [
    {
     "name": "stdout",
     "output_type": "stream",
     "text": [
      "1  Python              1.000\n",
      "2  learnpython         0.338\n",
      "3  programming         0.173\n",
      "4  CryptoMarkets       0.154\n",
      "5  learnprogramming    0.147\n",
      "6  ProgrammerHumor     0.142\n",
      "7  linux               0.104\n",
      "8  javascript          0.073\n",
      "9  linux4noobs         0.068\n",
      "10 raspberry_pi        0.066\n"
     ]
    }
   ],
   "source": [
    "reddit = \"Python\"\n",
    "sitems = m.similar_items(dataset.get_item_id(reddit), N=10)\n",
    "\n",
    "for i, (idx, dist) in enumerate(sitems):\n",
    "    print(\"{0:<3}{1:<20}{2:.3f}\".format(i + 1, dataset.get_item(idx), dist))"
   ],
   "metadata": {
    "collapsed": false,
    "pycharm": {
     "name": "#%%\n"
    }
   }
  },
  {
   "cell_type": "code",
   "execution_count": 125,
   "outputs": [
    {
     "data": {
      "text/plain": "<3224x34563 sparse matrix of type '<class 'numpy.float64'>'\n\twith 1284519 stored elements in COOrdinate format>"
     },
     "execution_count": 125,
     "metadata": {},
     "output_type": "execute_result"
    }
   ],
   "source": [
    "\n"
   ],
   "metadata": {
    "collapsed": false,
    "pycharm": {
     "name": "#%%\n"
    }
   }
  }
 ],
 "metadata": {
  "kernelspec": {
   "display_name": "Python 3",
   "language": "python",
   "name": "python3"
  },
  "language_info": {
   "codemirror_mode": {
    "name": "ipython",
    "version": 2
   },
   "file_extension": ".py",
   "mimetype": "text/x-python",
   "name": "python",
   "nbconvert_exporter": "python",
   "pygments_lexer": "ipython2",
   "version": "2.7.6"
  }
 },
 "nbformat": 4,
 "nbformat_minor": 0
}