{
 "cells": [
  {
   "cell_type": "code",
   "execution_count": 124,
   "metadata": {
    "collapsed": true
   },
   "outputs": [],
   "source": [
    "import pandas as pd\n",
    "from implicit.als import AlternatingLeastSquares\n",
    "from implicit.evaluation import mean_average_precision_at_k, ranking_metrics_at_k\n",
    "\n",
    "from dataset import Dataset\n",
    "from model_selection import GridSearchCV, KFold\n",
    "from model_wrapper import ModelWrapper\n",
    "\n",
    "from implicit.nearest_neighbours import CosineRecommender, normalize\n",
    "\n",
    "import matplotlib.pyplot as plt\n",
    "\n",
    "plt.rcParams['figure.facecolor'] = 'white'"
   ]
  },
  {
   "cell_type": "code",
   "execution_count": 3,
   "outputs": [
    {
     "name": "stdout",
     "output_type": "stream",
     "text": [
      "Loading csv.\n",
      "Creating pivot.\n"
     ]
    }
   ],
   "source": [
    "dataset = Dataset.from_csv(\"C:/Users/TS/PycharmProjects/DS1-RecommendationSystems/data.csv\",\n",
    "                           user=\"user\", item=\"subreddit\", rating='count')"
   ],
   "metadata": {
    "collapsed": false,
    "pycharm": {
     "name": "#%%\n"
    }
   }
  },
  {
   "cell_type": "code",
   "execution_count": 78,
   "outputs": [
    {
     "name": "stdout",
     "output_type": "stream",
     "text": [
      "Number of parameters combinations in grid: 1\n"
     ]
    }
   ],
   "source": [
    "model = AlternatingLeastSquares\n",
    "\n",
    "parameter = dict(iterations=[10],\n",
    "                 factors=[64],\n",
    "                 alpha=[1],\n",
    "                 regularization=[0.1],\n",
    "                 )\n",
    "grid = GridSearchCV(algo=model,\n",
    "                    param_grid=parameter,\n",
    "                    cv=5,  # Number of folds in cross validation\n",
    "                    eval_k=20,  # Number of Top items to check in validation\n",
    "                    metrics=['map', 'precision'],  # the metrics to use\n",
    "                    random_state=0)\n",
    "print(\"Number of parameters combinations in grid:\", len(grid))"
   ],
   "metadata": {
    "collapsed": false,
    "pycharm": {
     "name": "#%%\n"
    }
   }
  },
  {
   "cell_type": "code",
   "execution_count": 77,
   "outputs": [
    {
     "data": {
      "text/plain": "  0%|          | 0/10 [00:00<?, ?it/s]",
      "application/vnd.jupyter.widget-view+json": {
       "version_major": 2,
       "version_minor": 0,
       "model_id": "5f39b8465eca487498a3c2a4daff54f2"
      }
     },
     "metadata": {},
     "output_type": "display_data"
    },
    {
     "data": {
      "text/plain": "  0%|          | 0/10 [00:00<?, ?it/s]",
      "application/vnd.jupyter.widget-view+json": {
       "version_major": 2,
       "version_minor": 0,
       "model_id": "c58a4b2c821a4fe8995cd07b5ef6ef9a"
      }
     },
     "metadata": {},
     "output_type": "display_data"
    },
    {
     "data": {
      "text/plain": "  0%|          | 0/10 [00:00<?, ?it/s]",
      "application/vnd.jupyter.widget-view+json": {
       "version_major": 2,
       "version_minor": 0,
       "model_id": "d6b48a7013a54a3b92af569717ba88a2"
      }
     },
     "metadata": {},
     "output_type": "display_data"
    },
    {
     "data": {
      "text/plain": "  0%|          | 0/10 [00:00<?, ?it/s]",
      "application/vnd.jupyter.widget-view+json": {
       "version_major": 2,
       "version_minor": 0,
       "model_id": "4c37372ff9b3461a88a30e1152f4e8aa"
      }
     },
     "metadata": {},
     "output_type": "display_data"
    },
    {
     "data": {
      "text/plain": "  0%|          | 0/10 [00:00<?, ?it/s]",
      "application/vnd.jupyter.widget-view+json": {
       "version_major": 2,
       "version_minor": 0,
       "model_id": "ae55fc9a28934337b867e5f13d4c70c5"
      }
     },
     "metadata": {},
     "output_type": "display_data"
    },
    {
     "data": {
      "text/plain": "{'param_set_0': {'params': {'alpha': 1,\n   'factors': 64,\n   'iterations': 10,\n   'regularization': 0.1},\n  'Fold 0': {'map': 0.12847238237923747, 'precision': 0.23237576538129906},\n  'Fold 1': {'map': 0.12816494833311556, 'precision': 0.23295454545454544},\n  'Fold 2': {'map': 0.1311190490954621, 'precision': 0.23469793430963026},\n  'Fold 3': {'map': 0.1283675372795771, 'precision': 0.232661375978387},\n  'Fold 4': {'map': 0.13022042512699, 'precision': 0.2335801393728223},\n  'mean': {'map': 0.12926886844287644, 'precision': 0.2332539520993368},\n  'std': {'map': 0.001182713498233923, 'precision': 0.0008250436922770743}}}"
     },
     "execution_count": 77,
     "metadata": {},
     "output_type": "execute_result"
    }
   ],
   "source": [
    "grid.fit(dataset.item_user)\n",
    "grid.get_result(show=False)"
   ],
   "metadata": {
    "collapsed": false,
    "pycharm": {
     "name": "#%%\n"
    }
   }
  },
  {
   "cell_type": "code",
   "execution_count": 52,
   "outputs": [
    {
     "data": {
      "text/plain": "   alpha  factors  iterations  regularization    Fold 0    Fold 1    Fold 2  \\\n0      1       64           5           0.010  0.125840  0.124978  0.123817   \n1      1       64           5           1.000  0.126453  0.124971  0.124607   \n2      1       64           5           0.001  0.124098  0.120606  0.122643   \n3      1       64           5           0.100  0.129130  0.127581  0.127489   \n\n     Fold 3    Fold 4      mean       std  \n0  0.126122  0.125970  0.125346  0.000861  \n1  0.125668  0.126584  0.125657  0.000783  \n2  0.123171  0.122291  0.122562  0.001152  \n3  0.128568  0.128250  0.128203  0.000615  ",
      "text/html": "<div>\n<style scoped>\n    .dataframe tbody tr th:only-of-type {\n        vertical-align: middle;\n    }\n\n    .dataframe tbody tr th {\n        vertical-align: top;\n    }\n\n    .dataframe thead th {\n        text-align: right;\n    }\n</style>\n<table border=\"1\" class=\"dataframe\">\n  <thead>\n    <tr style=\"text-align: right;\">\n      <th></th>\n      <th>alpha</th>\n      <th>factors</th>\n      <th>iterations</th>\n      <th>regularization</th>\n      <th>Fold 0</th>\n      <th>Fold 1</th>\n      <th>Fold 2</th>\n      <th>Fold 3</th>\n      <th>Fold 4</th>\n      <th>mean</th>\n      <th>std</th>\n    </tr>\n  </thead>\n  <tbody>\n    <tr>\n      <th>0</th>\n      <td>1</td>\n      <td>64</td>\n      <td>5</td>\n      <td>0.010</td>\n      <td>0.125840</td>\n      <td>0.124978</td>\n      <td>0.123817</td>\n      <td>0.126122</td>\n      <td>0.125970</td>\n      <td>0.125346</td>\n      <td>0.000861</td>\n    </tr>\n    <tr>\n      <th>1</th>\n      <td>1</td>\n      <td>64</td>\n      <td>5</td>\n      <td>1.000</td>\n      <td>0.126453</td>\n      <td>0.124971</td>\n      <td>0.124607</td>\n      <td>0.125668</td>\n      <td>0.126584</td>\n      <td>0.125657</td>\n      <td>0.000783</td>\n    </tr>\n    <tr>\n      <th>2</th>\n      <td>1</td>\n      <td>64</td>\n      <td>5</td>\n      <td>0.001</td>\n      <td>0.124098</td>\n      <td>0.120606</td>\n      <td>0.122643</td>\n      <td>0.123171</td>\n      <td>0.122291</td>\n      <td>0.122562</td>\n      <td>0.001152</td>\n    </tr>\n    <tr>\n      <th>3</th>\n      <td>1</td>\n      <td>64</td>\n      <td>5</td>\n      <td>0.100</td>\n      <td>0.129130</td>\n      <td>0.127581</td>\n      <td>0.127489</td>\n      <td>0.128568</td>\n      <td>0.128250</td>\n      <td>0.128203</td>\n      <td>0.000615</td>\n    </tr>\n  </tbody>\n</table>\n</div>"
     },
     "execution_count": 52,
     "metadata": {},
     "output_type": "execute_result"
    }
   ],
   "source": [
    "inf = grid.get_result(show=False, filter_metric='map')\n",
    "df = pd.DataFrame(inf)"
   ],
   "metadata": {
    "collapsed": false,
    "pycharm": {
     "name": "#%%\n"
    }
   }
  },
  {
   "cell_type": "code",
   "execution_count": 75,
   "outputs": [
    {
     "name": "stdout",
     "output_type": "stream",
     "text": [
      "alpha              1.000000\n",
      "factors           64.000000\n",
      "iterations        10.000000\n",
      "regularization     0.100000\n",
      "Fold 0             0.130713\n",
      "Fold 1             0.127383\n",
      "Fold 2             0.128475\n",
      "Fold 3             0.129593\n",
      "Fold 4             0.129868\n",
      "mean               0.129206\n",
      "std                0.001159\n",
      "Name: 213, dtype: float64\n"
     ]
    }
   ],
   "source": [
    "df = pd.read_csv(\"T:/Gridsearch_new.csv\")\n",
    "best = df.iloc[df['mean'].argmax()]\n",
    "print(best)"
   ],
   "metadata": {
    "collapsed": false,
    "pycharm": {
     "name": "#%%\n"
    }
   }
  },
  {
   "cell_type": "code",
   "execution_count": 65,
   "outputs": [
    {
     "data": {
      "text/plain": "  0%|          | 0/10 [00:00<?, ?it/s]",
      "application/vnd.jupyter.widget-view+json": {
       "version_major": 2,
       "version_minor": 0,
       "model_id": "9a46dbabe1584881b18cd97855fde70d"
      }
     },
     "metadata": {},
     "output_type": "display_data"
    }
   ],
   "source": [
    "# , **grid.get_best()['map'][1]\n",
    "best_model = ModelWrapper(dataset, alpha=best.alpha, regularization=best.regularization,\n",
    "                          iterations=int(best.iterations),\n",
    "                          factors=int(best.factors))\n",
    "best_model.fit()\n"
   ],
   "metadata": {
    "collapsed": false,
    "pycharm": {
     "name": "#%%\n"
    }
   }
  },
  {
   "cell_type": "code",
   "execution_count": 80,
   "outputs": [
    {
     "name": "stdout",
     "output_type": "stream",
     "text": [
      "1  nba                 1.000\n",
      "2  nfl                 0.655\n",
      "3  lakers              0.538\n",
      "4  baseball            0.469\n",
      "5  warriors            0.469\n",
      "6  nbadiscussion       0.456\n",
      "7  sports              0.449\n",
      "8  fantasyfootball     0.429\n",
      "9  NBA2k               0.415\n",
      "10 CollegeBasketball   0.408\n"
     ]
    },
    {
     "data": {
      "text/plain": "[(2549, 1.0000001),\n (2565, 0.65475285),\n (2387, 0.5382221),\n (1728, 0.4692666),\n (3126, 0.4686325),\n (2551, 0.4564415),\n (2915, 0.44869167),\n (2086, 0.42884588),\n (1014, 0.41529006),\n (334, 0.4081936)]"
     },
     "execution_count": 80,
     "metadata": {},
     "output_type": "execute_result"
    }
   ],
   "source": [
    "reddit = \"nba\"\n",
    "best_model.similar_items(reddit, N=10, show=True)"
   ],
   "metadata": {
    "collapsed": false,
    "pycharm": {
     "name": "#%%\n"
    }
   }
  },
  {
   "cell_type": "code",
   "execution_count": 81,
   "outputs": [
    {
     "name": "stdout",
     "output_type": "stream",
     "text": [
      "1  Bitcoin             0.743\n",
      "2  pennystocks         0.694\n",
      "3  GME                 0.679\n",
      "4  Superstonk          0.652\n",
      "5  StockMarket         0.586\n",
      "6  ethtrader           0.534\n",
      "7  RobinHoodPennyStocks0.499\n",
      "8  WallStreetbetsELITE 0.489\n",
      "9  politics            0.478\n",
      "10 amcstock            0.472\n",
      "------------------------------\n",
      "True feedback:\n",
      "wallstreetbets         635\n",
      "CryptoCurrency         99 \n",
      "stocks                 18 \n",
      "options                10 \n",
      "interestingasfuck      8  \n",
      "HVAC                   5  \n",
      "Wallstreetbetsnew      5  \n",
      "runescape              4  \n",
      "australia              3  \n",
      "AskReddit              2  \n",
      "AssassinsCreedValhala  2  \n",
      "dogecoin               2  \n",
      "investing              2  \n",
      "pcmasterrace           2  \n",
      "SPACs                  1  \n",
      "gifs                   1  \n",
      "leangains              1  \n",
      "spacex                 1  \n",
      "technology             1  \n",
      "tifu                   1  \n",
      "videos                 1  \n"
     ]
    },
    {
     "data": {
      "text/plain": "[(219, 0.74302477),\n (2652, 0.6936183),\n (603, 0.6790528),\n (1365, 0.65227216),\n (1344, 0.58603936),\n (2059, 0.5336151),\n (1232, 0.49921656),\n (1534, 0.4886002),\n (2692, 0.47838312),\n (1628, 0.47233248)]"
     },
     "execution_count": 81,
     "metadata": {},
     "output_type": "execute_result"
    }
   ],
   "source": [
    "user = \"IncognitoCumShot\"  # -ah IncognitoCumShot\n",
    "best_model.recommend(user, N=10, show=True)"
   ],
   "metadata": {
    "collapsed": false,
    "pycharm": {
     "name": "#%%\n"
    }
   }
  },
  {
   "cell_type": "markdown",
   "source": [
    "Testing Cosine Neighbours"
   ],
   "metadata": {
    "collapsed": false
   }
  },
  {
   "cell_type": "code",
   "execution_count": 105,
   "outputs": [
    {
     "name": "stdout",
     "output_type": "stream",
     "text": [
      "Number of parameters combinations in grid: 20\n"
     ]
    }
   ],
   "source": [
    "\n",
    "neighbour_model = CosineRecommender\n",
    "\n",
    "parameter = dict(K=list(range(10, 201, 10)))\n",
    "grid = GridSearchCV(algo=neighbour_model,\n",
    "                    param_grid=parameter,\n",
    "                    cv=5,  # Number of folds in cross validation\n",
    "                    eval_k=10,  # Number of Top items to check in validation\n",
    "                    metrics=['map', 'precision'],  # the metrics to use\n",
    "                    random_state=0)\n",
    "print(\"Number of parameters combinations in grid:\", len(grid))"
   ],
   "metadata": {
    "collapsed": false,
    "pycharm": {
     "name": "#%%\n"
    }
   }
  },
  {
   "cell_type": "code",
   "execution_count": 106,
   "outputs": [
    {
     "data": {
      "text/plain": "  0%|          | 0/3224 [00:00<?, ?it/s]",
      "application/vnd.jupyter.widget-view+json": {
       "version_major": 2,
       "version_minor": 0,
       "model_id": "1c2a702e33704e6d8024526c3c27b393"
      }
     },
     "metadata": {},
     "output_type": "display_data"
    },
    {
     "data": {
      "text/plain": "  0%|          | 0/3224 [00:00<?, ?it/s]",
      "application/vnd.jupyter.widget-view+json": {
       "version_major": 2,
       "version_minor": 0,
       "model_id": "d8cce1d7951f4b6fa47c1dbb889b1e21"
      }
     },
     "metadata": {},
     "output_type": "display_data"
    },
    {
     "data": {
      "text/plain": "  0%|          | 0/3224 [00:00<?, ?it/s]",
      "application/vnd.jupyter.widget-view+json": {
       "version_major": 2,
       "version_minor": 0,
       "model_id": "5ee7d851970141ac960e1a6c944ada75"
      }
     },
     "metadata": {},
     "output_type": "display_data"
    },
    {
     "data": {
      "text/plain": "  0%|          | 0/3224 [00:00<?, ?it/s]",
      "application/vnd.jupyter.widget-view+json": {
       "version_major": 2,
       "version_minor": 0,
       "model_id": "b071b284535241d698a5962dc3d765e7"
      }
     },
     "metadata": {},
     "output_type": "display_data"
    },
    {
     "data": {
      "text/plain": "  0%|          | 0/3224 [00:00<?, ?it/s]",
      "application/vnd.jupyter.widget-view+json": {
       "version_major": 2,
       "version_minor": 0,
       "model_id": "7f67599f6fda45c3bb0ce9566c1da3f0"
      }
     },
     "metadata": {},
     "output_type": "display_data"
    },
    {
     "data": {
      "text/plain": "  0%|          | 0/3224 [00:00<?, ?it/s]",
      "application/vnd.jupyter.widget-view+json": {
       "version_major": 2,
       "version_minor": 0,
       "model_id": "36f405840e284283aa8998ba4e398719"
      }
     },
     "metadata": {},
     "output_type": "display_data"
    },
    {
     "data": {
      "text/plain": "  0%|          | 0/3224 [00:00<?, ?it/s]",
      "application/vnd.jupyter.widget-view+json": {
       "version_major": 2,
       "version_minor": 0,
       "model_id": "b02a43a20f7e40f4bbdbfd84fbee4f55"
      }
     },
     "metadata": {},
     "output_type": "display_data"
    },
    {
     "data": {
      "text/plain": "  0%|          | 0/3224 [00:00<?, ?it/s]",
      "application/vnd.jupyter.widget-view+json": {
       "version_major": 2,
       "version_minor": 0,
       "model_id": "67830cf207954f0b977ec72683f0fe89"
      }
     },
     "metadata": {},
     "output_type": "display_data"
    },
    {
     "data": {
      "text/plain": "  0%|          | 0/3224 [00:00<?, ?it/s]",
      "application/vnd.jupyter.widget-view+json": {
       "version_major": 2,
       "version_minor": 0,
       "model_id": "1ffc404e5b3146b28fa688e8e850bb43"
      }
     },
     "metadata": {},
     "output_type": "display_data"
    },
    {
     "data": {
      "text/plain": "  0%|          | 0/3224 [00:00<?, ?it/s]",
      "application/vnd.jupyter.widget-view+json": {
       "version_major": 2,
       "version_minor": 0,
       "model_id": "cd1cf98b97324cb39d3a8cdc6a0a988f"
      }
     },
     "metadata": {},
     "output_type": "display_data"
    },
    {
     "data": {
      "text/plain": "  0%|          | 0/3224 [00:00<?, ?it/s]",
      "application/vnd.jupyter.widget-view+json": {
       "version_major": 2,
       "version_minor": 0,
       "model_id": "81e2ec34569a45478fedfeb8cfe26329"
      }
     },
     "metadata": {},
     "output_type": "display_data"
    },
    {
     "data": {
      "text/plain": "  0%|          | 0/3224 [00:00<?, ?it/s]",
      "application/vnd.jupyter.widget-view+json": {
       "version_major": 2,
       "version_minor": 0,
       "model_id": "01b426d6ebae47db804f726c7ce560f8"
      }
     },
     "metadata": {},
     "output_type": "display_data"
    },
    {
     "data": {
      "text/plain": "  0%|          | 0/3224 [00:00<?, ?it/s]",
      "application/vnd.jupyter.widget-view+json": {
       "version_major": 2,
       "version_minor": 0,
       "model_id": "c61a061e79cb462a9fcb5b36543a51ba"
      }
     },
     "metadata": {},
     "output_type": "display_data"
    },
    {
     "data": {
      "text/plain": "  0%|          | 0/3224 [00:00<?, ?it/s]",
      "application/vnd.jupyter.widget-view+json": {
       "version_major": 2,
       "version_minor": 0,
       "model_id": "c4b60a7ed08549369730f50d151fd887"
      }
     },
     "metadata": {},
     "output_type": "display_data"
    },
    {
     "data": {
      "text/plain": "  0%|          | 0/3224 [00:00<?, ?it/s]",
      "application/vnd.jupyter.widget-view+json": {
       "version_major": 2,
       "version_minor": 0,
       "model_id": "1414d369673443d18d01c081756482bf"
      }
     },
     "metadata": {},
     "output_type": "display_data"
    },
    {
     "data": {
      "text/plain": "  0%|          | 0/3224 [00:00<?, ?it/s]",
      "application/vnd.jupyter.widget-view+json": {
       "version_major": 2,
       "version_minor": 0,
       "model_id": "de97d3601c8e41578f4f38334328fedc"
      }
     },
     "metadata": {},
     "output_type": "display_data"
    },
    {
     "data": {
      "text/plain": "  0%|          | 0/3224 [00:00<?, ?it/s]",
      "application/vnd.jupyter.widget-view+json": {
       "version_major": 2,
       "version_minor": 0,
       "model_id": "08d04482900247338c1269054bc63a91"
      }
     },
     "metadata": {},
     "output_type": "display_data"
    },
    {
     "data": {
      "text/plain": "  0%|          | 0/3224 [00:00<?, ?it/s]",
      "application/vnd.jupyter.widget-view+json": {
       "version_major": 2,
       "version_minor": 0,
       "model_id": "7f6f21fcab044430b4d29759e0db521c"
      }
     },
     "metadata": {},
     "output_type": "display_data"
    },
    {
     "data": {
      "text/plain": "  0%|          | 0/3224 [00:00<?, ?it/s]",
      "application/vnd.jupyter.widget-view+json": {
       "version_major": 2,
       "version_minor": 0,
       "model_id": "0bf6f3b52efd4e59b6a1d877d0526c04"
      }
     },
     "metadata": {},
     "output_type": "display_data"
    },
    {
     "data": {
      "text/plain": "  0%|          | 0/3224 [00:00<?, ?it/s]",
      "application/vnd.jupyter.widget-view+json": {
       "version_major": 2,
       "version_minor": 0,
       "model_id": "8504b5d548204d3e83f6600568e319d7"
      }
     },
     "metadata": {},
     "output_type": "display_data"
    },
    {
     "data": {
      "text/plain": "  0%|          | 0/3224 [00:00<?, ?it/s]",
      "application/vnd.jupyter.widget-view+json": {
       "version_major": 2,
       "version_minor": 0,
       "model_id": "1c1df6ea2a1748e6903e4db01f5b972c"
      }
     },
     "metadata": {},
     "output_type": "display_data"
    },
    {
     "data": {
      "text/plain": "  0%|          | 0/3224 [00:00<?, ?it/s]",
      "application/vnd.jupyter.widget-view+json": {
       "version_major": 2,
       "version_minor": 0,
       "model_id": "f86c5692178e4be3a62319cfdd609ae9"
      }
     },
     "metadata": {},
     "output_type": "display_data"
    },
    {
     "data": {
      "text/plain": "  0%|          | 0/3224 [00:00<?, ?it/s]",
      "application/vnd.jupyter.widget-view+json": {
       "version_major": 2,
       "version_minor": 0,
       "model_id": "2437d87fb8d844c2a4e986576a96c6a9"
      }
     },
     "metadata": {},
     "output_type": "display_data"
    },
    {
     "data": {
      "text/plain": "  0%|          | 0/3224 [00:00<?, ?it/s]",
      "application/vnd.jupyter.widget-view+json": {
       "version_major": 2,
       "version_minor": 0,
       "model_id": "2621856b98374f198dcfa73ad9ea4306"
      }
     },
     "metadata": {},
     "output_type": "display_data"
    },
    {
     "data": {
      "text/plain": "  0%|          | 0/3224 [00:00<?, ?it/s]",
      "application/vnd.jupyter.widget-view+json": {
       "version_major": 2,
       "version_minor": 0,
       "model_id": "26fa475e8e9c4cbdb4ce179ad7861acf"
      }
     },
     "metadata": {},
     "output_type": "display_data"
    },
    {
     "data": {
      "text/plain": "  0%|          | 0/3224 [00:00<?, ?it/s]",
      "application/vnd.jupyter.widget-view+json": {
       "version_major": 2,
       "version_minor": 0,
       "model_id": "f5e1f18ffe54489a988797bb1f4027e1"
      }
     },
     "metadata": {},
     "output_type": "display_data"
    },
    {
     "data": {
      "text/plain": "  0%|          | 0/3224 [00:00<?, ?it/s]",
      "application/vnd.jupyter.widget-view+json": {
       "version_major": 2,
       "version_minor": 0,
       "model_id": "13ecea4df1f34fb1962653e20cac7ea6"
      }
     },
     "metadata": {},
     "output_type": "display_data"
    },
    {
     "data": {
      "text/plain": "  0%|          | 0/3224 [00:00<?, ?it/s]",
      "application/vnd.jupyter.widget-view+json": {
       "version_major": 2,
       "version_minor": 0,
       "model_id": "bd112f78bb1b4a2991276406844cb82c"
      }
     },
     "metadata": {},
     "output_type": "display_data"
    },
    {
     "data": {
      "text/plain": "  0%|          | 0/3224 [00:00<?, ?it/s]",
      "application/vnd.jupyter.widget-view+json": {
       "version_major": 2,
       "version_minor": 0,
       "model_id": "fea7b61a02cd4211818af45fad96e39c"
      }
     },
     "metadata": {},
     "output_type": "display_data"
    },
    {
     "data": {
      "text/plain": "  0%|          | 0/3224 [00:00<?, ?it/s]",
      "application/vnd.jupyter.widget-view+json": {
       "version_major": 2,
       "version_minor": 0,
       "model_id": "884f31a965e54fd7ad4b6c91453173bf"
      }
     },
     "metadata": {},
     "output_type": "display_data"
    },
    {
     "data": {
      "text/plain": "  0%|          | 0/3224 [00:00<?, ?it/s]",
      "application/vnd.jupyter.widget-view+json": {
       "version_major": 2,
       "version_minor": 0,
       "model_id": "2d9e7fa01e90476fb5b39a83fe625a11"
      }
     },
     "metadata": {},
     "output_type": "display_data"
    },
    {
     "data": {
      "text/plain": "  0%|          | 0/3224 [00:00<?, ?it/s]",
      "application/vnd.jupyter.widget-view+json": {
       "version_major": 2,
       "version_minor": 0,
       "model_id": "47585297915d4ddeb450a4cd6daec5ab"
      }
     },
     "metadata": {},
     "output_type": "display_data"
    },
    {
     "data": {
      "text/plain": "  0%|          | 0/3224 [00:00<?, ?it/s]",
      "application/vnd.jupyter.widget-view+json": {
       "version_major": 2,
       "version_minor": 0,
       "model_id": "c3c1b3fe0eb0480ba22660a6f9aad68f"
      }
     },
     "metadata": {},
     "output_type": "display_data"
    },
    {
     "data": {
      "text/plain": "  0%|          | 0/3224 [00:00<?, ?it/s]",
      "application/vnd.jupyter.widget-view+json": {
       "version_major": 2,
       "version_minor": 0,
       "model_id": "bb077412402b43af9bc603551b5afcb8"
      }
     },
     "metadata": {},
     "output_type": "display_data"
    },
    {
     "data": {
      "text/plain": "  0%|          | 0/3224 [00:00<?, ?it/s]",
      "application/vnd.jupyter.widget-view+json": {
       "version_major": 2,
       "version_minor": 0,
       "model_id": "f5bd2aadb8b044a2a2f455c92327e189"
      }
     },
     "metadata": {},
     "output_type": "display_data"
    },
    {
     "data": {
      "text/plain": "  0%|          | 0/3224 [00:00<?, ?it/s]",
      "application/vnd.jupyter.widget-view+json": {
       "version_major": 2,
       "version_minor": 0,
       "model_id": "7af65cd490424377ba93f839b02494f3"
      }
     },
     "metadata": {},
     "output_type": "display_data"
    },
    {
     "data": {
      "text/plain": "  0%|          | 0/3224 [00:00<?, ?it/s]",
      "application/vnd.jupyter.widget-view+json": {
       "version_major": 2,
       "version_minor": 0,
       "model_id": "bb4e318c4a444ed5b28891a5cee9458a"
      }
     },
     "metadata": {},
     "output_type": "display_data"
    },
    {
     "data": {
      "text/plain": "  0%|          | 0/3224 [00:00<?, ?it/s]",
      "application/vnd.jupyter.widget-view+json": {
       "version_major": 2,
       "version_minor": 0,
       "model_id": "e336e8cf26c54cd3be52f5eb80aa35dc"
      }
     },
     "metadata": {},
     "output_type": "display_data"
    },
    {
     "data": {
      "text/plain": "  0%|          | 0/3224 [00:00<?, ?it/s]",
      "application/vnd.jupyter.widget-view+json": {
       "version_major": 2,
       "version_minor": 0,
       "model_id": "f050543027bd498ba024ea2af2ed4ba9"
      }
     },
     "metadata": {},
     "output_type": "display_data"
    },
    {
     "data": {
      "text/plain": "  0%|          | 0/3224 [00:00<?, ?it/s]",
      "application/vnd.jupyter.widget-view+json": {
       "version_major": 2,
       "version_minor": 0,
       "model_id": "88345c3000ee4210adb20ba66c00631e"
      }
     },
     "metadata": {},
     "output_type": "display_data"
    },
    {
     "data": {
      "text/plain": "  0%|          | 0/3224 [00:00<?, ?it/s]",
      "application/vnd.jupyter.widget-view+json": {
       "version_major": 2,
       "version_minor": 0,
       "model_id": "0b6a38f8a0f24af19d1e5b2988bafeb0"
      }
     },
     "metadata": {},
     "output_type": "display_data"
    },
    {
     "data": {
      "text/plain": "  0%|          | 0/3224 [00:00<?, ?it/s]",
      "application/vnd.jupyter.widget-view+json": {
       "version_major": 2,
       "version_minor": 0,
       "model_id": "b03f154ac96144dea8d35110c7f3eab2"
      }
     },
     "metadata": {},
     "output_type": "display_data"
    },
    {
     "data": {
      "text/plain": "  0%|          | 0/3224 [00:00<?, ?it/s]",
      "application/vnd.jupyter.widget-view+json": {
       "version_major": 2,
       "version_minor": 0,
       "model_id": "9344aaa6e5f14853bc90a7c9b77c515e"
      }
     },
     "metadata": {},
     "output_type": "display_data"
    },
    {
     "data": {
      "text/plain": "  0%|          | 0/3224 [00:00<?, ?it/s]",
      "application/vnd.jupyter.widget-view+json": {
       "version_major": 2,
       "version_minor": 0,
       "model_id": "ba57e1cd786a4123bb5f20cb26496809"
      }
     },
     "metadata": {},
     "output_type": "display_data"
    },
    {
     "data": {
      "text/plain": "  0%|          | 0/3224 [00:00<?, ?it/s]",
      "application/vnd.jupyter.widget-view+json": {
       "version_major": 2,
       "version_minor": 0,
       "model_id": "f30fc7d481d54d6ba1bc3ad22cd15e08"
      }
     },
     "metadata": {},
     "output_type": "display_data"
    },
    {
     "data": {
      "text/plain": "  0%|          | 0/3224 [00:00<?, ?it/s]",
      "application/vnd.jupyter.widget-view+json": {
       "version_major": 2,
       "version_minor": 0,
       "model_id": "ac1c63c6bbb340768b43276383fff9f6"
      }
     },
     "metadata": {},
     "output_type": "display_data"
    },
    {
     "data": {
      "text/plain": "  0%|          | 0/3224 [00:00<?, ?it/s]",
      "application/vnd.jupyter.widget-view+json": {
       "version_major": 2,
       "version_minor": 0,
       "model_id": "d28503b59dca482193f0e84ceabb6ec3"
      }
     },
     "metadata": {},
     "output_type": "display_data"
    },
    {
     "data": {
      "text/plain": "  0%|          | 0/3224 [00:00<?, ?it/s]",
      "application/vnd.jupyter.widget-view+json": {
       "version_major": 2,
       "version_minor": 0,
       "model_id": "204f9abe6a1a4f6a96ffe73317be9e8f"
      }
     },
     "metadata": {},
     "output_type": "display_data"
    },
    {
     "data": {
      "text/plain": "  0%|          | 0/3224 [00:00<?, ?it/s]",
      "application/vnd.jupyter.widget-view+json": {
       "version_major": 2,
       "version_minor": 0,
       "model_id": "80fdf34e967c4bb4a0199ea2f0388e67"
      }
     },
     "metadata": {},
     "output_type": "display_data"
    },
    {
     "data": {
      "text/plain": "  0%|          | 0/3224 [00:00<?, ?it/s]",
      "application/vnd.jupyter.widget-view+json": {
       "version_major": 2,
       "version_minor": 0,
       "model_id": "ed296ce03a564cbc8f90ce0d6d8d5e0c"
      }
     },
     "metadata": {},
     "output_type": "display_data"
    },
    {
     "data": {
      "text/plain": "  0%|          | 0/3224 [00:00<?, ?it/s]",
      "application/vnd.jupyter.widget-view+json": {
       "version_major": 2,
       "version_minor": 0,
       "model_id": "1901dfddf3314e4a9fdcc8e87cd72d6d"
      }
     },
     "metadata": {},
     "output_type": "display_data"
    },
    {
     "data": {
      "text/plain": "  0%|          | 0/3224 [00:00<?, ?it/s]",
      "application/vnd.jupyter.widget-view+json": {
       "version_major": 2,
       "version_minor": 0,
       "model_id": "58d7251454014422bf0d4757f8bca028"
      }
     },
     "metadata": {},
     "output_type": "display_data"
    },
    {
     "data": {
      "text/plain": "  0%|          | 0/3224 [00:00<?, ?it/s]",
      "application/vnd.jupyter.widget-view+json": {
       "version_major": 2,
       "version_minor": 0,
       "model_id": "7baffc6969134d31865ad2c63f233fd0"
      }
     },
     "metadata": {},
     "output_type": "display_data"
    },
    {
     "data": {
      "text/plain": "  0%|          | 0/3224 [00:00<?, ?it/s]",
      "application/vnd.jupyter.widget-view+json": {
       "version_major": 2,
       "version_minor": 0,
       "model_id": "a59c8f3e29404626bcb9038ff0fc8c0a"
      }
     },
     "metadata": {},
     "output_type": "display_data"
    },
    {
     "data": {
      "text/plain": "  0%|          | 0/3224 [00:00<?, ?it/s]",
      "application/vnd.jupyter.widget-view+json": {
       "version_major": 2,
       "version_minor": 0,
       "model_id": "b6d82d69a28145318aaffa467be7e5ce"
      }
     },
     "metadata": {},
     "output_type": "display_data"
    },
    {
     "data": {
      "text/plain": "  0%|          | 0/3224 [00:00<?, ?it/s]",
      "application/vnd.jupyter.widget-view+json": {
       "version_major": 2,
       "version_minor": 0,
       "model_id": "209374d9471f47f4a187e6927fa2ebbb"
      }
     },
     "metadata": {},
     "output_type": "display_data"
    },
    {
     "data": {
      "text/plain": "  0%|          | 0/3224 [00:00<?, ?it/s]",
      "application/vnd.jupyter.widget-view+json": {
       "version_major": 2,
       "version_minor": 0,
       "model_id": "be2c6475001d4900a5fefcd185d66733"
      }
     },
     "metadata": {},
     "output_type": "display_data"
    },
    {
     "data": {
      "text/plain": "  0%|          | 0/3224 [00:00<?, ?it/s]",
      "application/vnd.jupyter.widget-view+json": {
       "version_major": 2,
       "version_minor": 0,
       "model_id": "27e341291a5242639a84266e2a35f3da"
      }
     },
     "metadata": {},
     "output_type": "display_data"
    },
    {
     "data": {
      "text/plain": "  0%|          | 0/3224 [00:00<?, ?it/s]",
      "application/vnd.jupyter.widget-view+json": {
       "version_major": 2,
       "version_minor": 0,
       "model_id": "d3228773f64d4873aa1a0399188c59af"
      }
     },
     "metadata": {},
     "output_type": "display_data"
    },
    {
     "data": {
      "text/plain": "  0%|          | 0/3224 [00:00<?, ?it/s]",
      "application/vnd.jupyter.widget-view+json": {
       "version_major": 2,
       "version_minor": 0,
       "model_id": "9089937942404d1e9f4e247a435e4e3a"
      }
     },
     "metadata": {},
     "output_type": "display_data"
    },
    {
     "data": {
      "text/plain": "  0%|          | 0/3224 [00:00<?, ?it/s]",
      "application/vnd.jupyter.widget-view+json": {
       "version_major": 2,
       "version_minor": 0,
       "model_id": "9ea84ccc63604ed2be683e4ac2f89599"
      }
     },
     "metadata": {},
     "output_type": "display_data"
    },
    {
     "data": {
      "text/plain": "  0%|          | 0/3224 [00:00<?, ?it/s]",
      "application/vnd.jupyter.widget-view+json": {
       "version_major": 2,
       "version_minor": 0,
       "model_id": "7b0cab0b96da43ddaa8408d1a23a0ee8"
      }
     },
     "metadata": {},
     "output_type": "display_data"
    },
    {
     "data": {
      "text/plain": "  0%|          | 0/3224 [00:00<?, ?it/s]",
      "application/vnd.jupyter.widget-view+json": {
       "version_major": 2,
       "version_minor": 0,
       "model_id": "ce94135dbbcd4daf9b51bdce94e9204e"
      }
     },
     "metadata": {},
     "output_type": "display_data"
    },
    {
     "data": {
      "text/plain": "  0%|          | 0/3224 [00:00<?, ?it/s]",
      "application/vnd.jupyter.widget-view+json": {
       "version_major": 2,
       "version_minor": 0,
       "model_id": "1d01e73a466a421098b3f5745d323e87"
      }
     },
     "metadata": {},
     "output_type": "display_data"
    },
    {
     "data": {
      "text/plain": "  0%|          | 0/3224 [00:00<?, ?it/s]",
      "application/vnd.jupyter.widget-view+json": {
       "version_major": 2,
       "version_minor": 0,
       "model_id": "0b2ba241bbf64cf99f3b4cfb9bef2177"
      }
     },
     "metadata": {},
     "output_type": "display_data"
    },
    {
     "data": {
      "text/plain": "  0%|          | 0/3224 [00:00<?, ?it/s]",
      "application/vnd.jupyter.widget-view+json": {
       "version_major": 2,
       "version_minor": 0,
       "model_id": "3b09aba646af4578ad634150819ff88e"
      }
     },
     "metadata": {},
     "output_type": "display_data"
    },
    {
     "data": {
      "text/plain": "  0%|          | 0/3224 [00:00<?, ?it/s]",
      "application/vnd.jupyter.widget-view+json": {
       "version_major": 2,
       "version_minor": 0,
       "model_id": "083f245bb2434f80b85d8075b7cf811e"
      }
     },
     "metadata": {},
     "output_type": "display_data"
    },
    {
     "data": {
      "text/plain": "  0%|          | 0/3224 [00:00<?, ?it/s]",
      "application/vnd.jupyter.widget-view+json": {
       "version_major": 2,
       "version_minor": 0,
       "model_id": "7dfccb6df5cc4009bd66aec4336ad731"
      }
     },
     "metadata": {},
     "output_type": "display_data"
    },
    {
     "data": {
      "text/plain": "  0%|          | 0/3224 [00:00<?, ?it/s]",
      "application/vnd.jupyter.widget-view+json": {
       "version_major": 2,
       "version_minor": 0,
       "model_id": "21dcc2a8d6d14784929a7a50ba87ee94"
      }
     },
     "metadata": {},
     "output_type": "display_data"
    },
    {
     "data": {
      "text/plain": "  0%|          | 0/3224 [00:00<?, ?it/s]",
      "application/vnd.jupyter.widget-view+json": {
       "version_major": 2,
       "version_minor": 0,
       "model_id": "8dc7646440c140ec9e1b8b2af759de0e"
      }
     },
     "metadata": {},
     "output_type": "display_data"
    },
    {
     "data": {
      "text/plain": "  0%|          | 0/3224 [00:00<?, ?it/s]",
      "application/vnd.jupyter.widget-view+json": {
       "version_major": 2,
       "version_minor": 0,
       "model_id": "4f7e993de8384660ad3c7713f4c5c08f"
      }
     },
     "metadata": {},
     "output_type": "display_data"
    },
    {
     "data": {
      "text/plain": "  0%|          | 0/3224 [00:00<?, ?it/s]",
      "application/vnd.jupyter.widget-view+json": {
       "version_major": 2,
       "version_minor": 0,
       "model_id": "03ab1edf32924969bd2d971a2299a120"
      }
     },
     "metadata": {},
     "output_type": "display_data"
    },
    {
     "data": {
      "text/plain": "  0%|          | 0/3224 [00:00<?, ?it/s]",
      "application/vnd.jupyter.widget-view+json": {
       "version_major": 2,
       "version_minor": 0,
       "model_id": "a3990700fc0043f7b13c861964d19f12"
      }
     },
     "metadata": {},
     "output_type": "display_data"
    },
    {
     "data": {
      "text/plain": "  0%|          | 0/3224 [00:00<?, ?it/s]",
      "application/vnd.jupyter.widget-view+json": {
       "version_major": 2,
       "version_minor": 0,
       "model_id": "20da692da50d4029af8f821640ac42d9"
      }
     },
     "metadata": {},
     "output_type": "display_data"
    },
    {
     "data": {
      "text/plain": "  0%|          | 0/3224 [00:00<?, ?it/s]",
      "application/vnd.jupyter.widget-view+json": {
       "version_major": 2,
       "version_minor": 0,
       "model_id": "5748ffbf408f452885806e014314ea08"
      }
     },
     "metadata": {},
     "output_type": "display_data"
    },
    {
     "data": {
      "text/plain": "  0%|          | 0/3224 [00:00<?, ?it/s]",
      "application/vnd.jupyter.widget-view+json": {
       "version_major": 2,
       "version_minor": 0,
       "model_id": "44c297d3b4384dc2bc69bc4444e50df3"
      }
     },
     "metadata": {},
     "output_type": "display_data"
    },
    {
     "data": {
      "text/plain": "  0%|          | 0/3224 [00:00<?, ?it/s]",
      "application/vnd.jupyter.widget-view+json": {
       "version_major": 2,
       "version_minor": 0,
       "model_id": "c16d2c50abd54633b554a8b392bd6b1d"
      }
     },
     "metadata": {},
     "output_type": "display_data"
    },
    {
     "data": {
      "text/plain": "  0%|          | 0/3224 [00:00<?, ?it/s]",
      "application/vnd.jupyter.widget-view+json": {
       "version_major": 2,
       "version_minor": 0,
       "model_id": "e872a211b7584df5abf0683517281d75"
      }
     },
     "metadata": {},
     "output_type": "display_data"
    },
    {
     "data": {
      "text/plain": "  0%|          | 0/3224 [00:00<?, ?it/s]",
      "application/vnd.jupyter.widget-view+json": {
       "version_major": 2,
       "version_minor": 0,
       "model_id": "6b01264f3e5143708860ffa00e2611d8"
      }
     },
     "metadata": {},
     "output_type": "display_data"
    },
    {
     "data": {
      "text/plain": "  0%|          | 0/3224 [00:00<?, ?it/s]",
      "application/vnd.jupyter.widget-view+json": {
       "version_major": 2,
       "version_minor": 0,
       "model_id": "5e04de88edc048a8a6239e637da82336"
      }
     },
     "metadata": {},
     "output_type": "display_data"
    },
    {
     "data": {
      "text/plain": "  0%|          | 0/3224 [00:00<?, ?it/s]",
      "application/vnd.jupyter.widget-view+json": {
       "version_major": 2,
       "version_minor": 0,
       "model_id": "4c7954ca08eb47c08c352ea847daae65"
      }
     },
     "metadata": {},
     "output_type": "display_data"
    },
    {
     "data": {
      "text/plain": "  0%|          | 0/3224 [00:00<?, ?it/s]",
      "application/vnd.jupyter.widget-view+json": {
       "version_major": 2,
       "version_minor": 0,
       "model_id": "39c95040ee204a449026fa539df317ec"
      }
     },
     "metadata": {},
     "output_type": "display_data"
    },
    {
     "data": {
      "text/plain": "  0%|          | 0/3224 [00:00<?, ?it/s]",
      "application/vnd.jupyter.widget-view+json": {
       "version_major": 2,
       "version_minor": 0,
       "model_id": "e6db9d84f3d541c6a12e7bc9f5aa3449"
      }
     },
     "metadata": {},
     "output_type": "display_data"
    },
    {
     "data": {
      "text/plain": "  0%|          | 0/3224 [00:00<?, ?it/s]",
      "application/vnd.jupyter.widget-view+json": {
       "version_major": 2,
       "version_minor": 0,
       "model_id": "993449b2d6604288ad268e85847013c7"
      }
     },
     "metadata": {},
     "output_type": "display_data"
    },
    {
     "data": {
      "text/plain": "  0%|          | 0/3224 [00:00<?, ?it/s]",
      "application/vnd.jupyter.widget-view+json": {
       "version_major": 2,
       "version_minor": 0,
       "model_id": "24e8bd6ae350487390d1a63e449df9e6"
      }
     },
     "metadata": {},
     "output_type": "display_data"
    },
    {
     "data": {
      "text/plain": "  0%|          | 0/3224 [00:00<?, ?it/s]",
      "application/vnd.jupyter.widget-view+json": {
       "version_major": 2,
       "version_minor": 0,
       "model_id": "bdc39e681853441197bd293032c46e24"
      }
     },
     "metadata": {},
     "output_type": "display_data"
    },
    {
     "data": {
      "text/plain": "  0%|          | 0/3224 [00:00<?, ?it/s]",
      "application/vnd.jupyter.widget-view+json": {
       "version_major": 2,
       "version_minor": 0,
       "model_id": "7a40ec426a8c412e91419ad7ad391d82"
      }
     },
     "metadata": {},
     "output_type": "display_data"
    },
    {
     "data": {
      "text/plain": "  0%|          | 0/3224 [00:00<?, ?it/s]",
      "application/vnd.jupyter.widget-view+json": {
       "version_major": 2,
       "version_minor": 0,
       "model_id": "91c2cb2b5aa448f4a89764cba92b4a20"
      }
     },
     "metadata": {},
     "output_type": "display_data"
    },
    {
     "data": {
      "text/plain": "  0%|          | 0/3224 [00:00<?, ?it/s]",
      "application/vnd.jupyter.widget-view+json": {
       "version_major": 2,
       "version_minor": 0,
       "model_id": "b38c58ccbc074efea6c816cd5a2760b5"
      }
     },
     "metadata": {},
     "output_type": "display_data"
    },
    {
     "data": {
      "text/plain": "  0%|          | 0/3224 [00:00<?, ?it/s]",
      "application/vnd.jupyter.widget-view+json": {
       "version_major": 2,
       "version_minor": 0,
       "model_id": "acfb39e9a6d145bf933e5bc19254ae38"
      }
     },
     "metadata": {},
     "output_type": "display_data"
    },
    {
     "data": {
      "text/plain": "  0%|          | 0/3224 [00:00<?, ?it/s]",
      "application/vnd.jupyter.widget-view+json": {
       "version_major": 2,
       "version_minor": 0,
       "model_id": "b6bcfe9839be45fd8a96be2d27af010d"
      }
     },
     "metadata": {},
     "output_type": "display_data"
    },
    {
     "data": {
      "text/plain": "  0%|          | 0/3224 [00:00<?, ?it/s]",
      "application/vnd.jupyter.widget-view+json": {
       "version_major": 2,
       "version_minor": 0,
       "model_id": "052cb6dc41e54a02889f57f5d93141e8"
      }
     },
     "metadata": {},
     "output_type": "display_data"
    },
    {
     "data": {
      "text/plain": "  0%|          | 0/3224 [00:00<?, ?it/s]",
      "application/vnd.jupyter.widget-view+json": {
       "version_major": 2,
       "version_minor": 0,
       "model_id": "85af1d2d388b4299a21f358a593dcf00"
      }
     },
     "metadata": {},
     "output_type": "display_data"
    },
    {
     "data": {
      "text/plain": "  0%|          | 0/3224 [00:00<?, ?it/s]",
      "application/vnd.jupyter.widget-view+json": {
       "version_major": 2,
       "version_minor": 0,
       "model_id": "aa3dc9dc3798412eb9fd5d5e9d38b0e8"
      }
     },
     "metadata": {},
     "output_type": "display_data"
    },
    {
     "data": {
      "text/plain": "  0%|          | 0/3224 [00:00<?, ?it/s]",
      "application/vnd.jupyter.widget-view+json": {
       "version_major": 2,
       "version_minor": 0,
       "model_id": "25d924aff1df4c78952dc89a89d5e32f"
      }
     },
     "metadata": {},
     "output_type": "display_data"
    },
    {
     "data": {
      "text/plain": "  0%|          | 0/3224 [00:00<?, ?it/s]",
      "application/vnd.jupyter.widget-view+json": {
       "version_major": 2,
       "version_minor": 0,
       "model_id": "16f4d1396c7d4bc9a6ff5fc6ff2b2649"
      }
     },
     "metadata": {},
     "output_type": "display_data"
    },
    {
     "data": {
      "text/plain": "  0%|          | 0/3224 [00:00<?, ?it/s]",
      "application/vnd.jupyter.widget-view+json": {
       "version_major": 2,
       "version_minor": 0,
       "model_id": "f1b5462b27094a079498e64a02ad1c3c"
      }
     },
     "metadata": {},
     "output_type": "display_data"
    },
    {
     "data": {
      "text/plain": "  0%|          | 0/3224 [00:00<?, ?it/s]",
      "application/vnd.jupyter.widget-view+json": {
       "version_major": 2,
       "version_minor": 0,
       "model_id": "237acebd22b6479698ff6648f00105c5"
      }
     },
     "metadata": {},
     "output_type": "display_data"
    },
    {
     "data": {
      "text/plain": "  0%|          | 0/3224 [00:00<?, ?it/s]",
      "application/vnd.jupyter.widget-view+json": {
       "version_major": 2,
       "version_minor": 0,
       "model_id": "6442748a7cb449abac82edbd4f85c4fd"
      }
     },
     "metadata": {},
     "output_type": "display_data"
    },
    {
     "data": {
      "text/plain": "  0%|          | 0/3224 [00:00<?, ?it/s]",
      "application/vnd.jupyter.widget-view+json": {
       "version_major": 2,
       "version_minor": 0,
       "model_id": "1b7ad7944c89434cbe80aff85673ee7e"
      }
     },
     "metadata": {},
     "output_type": "display_data"
    },
    {
     "data": {
      "text/plain": "{'param_set_0': {'params': {'K': 10},\n  'Fold 0': {'map': 0.060827422185572126, 'precision': 0.11812794010106853},\n  'Fold 1': {'map': 0.06024520089947615, 'precision': 0.11799151805132667},\n  'Fold 2': {'map': 0.06212789100424185, 'precision': 0.1183592111927415},\n  'Fold 3': {'map': 0.059437631790677826, 'precision': 0.11650226315818141},\n  'Fold 4': {'map': 0.06115497648291812, 'precision': 0.11698061846689896},\n  'mean': {'map': 0.060758624472577204, 'precision': 0.11759231019404341},\n  'std': {'map': 0.0008994825520485767, 'precision': 0.0007206625787244749}},\n 'param_set_1': {'params': {'K': 20},\n  'Fold 0': {'map': 0.06893146627574132, 'precision': 0.13620785627749096},\n  'Fold 1': {'map': 0.066850969055892, 'precision': 0.1322314049586777},\n  'Fold 2': {'map': 0.06902671765585729, 'precision': 0.13340667360131578},\n  'Fold 3': {'map': 0.06648815836530694, 'precision': 0.13220547624364765},\n  'Fold 4': {'map': 0.06859279055784072, 'precision': 0.13456010452961673},\n  'mean': {'map': 0.06797802038212766, 'precision': 0.13372230312214978},\n  'std': {'map': 0.001084131074553038, 'precision': 0.0015167761070107209}},\n 'param_set_2': {'params': {'K': 30},\n  'Fold 0': {'map': 0.07147934346999549, 'precision': 0.1427129151613713},\n  'Fold 1': {'map': 0.06902166217523985, 'precision': 0.1383155719878208},\n  'Fold 2': {'map': 0.0713723166102379, 'precision': 0.13937010875780828},\n  'Fold 3': {'map': 0.06887480847064924, 'precision': 0.1388342692804192},\n  'Fold 4': {'map': 0.07059691090224522, 'precision': 0.13976480836236935},\n  'mean': {'map': 0.07026900832567354, 'precision': 0.1397995347099578},\n  'std': {'map': 0.0011215512549003768, 'precision': 0.0015367030248183478}},\n 'param_set_3': {'params': {'K': 40},\n  'Fold 0': {'map': 0.07282163741482656, 'precision': 0.14668580347300292},\n  'Fold 1': {'map': 0.07043273019412404, 'precision': 0.14202370595911265},\n  'Fold 2': {'map': 0.0726792420463079, 'precision': 0.14321502676738246},\n  'Fold 3': {'map': 0.07003410329490345, 'precision': 0.1416557276148873},\n  'Fold 4': {'map': 0.07255541217050272, 'precision': 0.1445993031358885},\n  'mean': {'map': 0.07170462502413293, 'precision': 0.14363591339005477},\n  'std': {'map': 0.001210767780851105, 'precision': 0.0018399697483463245}},\n 'param_set_4': {'params': {'K': 50},\n  'Fold 0': {'map': 0.07418620052028237, 'precision': 0.15037491404808942},\n  'Fold 1': {'map': 0.07164670812591735, 'precision': 0.14473140495867767},\n  'Fold 2': {'map': 0.07343073308724828, 'precision': 0.14494687368954193},\n  'Fold 3': {'map': 0.07135899314266465, 'precision': 0.145528424286329},\n  'Fold 4': {'map': 0.07350410559722519, 'precision': 0.1472615418118467},\n  'mean': {'map': 0.07282534809466756, 'precision': 0.14656863175889695},\n  'std': {'map': 0.0011152139778554486, 'precision': 0.002100259143222444}},\n 'param_set_5': {'params': {'K': 60},\n  'Fold 0': {'map': 0.07506617365958178, 'precision': 0.15267242226127198},\n  'Fold 1': {'map': 0.0723788581017933, 'precision': 0.14682470639408438},\n  'Fold 2': {'map': 0.07454867854682128, 'precision': 0.14768079556037228},\n  'Fold 3': {'map': 0.07254867366333241, 'precision': 0.14832264846698948},\n  'Fold 4': {'map': 0.07426224323342023, 'precision': 0.14924324912891987},\n  'mean': {'map': 0.0737609254409898, 'precision': 0.1489487643623276},\n  'std': {'map': 0.0010913488809174805, 'precision': 0.002023054011919127}},\n 'param_set_6': {'params': {'K': 70},\n  'Fold 0': {'map': 0.07578667193247618, 'precision': 0.15391667849073903},\n  'Fold 1': {'map': 0.07321975026266617, 'precision': 0.1488527620704654},\n  'Fold 2': {'map': 0.07537925402162894, 'precision': 0.1497121757552323},\n  'Fold 3': {'map': 0.07314252189417585, 'precision': 0.14964078151127766},\n  'Fold 4': {'map': 0.0751133729850957, 'precision': 0.15175849303135888},\n  'mean': {'map': 0.07452831421920857, 'precision': 0.15077617817181468},\n  'std': {'map': 0.0011209474954614232, 'precision': 0.0018411105862835456}},\n 'param_set_7': {'params': {'K': 80},\n  'Fold 0': {'map': 0.07644697858556011, 'precision': 0.15551019962672313},\n  'Fold 1': {'map': 0.07374143490701002, 'precision': 0.1500598086124402},\n  'Fold 2': {'map': 0.0758542293170106, 'precision': 0.15110092092866206},\n  'Fold 3': {'map': 0.07347391242172335, 'precision': 0.15077916914043563},\n  'Fold 4': {'map': 0.07583211279819323, 'precision': 0.15330466027874565},\n  'mean': {'map': 0.07506973360589946, 'precision': 0.15215095171740134},\n  'std': {'map': 0.001216920866197252, 'precision': 0.0019986406151179673}},\n 'param_set_8': {'params': {'K': 90},\n  'Fold 0': {'map': 0.0768733769930246, 'precision': 0.15672716953536853},\n  'Fold 1': {'map': 0.07412599019783081, 'precision': 0.15117442366246195},\n  'Fold 2': {'map': 0.07633814731504908, 'precision': 0.15223370130542047},\n  'Fold 3': {'map': 0.07427716607768563, 'precision': 0.15253849547640705},\n  'Fold 4': {'map': 0.07646475097520197, 'precision': 0.15473649825783972},\n  'mean': {'map': 0.07561588631175842, 'precision': 0.15348205764749956},\n  'std': {'map': 0.0011692285732568593, 'precision': 0.001993903214606244}},\n 'param_set_9': {'params': {'K': 100},\n  'Fold 0': {'map': 0.0770741472968651, 'precision': 0.15745844293338862},\n  'Fold 1': {'map': 0.07454331717595017, 'precision': 0.15241409308394954},\n  'Fold 2': {'map': 0.07659818922130346, 'precision': 0.1529253508623835},\n  'Fold 3': {'map': 0.0745364410205475, 'precision': 0.15327381762921244},\n  'Fold 4': {'map': 0.07659232921515939, 'precision': 0.15528636759581882},\n  'mean': {'map': 0.07586888478596512, 'precision': 0.15427161442095058},\n  'std': {'map': 0.0010991315115524932, 'precision': 0.0018678334774671931}},\n 'param_set_10': {'params': {'K': 110},\n  'Fold 0': {'map': 0.07726268371247091, 'precision': 0.15780225057574138},\n  'Fold 1': {'map': 0.07483281236623925, 'precision': 0.1533547194432362},\n  'Fold 2': {'map': 0.07692357821795132, 'precision': 0.15372047554991586},\n  'Fold 3': {'map': 0.0748703172905304, 'precision': 0.1541289700587713},\n  'Fold 4': {'map': 0.07683914295148106, 'precision': 0.15607578397212543},\n  'mean': {'map': 0.07614570690773459, 'precision': 0.155016439919958},\n  'std': {'map': 0.0010661974729949924, 'precision': 0.0016799638196359303}},\n 'param_set_11': {'params': {'K': 120},\n  'Fold 0': {'map': 0.07746162422142894, 'precision': 0.1584243786904749},\n  'Fold 1': {'map': 0.07497826458611373, 'precision': 0.15365919965202263},\n  'Fold 2': {'map': 0.07716175921717507, 'precision': 0.1543631105713461},\n  'Fold 3': {'map': 0.07514850157121462, 'precision': 0.1548915263653843},\n  'Fold 4': {'map': 0.0770073411129093, 'precision': 0.1566038763066202},\n  'mean': {'map': 0.07635149814176832, 'precision': 0.15558841831716963},\n  'std': {'map': 0.0010632030918875921, 'precision': 0.0017194620257328544}},\n 'param_set_12': {'params': {'K': 130},\n  'Fold 0': {'map': 0.07765496874772675, 'precision': 0.15893736152192184},\n  'Fold 1': {'map': 0.07512551171182934, 'precision': 0.15402348847324923},\n  'Fold 2': {'map': 0.07735343443441513, 'precision': 0.15499485347376907},\n  'Fold 3': {'map': 0.07532169167777099, 'precision': 0.15540897528772885},\n  'Fold 4': {'map': 0.07715677445315826, 'precision': 0.1569631968641115},\n  'mean': {'map': 0.0765224762049801, 'precision': 0.1560655751241561},\n  'std': {'map': 0.0010741283426102504, 'precision': 0.0017204980668427815}},\n 'param_set_13': {'params': {'K': 140},\n  'Fold 0': {'map': 0.07777994650947499, 'precision': 0.15918293840931663},\n  'Fold 1': {'map': 0.0753219390526718, 'precision': 0.15452914310569812},\n  'Fold 2': {'map': 0.07744621412739754, 'precision': 0.15519091161590032},\n  'Fold 3': {'map': 0.07539224497688518, 'precision': 0.15588284956398119},\n  'Fold 4': {'map': 0.07733453578165966, 'precision': 0.15750217770034844},\n  'mean': {'map': 0.07665497608961783, 'precision': 0.15645760407904893},\n  'std': {'map': 0.001070036920668063, 'precision': 0.0016835911342470218}},\n 'param_set_14': {'params': {'K': 150},\n  'Fold 0': {'map': 0.0778420778511372, 'precision': 0.15934665633424652},\n  'Fold 1': {'map': 0.07554474477971006, 'precision': 0.15513810352327098},\n  'Fold 2': {'map': 0.07760736668061427, 'precision': 0.15564838061420658},\n  'Fold 3': {'map': 0.075517981791569, 'precision': 0.1562096594096725},\n  'Fold 4': {'map': 0.0775598617471041, 'precision': 0.15795949477351917},\n  'mean': {'map': 0.07681440657002693, 'precision': 0.15686045893098313},\n  'std': {'map': 0.0010519843808748288, 'precision': 0.0015651350947816526}},\n 'param_set_15': {'params': {'K': 160},\n  'Fold 0': {'map': 0.07796445798095487, 'precision': 0.1596413485991203},\n  'Fold 1': {'map': 0.07562884366954382, 'precision': 0.15551870378425403},\n  'Fold 2': {'map': 0.07769681865661252, 'precision': 0.155888007232367},\n  'Fold 3': {'map': 0.07571788265094023, 'precision': 0.1567706829781092},\n  'Fold 4': {'map': 0.07769060826543385, 'precision': 0.15839503484320558},\n  'mean': {'map': 0.07693972224469706, 'precision': 0.15724275548741123},\n  'std': {'map': 0.0010390767780972354, 'precision': 0.001556376959034754}},\n 'param_set_16': {'params': {'K': 170},\n  'Fold 0': {'map': 0.07806520474534465, 'precision': 0.15987601095818643},\n  'Fold 1': {'map': 0.0756985436153356, 'precision': 0.15576881252718575},\n  'Fold 2': {'map': 0.07781844393762531, 'precision': 0.15637270652819152},\n  'Fold 3': {'map': 0.07584368841887014, 'precision': 0.15706481183923135},\n  'Fold 4': {'map': 0.0778044475255172, 'precision': 0.15870535714285713},\n  'mean': {'map': 0.07704606564853858, 'precision': 0.15755753979913042},\n  'std': {'map': 0.0010461245072947583, 'precision': 0.001519141148525909}},\n 'param_set_17': {'params': {'K': 180},\n  'Fold 0': {'map': 0.07813749285360047, 'precision': 0.16010521605308828},\n  'Fold 1': {'map': 0.07576487625424085, 'precision': 0.15601348412353197},\n  'Fold 2': {'map': 0.07789523405652356, 'precision': 0.15680294522897958},\n  'Fold 3': {'map': 0.07593893667312832, 'precision': 0.1574297495002533},\n  'Fold 4': {'map': 0.0778794527162646, 'precision': 0.15889590592334496},\n  'mean': {'map': 0.07712319851075156, 'precision': 0.15784946016583962},\n  'std': {'map': 0.0010434814587533484, 'precision': 0.0014714375236525438}},\n 'param_set_18': {'params': {'K': 190},\n  'Fold 0': {'map': 0.0782386959502613, 'precision': 0.16039990831796203},\n  'Fold 1': {'map': 0.07584192373297931, 'precision': 0.15617116137451065},\n  'Fold 2': {'map': 0.07794617747961227, 'precision': 0.1567593767529504},\n  'Fold 3': {'map': 0.07594383618008836, 'precision': 0.15734260020806892},\n  'Fold 4': {'map': 0.07799873623130406, 'precision': 0.15918989547038329},\n  'mean': {'map': 0.07719387391484905, 'precision': 0.15797258842477507},\n  'std': {'map': 0.001067312580294173, 'precision': 0.0015803560002994965}},\n 'param_set_19': {'params': {'K': 200},\n  'Fold 0': {'map': 0.07827688810598368, 'precision': 0.16051451086541296},\n  'Fold 1': {'map': 0.07590549101237515, 'precision': 0.1562799043062201},\n  'Fold 2': {'map': 0.07799501846025997, 'precision': 0.15694454277607436},\n  'Fold 3': {'map': 0.07604469269257268, 'precision': 0.1575060051309146},\n  'Fold 4': {'map': 0.07805089032379159, 'precision': 0.15930966898954704},\n  'mean': {'map': 0.07725459611899661, 'precision': 0.15811092641363383},\n  'std': {'map': 0.001049889660933418, 'precision': 0.0015680066636486205}}}"
     },
     "execution_count": 106,
     "metadata": {},
     "output_type": "execute_result"
    }
   ],
   "source": [
    "grid.fit(dataset.item_user.astype(float))\n",
    "grid.get_result(show=False)\n"
   ],
   "metadata": {
    "collapsed": false,
    "pycharm": {
     "name": "#%%\n"
    }
   }
  },
  {
   "cell_type": "code",
   "execution_count": 107,
   "outputs": [],
   "source": [
    "inf = grid.get_result(show=False, filter_metric='map')\n",
    "df = pd.DataFrame(inf)\n",
    "df.to_csv(\"nearst_neigh_grid.csv\", index=False)"
   ],
   "metadata": {
    "collapsed": false,
    "pycharm": {
     "name": "#%%\n"
    }
   }
  },
  {
   "cell_type": "code",
   "execution_count": 118,
   "outputs": [
    {
     "data": {
      "text/plain": "  0%|          | 0/3224 [00:00<?, ?it/s]",
      "application/vnd.jupyter.widget-view+json": {
       "version_major": 2,
       "version_minor": 0,
       "model_id": "73c8f4b783204999bdcd8764d5f903c8"
      }
     },
     "metadata": {},
     "output_type": "display_data"
    }
   ],
   "source": [
    "m = neighbour_model(K=20)\n",
    "m.fit(dataset.item_user.astype(float))"
   ],
   "metadata": {
    "collapsed": false,
    "pycharm": {
     "name": "#%%\n"
    }
   }
  },
  {
   "cell_type": "code",
   "execution_count": 122,
   "outputs": [
    {
     "data": {
      "text/plain": "<3224x3224 sparse matrix of type '<class 'numpy.float64'>'\n\twith 64480 stored elements in Compressed Sparse Row format>"
     },
     "execution_count": 122,
     "metadata": {},
     "output_type": "execute_result"
    }
   ],
   "source": [
    "m.similarity"
   ],
   "metadata": {
    "collapsed": false,
    "pycharm": {
     "name": "#%%\n"
    }
   }
  },
  {
   "cell_type": "code",
   "execution_count": 125,
   "outputs": [
    {
     "data": {
      "text/plain": "<3224x34563 sparse matrix of type '<class 'numpy.float64'>'\n\twith 1284519 stored elements in COOrdinate format>"
     },
     "execution_count": 125,
     "metadata": {},
     "output_type": "execute_result"
    }
   ],
   "source": [
    "normalize(dataset.item_user.astype(float))"
   ],
   "metadata": {
    "collapsed": false,
    "pycharm": {
     "name": "#%%\n"
    }
   }
  },
  {
   "cell_type": "code",
   "execution_count": 115,
   "outputs": [
    {
     "data": {
      "text/plain": "matrix([[0.99503719, 0.09950372, 0.        ],\n        [1.        , 0.        , 0.        ]])"
     },
     "execution_count": 115,
     "metadata": {},
     "output_type": "execute_result"
    }
   ],
   "source": [
    "import numpy as np\n",
    "from scipy.sparse import csr_matrix, coo_matrix\n",
    "\n",
    "x = [[10, 1, 0],\n",
    "     [4, 0, 0]]\n",
    "\n",
    "X = coo_matrix(x)\n",
    "X.data = X.data / np.sqrt(np.bincount(X.row, X.data ** 2))[X.row]\n",
    "X.todense()"
   ],
   "metadata": {
    "collapsed": false,
    "pycharm": {
     "name": "#%%\n"
    }
   }
  }
 ],
 "metadata": {
  "kernelspec": {
   "display_name": "Python 3",
   "language": "python",
   "name": "python3"
  },
  "language_info": {
   "codemirror_mode": {
    "name": "ipython",
    "version": 2
   },
   "file_extension": ".py",
   "mimetype": "text/x-python",
   "name": "python",
   "nbconvert_exporter": "python",
   "pygments_lexer": "ipython2",
   "version": "2.7.6"
  }
 },
 "nbformat": 4,
 "nbformat_minor": 0
}