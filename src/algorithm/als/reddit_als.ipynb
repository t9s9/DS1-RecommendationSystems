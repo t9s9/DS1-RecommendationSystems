{
 "cells": [
  {
   "cell_type": "code",
   "execution_count": null,
   "metadata": {
    "collapsed": true
   },
   "outputs": [],
   "source": [
    "import pandas as pd\n",
    "from implicit.als import AlternatingLeastSquares\n",
    "\n",
    "from dataset import Dataset\n",
    "from model_selection import GridSearchCV\n",
    "from model_wrapper import ModelWrapper\n",
    "\n",
    "import matplotlib.pyplot as plt"
   ]
  },
  {
   "cell_type": "code",
   "execution_count": null,
   "outputs": [
    {
     "name": "stdout",
     "output_type": "stream",
     "text": [
      "Loading csv.\n",
      "Creating pivot.\n"
     ]
    }
   ],
   "source": [
    "dataset = Dataset.from_csv(\"C:/Users/TS/PycharmProjects/DS1-RecommendationSystems/data.csv\",\n",
    "                           user=\"user\", item=\"subreddit\", rating='count')"
   ],
   "metadata": {
    "collapsed": false,
    "pycharm": {
     "name": "#%%\n"
    }
   }
  },
  {
   "cell_type": "code",
   "execution_count": null,
   "outputs": [
    {
     "name": "stdout",
     "output_type": "stream",
     "text": [
      "Number of parameters combinations in grid: 3\n"
     ]
    }
   ],
   "source": [
    "model = AlternatingLeastSquares\n",
    "\n",
    "parameter = dict(iterations=[1],\n",
    "                 factors=[60],\n",
    "                 alpha=[1, 10, 40],\n",
    "                 regularization=[0.01],\n",
    "                 )\n",
    "grid = GridSearchCV(algo=model,\n",
    "                    param_grid=parameter,\n",
    "                    cv=5,  # Number of folds in cross validation\n",
    "                    eval_k=10,  # Number of Top items to check in validation\n",
    "                    metrics=['map', 'precision']  # the metrics to use\n",
    "                    )\n",
    "print(\"Number of parameters combinations in grid:\", len(grid))"
   ],
   "metadata": {
    "collapsed": false,
    "pycharm": {
     "name": "#%%\n"
    }
   }
  },
  {
   "cell_type": "code",
   "execution_count": null,
   "outputs": [
    {
     "data": {
      "text/plain": "  0%|          | 0/1 [00:00<?, ?it/s]",
      "application/vnd.jupyter.widget-view+json": {
       "version_major": 2,
       "version_minor": 0,
       "model_id": "47b8411e3ea54d8cac42b57a58a87fe5"
      }
     },
     "metadata": {},
     "output_type": "display_data"
    },
    {
     "data": {
      "text/plain": "  0%|          | 0/1 [00:00<?, ?it/s]",
      "application/vnd.jupyter.widget-view+json": {
       "version_major": 2,
       "version_minor": 0,
       "model_id": "30c5eefab2e847a69af6af47f3e3271f"
      }
     },
     "metadata": {},
     "output_type": "display_data"
    },
    {
     "data": {
      "text/plain": "  0%|          | 0/1 [00:00<?, ?it/s]",
      "application/vnd.jupyter.widget-view+json": {
       "version_major": 2,
       "version_minor": 0,
       "model_id": "7c8cf903311346e3b60f13a59e7e78f3"
      }
     },
     "metadata": {},
     "output_type": "display_data"
    },
    {
     "data": {
      "text/plain": "  0%|          | 0/1 [00:00<?, ?it/s]",
      "application/vnd.jupyter.widget-view+json": {
       "version_major": 2,
       "version_minor": 0,
       "model_id": "287d05dfc4454d0caa73866f2a276750"
      }
     },
     "metadata": {},
     "output_type": "display_data"
    },
    {
     "data": {
      "text/plain": "  0%|          | 0/1 [00:00<?, ?it/s]",
      "application/vnd.jupyter.widget-view+json": {
       "version_major": 2,
       "version_minor": 0,
       "model_id": "0f863a3bb44044179d018fc91926846d"
      }
     },
     "metadata": {},
     "output_type": "display_data"
    },
    {
     "data": {
      "text/plain": "  0%|          | 0/1 [00:00<?, ?it/s]",
      "application/vnd.jupyter.widget-view+json": {
       "version_major": 2,
       "version_minor": 0,
       "model_id": "4caf83ccbeb9487a85d3d8307aaf89e2"
      }
     },
     "metadata": {},
     "output_type": "display_data"
    },
    {
     "data": {
      "text/plain": "  0%|          | 0/1 [00:00<?, ?it/s]",
      "application/vnd.jupyter.widget-view+json": {
       "version_major": 2,
       "version_minor": 0,
       "model_id": "d83554ccb2fa49c691378d5f444c8e9f"
      }
     },
     "metadata": {},
     "output_type": "display_data"
    },
    {
     "data": {
      "text/plain": "  0%|          | 0/1 [00:00<?, ?it/s]",
      "application/vnd.jupyter.widget-view+json": {
       "version_major": 2,
       "version_minor": 0,
       "model_id": "18623d9e51894f6983a21402a3de94f2"
      }
     },
     "metadata": {},
     "output_type": "display_data"
    },
    {
     "data": {
      "text/plain": "  0%|          | 0/1 [00:00<?, ?it/s]",
      "application/vnd.jupyter.widget-view+json": {
       "version_major": 2,
       "version_minor": 0,
       "model_id": "dfe897de215d48a28af327d6f68c5791"
      }
     },
     "metadata": {},
     "output_type": "display_data"
    },
    {
     "data": {
      "text/plain": "  0%|          | 0/1 [00:00<?, ?it/s]",
      "application/vnd.jupyter.widget-view+json": {
       "version_major": 2,
       "version_minor": 0,
       "model_id": "728327021378447da8b0bfa0e804df20"
      }
     },
     "metadata": {},
     "output_type": "display_data"
    },
    {
     "data": {
      "text/plain": "  0%|          | 0/1 [00:00<?, ?it/s]",
      "application/vnd.jupyter.widget-view+json": {
       "version_major": 2,
       "version_minor": 0,
       "model_id": "66fa21441362418bab910014263554c8"
      }
     },
     "metadata": {},
     "output_type": "display_data"
    },
    {
     "data": {
      "text/plain": "  0%|          | 0/1 [00:00<?, ?it/s]",
      "application/vnd.jupyter.widget-view+json": {
       "version_major": 2,
       "version_minor": 0,
       "model_id": "56b49f06a3b54927bfce8da08df4376c"
      }
     },
     "metadata": {},
     "output_type": "display_data"
    },
    {
     "data": {
      "text/plain": "  0%|          | 0/1 [00:00<?, ?it/s]",
      "application/vnd.jupyter.widget-view+json": {
       "version_major": 2,
       "version_minor": 0,
       "model_id": "f3a185daf1914c578d2c24e7f1496a53"
      }
     },
     "metadata": {},
     "output_type": "display_data"
    },
    {
     "data": {
      "text/plain": "  0%|          | 0/1 [00:00<?, ?it/s]",
      "application/vnd.jupyter.widget-view+json": {
       "version_major": 2,
       "version_minor": 0,
       "model_id": "0bca8931084942268a9abe5f86b8d1e7"
      }
     },
     "metadata": {},
     "output_type": "display_data"
    },
    {
     "data": {
      "text/plain": "  0%|          | 0/1 [00:00<?, ?it/s]",
      "application/vnd.jupyter.widget-view+json": {
       "version_major": 2,
       "version_minor": 0,
       "model_id": "8f035d2694714ec3945f7753531b0938"
      }
     },
     "metadata": {},
     "output_type": "display_data"
    },
    {
     "data": {
      "text/plain": "{'param_set_0': {'params': {'alpha': 1,\n   'factors': 60,\n   'iterations': 1,\n   'regularization': 0.01},\n  'Fold 0': {'map': 0.03997459776922825, 'precision': 0.10073372341413578},\n  'Fold 1': {'map': 0.042903860420799834, 'precision': 0.10724621514931801},\n  'Fold 2': {'map': 0.04155826658058346, 'precision': 0.10318878342328928},\n  'Fold 3': {'map': 0.04277152578883808, 'precision': 0.10554942260701305},\n  'Fold 4': {'map': 0.043060378873161595, 'precision': 0.10593557367269835},\n  'mean': {'map': 0.042053725886522245, 'precision': 0.10453074365329089},\n  'std': {'map': 0.001167867228207876, 'precision': 0.002306653835987537}},\n 'param_set_1': {'params': {'alpha': 10,\n   'factors': 60,\n   'iterations': 1,\n   'regularization': 0.01},\n  'Fold 0': {'map': 0.02062240249407631, 'precision': 0.06176898548032569},\n  'Fold 1': {'map': 0.043486721310418405, 'precision': 0.10744452087477613},\n  'Fold 2': {'map': 0.042826266930856574, 'precision': 0.10392083876170978},\n  'Fold 3': {'map': 0.0404785386135493, 'precision': 0.10276478833058385},\n  'Fold 4': {'map': 0.04284919435888149, 'precision': 0.10613442036190097},\n  'mean': {'map': 0.038052624741556414, 'precision': 0.09640671076185928},\n  'std': {'map': 0.008775213399979604, 'precision': 0.01739609650926667}},\n 'param_set_2': {'params': {'alpha': 40,\n   'factors': 60,\n   'iterations': 1,\n   'regularization': 0.01},\n  'Fold 0': {'map': 0.012623947627182927, 'precision': 0.04178817993250983},\n  'Fold 1': {'map': 0.04341423501799354, 'precision': 0.10751888552182293},\n  'Fold 2': {'map': 0.04036410170354849, 'precision': 0.10142068366523978},\n  'Fold 3': {'map': 0.03803099900092094, 'precision': 0.0981754133538408},\n  'Fold 4': {'map': 0.042120062898294994, 'precision': 0.10483570292304634},\n  'mean': {'map': 0.03531066924958818, 'precision': 0.09074777307929194},\n  'std': {'map': 0.01148616847796649, 'precision': 0.024681420548115684}}}"
     },
     "execution_count": 4,
     "metadata": {},
     "output_type": "execute_result"
    }
   ],
   "source": [
    "grid.fit(dataset.item_user)\n",
    "grid.get_result(show=False)"
   ],
   "metadata": {
    "collapsed": false,
    "pycharm": {
     "name": "#%%\n"
    }
   }
  },
  {
   "cell_type": "code",
   "execution_count": null,
   "outputs": [],
   "source": [
    "inf = grid.get_result(show=False, filter_metric='map')\n",
    "df = pd.DataFrame(inf)"
   ],
   "metadata": {
    "collapsed": false,
    "pycharm": {
     "name": "#%%\n"
    }
   }
  },
  {
   "cell_type": "code",
   "execution_count": null,
   "outputs": [
    {
     "data": {
      "text/plain": "<Figure size 432x288 with 1 Axes>",
      "image/png": "[encoded data removed]"
     },
     "metadata": {
      "needs_background": "light"
     },
     "output_type": "display_data"
    }
   ],
   "source": [
    "metric = \"map\"\n",
    "parameter = \"alpha\"\n",
    "df = pd.DataFrame(grid.get_result(show=False, filter_metric=metric))\n",
    "for i, k in enumerate(df[parameter]):\n",
    "    plt.scatter([k] * grid.cv.n_splits, df[[f'Fold {i}' for i in range(grid.cv.n_splits)]].iloc[i])\n",
    "\n",
    "plt.errorbar(df[parameter], df['mean'], yerr=df['std'])\n",
    "plt.xlabel(parameter)\n",
    "plt.ylabel(f'Cross-validation {metric}')\n",
    "plt.tight_layout()\n",
    "# plt.savefig(f\"cv_{parameter}.png\", dpi=400)\n",
    "plt.show()"
   ],
   "metadata": {
    "collapsed": false,
    "pycharm": {
     "name": "#%%\n"
    }
   }
  },
  {
   "cell_type": "code",
   "execution_count": 8,
   "outputs": [
    {
     "data": {
      "text/plain": "  0%|          | 0/1 [00:00<?, ?it/s]",
      "application/vnd.jupyter.widget-view+json": {
       "version_major": 2,
       "version_minor": 0,
       "model_id": "0d0c251e67bd4d31a3d35c0c9f440503"
      }
     },
     "metadata": {},
     "output_type": "display_data"
    }
   ],
   "source": [
    "best_model = ModelWrapper(dataset, **grid.get_best()['map'][1])\n",
    "best_model.fit()"
   ],
   "metadata": {
    "collapsed": false,
    "pycharm": {
     "name": "#%%\n"
    }
   }
  },
  {
   "cell_type": "code",
   "execution_count": 10,
   "outputs": [
    {
     "name": "stdout",
     "output_type": "stream",
     "text": [
      "(23581, 60) (2483, 60)\n"
     ]
    }
   ],
   "source": [],
   "metadata": {
    "collapsed": false,
    "pycharm": {
     "name": "#%%\n"
    }
   }
  },
  {
   "cell_type": "code",
   "execution_count": null,
   "outputs": [],
   "source": [
    "reddit = \"nba\"\n",
    "best_model.similar_items(reddit, N=10, show=True)"
   ],
   "metadata": {
    "collapsed": false,
    "pycharm": {
     "name": "#%%\n"
    }
   }
  },
  {
   "cell_type": "code",
   "execution_count": null,
   "outputs": [],
   "source": [
    "user = \"IncognitoCumShot\"  # -ah IncognitoCumShot\n",
    "best_model.recommend(user, N=10, show=True)"
   ],
   "metadata": {
    "collapsed": false,
    "pycharm": {
     "name": "#%%\n"
    }
   }
  }
 ],
 "metadata": {
  "kernelspec": {
   "display_name": "Python 3",
   "language": "python",
   "name": "python3"
  },
  "language_info": {
   "codemirror_mode": {
    "name": "ipython",
    "version": 2
   },
   "file_extension": ".py",
   "mimetype": "text/x-python",
   "name": "python",
   "nbconvert_exporter": "python",
   "pygments_lexer": "ipython2",
   "version": "2.7.6"
  }
 },
 "nbformat": 4,
 "nbformat_minor": 0
}