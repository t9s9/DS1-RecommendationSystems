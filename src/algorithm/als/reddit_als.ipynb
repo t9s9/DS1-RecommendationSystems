{
 "cells": [
  {
   "cell_type": "code",
   "execution_count": 1,
   "metadata": {
    "collapsed": true
   },
   "outputs": [],
   "source": [
    "import pandas as pd\n",
    "from implicit.als import AlternatingLeastSquares\n",
    "from implicit.evaluation import mean_average_precision_at_k, ranking_metrics_at_k\n",
    "\n",
    "from src.algorithm.als.sparsedataset import SparseDataset\n",
    "from model_selection import GridSearchCV, KFold\n",
    "from src.algorithm.als.model_wrapper import ImplicitModelWrapper\n",
    "\n",
    "from implicit.nearest_neighbours import CosineRecommender, normalize, BM25Recommender, TFIDFRecommender\n",
    "\n",
    "import matplotlib.pyplot as plt\n",
    "\n",
    "plt.rcParams['figure.facecolor'] = 'white'"
   ]
  },
  {
   "cell_type": "code",
   "execution_count": 2,
   "outputs": [
    {
     "name": "stdout",
     "output_type": "stream",
     "text": [
      "Loading csv.\n",
      "Creating pivot.\n"
     ]
    }
   ],
   "source": [
    "dataset, test = SparseDataset.from_csv(\"C:/Users/TS/PycharmProjects/DS1-RecommendationSystems/data.csv\",\n",
    "                                       user=\"user\", item=\"subreddit\", rating='count')"
   ],
   "metadata": {
    "collapsed": false,
    "pycharm": {
     "name": "#%%\n"
    }
   }
  },
  {
   "cell_type": "code",
   "execution_count": 5,
   "outputs": [
    {
     "name": "stdout",
     "output_type": "stream",
     "text": [
      "Number of parameters combinations in grid: 2\n"
     ]
    }
   ],
   "source": [
    "model = AlternatingLeastSquares\n",
    "\n",
    "parameter = dict(iterations=[10],\n",
    "                 factors=[64],\n",
    "                 alpha=[1, 10],\n",
    "                 regularization=[0.1],\n",
    "                 )\n",
    "grid = GridSearchCV(algo=model,\n",
    "                    param_grid=parameter,\n",
    "                    cv=5,  # Number of folds in cross validation\n",
    "                    eval_k=20,  # Number of Top items to check in validation\n",
    "                    metrics=['map', 'precision'],  # the metrics to use\n",
    "                    random_state=12)\n",
    "print(\"Number of parameters combinations in grid:\", len(grid))"
   ],
   "metadata": {
    "collapsed": false,
    "pycharm": {
     "name": "#%%\n"
    }
   }
  },
  {
   "cell_type": "code",
   "execution_count": 6,
   "outputs": [
    {
     "name": "stdout",
     "output_type": "stream",
     "text": [
      "Train 894138 float64 Test 223535 float64\n"
     ]
    },
    {
     "data": {
      "text/plain": "  0%|          | 0/10 [00:00<?, ?it/s]",
      "application/vnd.jupyter.widget-view+json": {
       "version_major": 2,
       "version_minor": 0,
       "model_id": "773c6b5a150a473a9c68eeb7a9bc6685"
      }
     },
     "metadata": {},
     "output_type": "display_data"
    },
    {
     "name": "stdout",
     "output_type": "stream",
     "text": [
      "Train 894138 float64 Test 223535 float64\n"
     ]
    },
    {
     "data": {
      "text/plain": "  0%|          | 0/10 [00:00<?, ?it/s]",
      "application/vnd.jupyter.widget-view+json": {
       "version_major": 2,
       "version_minor": 0,
       "model_id": "26f1aa3da47b4eb6af9c259f257685f3"
      }
     },
     "metadata": {},
     "output_type": "display_data"
    },
    {
     "name": "stdout",
     "output_type": "stream",
     "text": [
      "Train 894138 float64 Test 223535 float64\n"
     ]
    },
    {
     "data": {
      "text/plain": "  0%|          | 0/10 [00:00<?, ?it/s]",
      "application/vnd.jupyter.widget-view+json": {
       "version_major": 2,
       "version_minor": 0,
       "model_id": "92cf3f851b9e4b81b24a75be9092102f"
      }
     },
     "metadata": {},
     "output_type": "display_data"
    },
    {
     "name": "stdout",
     "output_type": "stream",
     "text": [
      "Train 894139 float64 Test 223534 float64\n"
     ]
    },
    {
     "data": {
      "text/plain": "  0%|          | 0/10 [00:00<?, ?it/s]",
      "application/vnd.jupyter.widget-view+json": {
       "version_major": 2,
       "version_minor": 0,
       "model_id": "523332e841564b3e8d86282cfee990d0"
      }
     },
     "metadata": {},
     "output_type": "display_data"
    },
    {
     "name": "stdout",
     "output_type": "stream",
     "text": [
      "Train 894139 float64 Test 223534 float64\n"
     ]
    },
    {
     "data": {
      "text/plain": "  0%|          | 0/10 [00:00<?, ?it/s]",
      "application/vnd.jupyter.widget-view+json": {
       "version_major": 2,
       "version_minor": 0,
       "model_id": "0e53c7f48a3145cba059e6e8e29c037c"
      }
     },
     "metadata": {},
     "output_type": "display_data"
    },
    {
     "name": "stdout",
     "output_type": "stream",
     "text": [
      "Train 894138 float64 Test 223535 float64\n"
     ]
    },
    {
     "data": {
      "text/plain": "  0%|          | 0/10 [00:00<?, ?it/s]",
      "application/vnd.jupyter.widget-view+json": {
       "version_major": 2,
       "version_minor": 0,
       "model_id": "05b1614b71cc431e912f16fbc2aceb7d"
      }
     },
     "metadata": {},
     "output_type": "display_data"
    },
    {
     "ename": "KeyboardInterrupt",
     "evalue": "",
     "output_type": "error",
     "traceback": [
      "\u001B[1;31m---------------------------------------------------------------------------\u001B[0m",
      "\u001B[1;31mKeyboardInterrupt\u001B[0m                         Traceback (most recent call last)",
      "\u001B[1;32m<ipython-input-6-de6ad5297365>\u001B[0m in \u001B[0;36m<module>\u001B[1;34m\u001B[0m\n\u001B[1;32m----> 1\u001B[1;33m \u001B[0mgrid\u001B[0m\u001B[1;33m.\u001B[0m\u001B[0mfit\u001B[0m\u001B[1;33m(\u001B[0m\u001B[0mdataset\u001B[0m\u001B[1;33m.\u001B[0m\u001B[0mitem_user\u001B[0m\u001B[1;33m)\u001B[0m\u001B[1;33m\u001B[0m\u001B[1;33m\u001B[0m\u001B[0m\n\u001B[0m\u001B[0;32m      2\u001B[0m \u001B[0mgrid\u001B[0m\u001B[1;33m.\u001B[0m\u001B[0mget_result\u001B[0m\u001B[1;33m(\u001B[0m\u001B[0mshow\u001B[0m\u001B[1;33m=\u001B[0m\u001B[1;32mFalse\u001B[0m\u001B[1;33m)\u001B[0m\u001B[1;33m\u001B[0m\u001B[1;33m\u001B[0m\u001B[0m\n\u001B[0;32m      3\u001B[0m \u001B[1;33m\u001B[0m\u001B[0m\n",
      "\u001B[1;32m~\\PycharmProjects\\DS1-RecommendationSystems\\src\\algorithm\\als\\model_selection.py\u001B[0m in \u001B[0;36mfit\u001B[1;34m(self, data)\u001B[0m\n\u001B[0;32m     88\u001B[0m                 print(\"Train\", train_data.T.tocsr().nnz, train_data.T.tocsr().dtype, \"Test\", test_data.T.tocsr().nnz,\n\u001B[0;32m     89\u001B[0m                       test_data.T.tocsr().dtype)\n\u001B[1;32m---> 90\u001B[1;33m                 \u001B[0mresult\u001B[0m \u001B[1;33m=\u001B[0m \u001B[0mself\u001B[0m\u001B[1;33m.\u001B[0m\u001B[0m_fit_and_eval\u001B[0m\u001B[1;33m(\u001B[0m\u001B[0mtrain_data\u001B[0m\u001B[1;33m=\u001B[0m\u001B[1;33m(\u001B[0m\u001B[0mtrain_data\u001B[0m \u001B[1;33m*\u001B[0m \u001B[0malpha\u001B[0m\u001B[1;33m)\u001B[0m\u001B[1;33m,\u001B[0m \u001B[0mtest_data\u001B[0m\u001B[1;33m=\u001B[0m\u001B[1;33m(\u001B[0m\u001B[0mtest_data\u001B[0m \u001B[1;33m*\u001B[0m \u001B[0malpha\u001B[0m\u001B[1;33m)\u001B[0m\u001B[1;33m,\u001B[0m \u001B[0malgo\u001B[0m\u001B[1;33m=\u001B[0m\u001B[0malgo\u001B[0m\u001B[1;33m)\u001B[0m\u001B[1;33m\u001B[0m\u001B[1;33m\u001B[0m\u001B[0m\n\u001B[0m\u001B[0;32m     91\u001B[0m                 \u001B[0mself\u001B[0m\u001B[1;33m.\u001B[0m\u001B[0mresult\u001B[0m\u001B[1;33m[\u001B[0m\u001B[1;34mf'param_set_{param_set}'\u001B[0m\u001B[1;33m]\u001B[0m\u001B[1;33m[\u001B[0m\u001B[1;34mf'Fold {fold}'\u001B[0m\u001B[1;33m]\u001B[0m \u001B[1;33m=\u001B[0m \u001B[0mresult\u001B[0m\u001B[1;33m\u001B[0m\u001B[1;33m\u001B[0m\u001B[0m\n\u001B[0;32m     92\u001B[0m             self.result[f'param_set_{param_set}']['mean'] = {key: np.mean(np.array(\n",
      "\u001B[1;32m~\\PycharmProjects\\DS1-RecommendationSystems\\src\\algorithm\\als\\model_selection.py\u001B[0m in \u001B[0;36m_fit_and_eval\u001B[1;34m(self, train_data, test_data, algo)\u001B[0m\n\u001B[0;32m    105\u001B[0m     \u001B[1;32mdef\u001B[0m \u001B[0m_fit_and_eval\u001B[0m\u001B[1;33m(\u001B[0m\u001B[0mself\u001B[0m\u001B[1;33m,\u001B[0m \u001B[0mtrain_data\u001B[0m\u001B[1;33m,\u001B[0m \u001B[0mtest_data\u001B[0m\u001B[1;33m,\u001B[0m \u001B[0malgo\u001B[0m\u001B[1;33m)\u001B[0m\u001B[1;33m:\u001B[0m\u001B[1;33m\u001B[0m\u001B[1;33m\u001B[0m\u001B[0m\n\u001B[0;32m    106\u001B[0m         \u001B[0malgo\u001B[0m\u001B[1;33m.\u001B[0m\u001B[0mfit\u001B[0m\u001B[1;33m(\u001B[0m\u001B[0mtrain_data\u001B[0m\u001B[1;33m)\u001B[0m\u001B[1;33m\u001B[0m\u001B[1;33m\u001B[0m\u001B[0m\n\u001B[1;32m--> 107\u001B[1;33m         eval = ranking_metrics_at_k(model=algo,\n\u001B[0m\u001B[0;32m    108\u001B[0m                                     \u001B[0mtrain_user_items\u001B[0m\u001B[1;33m=\u001B[0m\u001B[0mtrain_data\u001B[0m\u001B[1;33m.\u001B[0m\u001B[0mT\u001B[0m\u001B[1;33m.\u001B[0m\u001B[0mtocsr\u001B[0m\u001B[1;33m(\u001B[0m\u001B[1;33m)\u001B[0m\u001B[1;33m,\u001B[0m\u001B[1;33m\u001B[0m\u001B[1;33m\u001B[0m\u001B[0m\n\u001B[0;32m    109\u001B[0m                                     \u001B[0mtest_user_items\u001B[0m\u001B[1;33m=\u001B[0m\u001B[0mtest_data\u001B[0m\u001B[1;33m.\u001B[0m\u001B[0mT\u001B[0m\u001B[1;33m.\u001B[0m\u001B[0mtocsr\u001B[0m\u001B[1;33m(\u001B[0m\u001B[1;33m)\u001B[0m\u001B[1;33m,\u001B[0m\u001B[1;33m\u001B[0m\u001B[1;33m\u001B[0m\u001B[0m\n",
      "\u001B[1;32mimplicit\\evaluation.pyx\u001B[0m in \u001B[0;36mimplicit.evaluation.ranking_metrics_at_k\u001B[1;34m()\u001B[0m\n",
      "\u001B[1;32mimplicit/recommender_base.pyx\u001B[0m in \u001B[0;36mimplicit.recommender_base.MatrixFactorizationBase.recommend\u001B[1;34m()\u001B[0m\n",
      "\u001B[1;32m<__array_function__ internals>\u001B[0m in \u001B[0;36margpartition\u001B[1;34m(*args, **kwargs)\u001B[0m\n",
      "\u001B[1;32m~\\Anaconda3\\envs\\DS1-RecommendationSystems\\lib\\site-packages\\numpy\\core\\fromnumeric.py\u001B[0m in \u001B[0;36margpartition\u001B[1;34m(a, kth, axis, kind, order)\u001B[0m\n\u001B[0;32m    835\u001B[0m \u001B[1;33m\u001B[0m\u001B[0m\n\u001B[0;32m    836\u001B[0m     \"\"\"\n\u001B[1;32m--> 837\u001B[1;33m     \u001B[1;32mreturn\u001B[0m \u001B[0m_wrapfunc\u001B[0m\u001B[1;33m(\u001B[0m\u001B[0ma\u001B[0m\u001B[1;33m,\u001B[0m \u001B[1;34m'argpartition'\u001B[0m\u001B[1;33m,\u001B[0m \u001B[0mkth\u001B[0m\u001B[1;33m,\u001B[0m \u001B[0maxis\u001B[0m\u001B[1;33m=\u001B[0m\u001B[0maxis\u001B[0m\u001B[1;33m,\u001B[0m \u001B[0mkind\u001B[0m\u001B[1;33m=\u001B[0m\u001B[0mkind\u001B[0m\u001B[1;33m,\u001B[0m \u001B[0morder\u001B[0m\u001B[1;33m=\u001B[0m\u001B[0morder\u001B[0m\u001B[1;33m)\u001B[0m\u001B[1;33m\u001B[0m\u001B[1;33m\u001B[0m\u001B[0m\n\u001B[0m\u001B[0;32m    838\u001B[0m \u001B[1;33m\u001B[0m\u001B[0m\n\u001B[0;32m    839\u001B[0m \u001B[1;33m\u001B[0m\u001B[0m\n",
      "\u001B[1;32m~\\Anaconda3\\envs\\DS1-RecommendationSystems\\lib\\site-packages\\numpy\\core\\fromnumeric.py\u001B[0m in \u001B[0;36m_wrapfunc\u001B[1;34m(obj, method, *args, **kwds)\u001B[0m\n\u001B[0;32m     56\u001B[0m \u001B[1;33m\u001B[0m\u001B[0m\n\u001B[0;32m     57\u001B[0m     \u001B[1;32mtry\u001B[0m\u001B[1;33m:\u001B[0m\u001B[1;33m\u001B[0m\u001B[1;33m\u001B[0m\u001B[0m\n\u001B[1;32m---> 58\u001B[1;33m         \u001B[1;32mreturn\u001B[0m \u001B[0mbound\u001B[0m\u001B[1;33m(\u001B[0m\u001B[1;33m*\u001B[0m\u001B[0margs\u001B[0m\u001B[1;33m,\u001B[0m \u001B[1;33m**\u001B[0m\u001B[0mkwds\u001B[0m\u001B[1;33m)\u001B[0m\u001B[1;33m\u001B[0m\u001B[1;33m\u001B[0m\u001B[0m\n\u001B[0m\u001B[0;32m     59\u001B[0m     \u001B[1;32mexcept\u001B[0m \u001B[0mTypeError\u001B[0m\u001B[1;33m:\u001B[0m\u001B[1;33m\u001B[0m\u001B[1;33m\u001B[0m\u001B[0m\n\u001B[0;32m     60\u001B[0m         \u001B[1;31m# A TypeError occurs if the object does have such a method in its\u001B[0m\u001B[1;33m\u001B[0m\u001B[1;33m\u001B[0m\u001B[1;33m\u001B[0m\u001B[0m\n",
      "\u001B[1;31mKeyboardInterrupt\u001B[0m: "
     ]
    }
   ],
   "source": [
    "grid.fit(dataset.item_user)\n",
    "grid.get_result(show=False)"
   ],
   "metadata": {
    "collapsed": false,
    "pycharm": {
     "name": "#%%\n"
    }
   }
  },
  {
   "cell_type": "code",
   "execution_count": 59,
   "outputs": [
    {
     "data": {
      "text/plain": "   alpha  factors  iterations  regularization    Fold 0    Fold 1    Fold 2  \\\n0      1       64          10             0.1  0.126279  0.124360  0.124801   \n1     10       64          10             0.1  0.100637  0.124959  0.124703   \n2     20       64          10             0.1  0.081768  0.124503  0.124307   \n3     30       64          10             0.1  0.072311  0.125041  0.125045   \n4     40       64          10             0.1  0.062710  0.125001  0.124891   \n5     50       64          10             0.1  0.056887  0.124354  0.125255   \n\n     Fold 3    Fold 4      mean       std  \n0  0.125506  0.124731  0.125135  0.000682  \n1  0.123934  0.125761  0.119999  0.009699  \n2  0.124493  0.125541  0.116123  0.017183  \n3  0.124714  0.125305  0.114483  0.021087  \n4  0.123978  0.125131  0.112342  0.024819  \n5  0.123058  0.124212  0.110753  0.026942  ",
      "text/html": "<div>\n<style scoped>\n    .dataframe tbody tr th:only-of-type {\n        vertical-align: middle;\n    }\n\n    .dataframe tbody tr th {\n        vertical-align: top;\n    }\n\n    .dataframe thead th {\n        text-align: right;\n    }\n</style>\n<table border=\"1\" class=\"dataframe\">\n  <thead>\n    <tr style=\"text-align: right;\">\n      <th></th>\n      <th>alpha</th>\n      <th>factors</th>\n      <th>iterations</th>\n      <th>regularization</th>\n      <th>Fold 0</th>\n      <th>Fold 1</th>\n      <th>Fold 2</th>\n      <th>Fold 3</th>\n      <th>Fold 4</th>\n      <th>mean</th>\n      <th>std</th>\n    </tr>\n  </thead>\n  <tbody>\n    <tr>\n      <th>0</th>\n      <td>1</td>\n      <td>64</td>\n      <td>10</td>\n      <td>0.1</td>\n      <td>0.126279</td>\n      <td>0.124360</td>\n      <td>0.124801</td>\n      <td>0.125506</td>\n      <td>0.124731</td>\n      <td>0.125135</td>\n      <td>0.000682</td>\n    </tr>\n    <tr>\n      <th>1</th>\n      <td>10</td>\n      <td>64</td>\n      <td>10</td>\n      <td>0.1</td>\n      <td>0.100637</td>\n      <td>0.124959</td>\n      <td>0.124703</td>\n      <td>0.123934</td>\n      <td>0.125761</td>\n      <td>0.119999</td>\n      <td>0.009699</td>\n    </tr>\n    <tr>\n      <th>2</th>\n      <td>20</td>\n      <td>64</td>\n      <td>10</td>\n      <td>0.1</td>\n      <td>0.081768</td>\n      <td>0.124503</td>\n      <td>0.124307</td>\n      <td>0.124493</td>\n      <td>0.125541</td>\n      <td>0.116123</td>\n      <td>0.017183</td>\n    </tr>\n    <tr>\n      <th>3</th>\n      <td>30</td>\n      <td>64</td>\n      <td>10</td>\n      <td>0.1</td>\n      <td>0.072311</td>\n      <td>0.125041</td>\n      <td>0.125045</td>\n      <td>0.124714</td>\n      <td>0.125305</td>\n      <td>0.114483</td>\n      <td>0.021087</td>\n    </tr>\n    <tr>\n      <th>4</th>\n      <td>40</td>\n      <td>64</td>\n      <td>10</td>\n      <td>0.1</td>\n      <td>0.062710</td>\n      <td>0.125001</td>\n      <td>0.124891</td>\n      <td>0.123978</td>\n      <td>0.125131</td>\n      <td>0.112342</td>\n      <td>0.024819</td>\n    </tr>\n    <tr>\n      <th>5</th>\n      <td>50</td>\n      <td>64</td>\n      <td>10</td>\n      <td>0.1</td>\n      <td>0.056887</td>\n      <td>0.124354</td>\n      <td>0.125255</td>\n      <td>0.123058</td>\n      <td>0.124212</td>\n      <td>0.110753</td>\n      <td>0.026942</td>\n    </tr>\n  </tbody>\n</table>\n</div>"
     },
     "execution_count": 59,
     "metadata": {},
     "output_type": "execute_result"
    }
   ],
   "source": [
    "inf = grid.get_result(show=False, filter_metric='map')\n",
    "df = pd.DataFrame(inf)\n",
    "df"
   ],
   "metadata": {
    "collapsed": false,
    "pycharm": {
     "name": "#%%\n"
    }
   }
  },
  {
   "cell_type": "code",
   "execution_count": 5,
   "outputs": [
    {
     "name": "stdout",
     "output_type": "stream",
     "text": [
      "alpha              1.000000\n",
      "factors           64.000000\n",
      "iterations        10.000000\n",
      "regularization     0.100000\n",
      "Fold 0             0.130713\n",
      "Fold 1             0.127383\n",
      "Fold 2             0.128475\n",
      "Fold 3             0.129593\n",
      "Fold 4             0.129868\n",
      "mean               0.129206\n",
      "std                0.001159\n",
      "Name: 213, dtype: float64\n"
     ]
    }
   ],
   "source": [
    "df = pd.read_csv(\"T:/SubredditDataset/Gridsearch_new.csv\")\n",
    "best = df.iloc[df['mean'].argmax()]\n",
    "print(best)"
   ],
   "metadata": {
    "collapsed": false,
    "pycharm": {
     "name": "#%%\n"
    }
   }
  },
  {
   "cell_type": "code",
   "execution_count": 48,
   "outputs": [
    {
     "data": {
      "text/plain": "  0%|          | 0/10 [00:00<?, ?it/s]",
      "application/vnd.jupyter.widget-view+json": {
       "version_major": 2,
       "version_minor": 0,
       "model_id": "f40b309e2ea5410fb1b460c61226bf33"
      }
     },
     "metadata": {},
     "output_type": "display_data"
    }
   ],
   "source": [
    "# , **grid.get_best()['map'][1]\n",
    "best_model = AlternatingLeastSquares(regularization=0.01,\n",
    "                                     iterations=10,\n",
    "                                     factors=32)\n",
    "best_model.fit(dataset.item_user)"
   ],
   "metadata": {
    "collapsed": false,
    "pycharm": {
     "name": "#%%\n"
    }
   }
  },
  {
   "cell_type": "code",
   "execution_count": 49,
   "outputs": [
    {
     "name": "stdout",
     "output_type": "stream",
     "text": [
      "1  Python              1.000\n",
      "2  learnpython         0.939\n",
      "3  learnprogramming    0.906\n",
      "4  webdev              0.882\n",
      "5  programming         0.871\n",
      "6  web_design          0.863\n",
      "7  programminghorror   0.843\n",
      "8  javascript          0.831\n",
      "9  linux4noobs         0.817\n",
      "10 Wordpress           0.817\n"
     ]
    }
   ],
   "source": [
    "reddit = \"Python\"\n",
    "sitems = best_model.similar_items(dataset.get_item_id(reddit), N=10)\n",
    "\n",
    "for i, (idx, dist) in enumerate(sitems):\n",
    "    print(\"{0:<3}{1:<20}{2:.3f}\".format(i + 1, dataset.get_item(idx), dist))\n"
   ],
   "metadata": {
    "collapsed": false,
    "pycharm": {
     "name": "#%%\n"
    }
   }
  },
  {
   "cell_type": "code",
   "execution_count": 18,
   "outputs": [
    {
     "name": "stdout",
     "output_type": "stream",
     "text": [
      "1  britishproblems     0.849\n",
      "2  UKPersonalFinance   0.723\n",
      "3  CoronavirusUK       0.704\n",
      "4  london              0.704\n",
      "5  Scotland            0.703\n",
      "6  politics            0.628\n",
      "7  soccer              0.554\n",
      "8  LegalAdviceUK       0.541\n",
      "9  brexit              0.521\n",
      "10 videos              0.508\n",
      "------------------------------\n",
      "True feedback:\n",
      "unitedkingdom          661\n",
      "ukpolitics             89 \n",
      "europe                 46 \n",
      "worldnews              9  \n",
      "CasualUK               6  \n",
      "ModSupport             6  \n",
      "PoliticalDiscussion    6  \n",
      "Roadcam                6  \n",
      "AskUK                  5  \n",
      "de                     5  \n",
      "news                   3  \n",
      "Showerthoughts         2  \n",
      "aww                    2  \n",
      "france                 2  \n",
      "nottheonion            2  \n",
      "todayilearned          2  \n",
      "AskReddit              1  \n",
      "ich_iel                1  \n",
      "space                  1  \n"
     ]
    }
   ],
   "source": [
    "user = \"-ah\"  # -ah IncognitoCumShot\n",
    "userid = dataset.get_user_id(user)\n",
    "\n",
    "rec = best_model.recommend(userid, dataset.user_item, N=10, filter_already_liked_items=True)\n",
    "\n",
    "for i, (idx, dist) in enumerate(rec):\n",
    "    print(\"{0:<3}{1:<20}{2:.3f}\".format(i + 1, dataset.get_item(idx), dist))\n",
    "print(\"-\" * 30)\n",
    "print(\"True feedback:\")\n",
    "for subreddit, rating in sorted(zip(dataset.user_item.getrow(userid).indices,\n",
    "                                    dataset.user_item.getrow(userid).data), key=lambda x: x[1],\n",
    "                                reverse=True):\n",
    "    print(\"{0:<23}{1:<3}\".format(dataset.get_item(subreddit), rating))"
   ],
   "metadata": {
    "collapsed": false,
    "pycharm": {
     "name": "#%%\n"
    }
   }
  },
  {
   "cell_type": "markdown",
   "source": [
    "Testing Cosine Neighbours"
   ],
   "metadata": {
    "collapsed": false
   }
  },
  {
   "cell_type": "code",
   "execution_count": 63,
   "outputs": [
    {
     "name": "stdout",
     "output_type": "stream",
     "text": [
      "Number of parameters combinations in grid: 1\n"
     ]
    }
   ],
   "source": [
    "\n",
    "neighbour_model = CosineRecommender\n",
    "\n",
    "parameter = dict(K=list(range(191, 201, 10)))\n",
    "grid = GridSearchCV(algo=neighbour_model,\n",
    "                    param_grid=parameter,\n",
    "                    cv=5,  # Number of folds in cross validation\n",
    "                    eval_k=10,  # Number of Top items to check in validation\n",
    "                    metrics=['map', 'precision'],  # the metrics to use\n",
    "                    random_state=0)\n",
    "print(\"Number of parameters combinations in grid:\", len(grid))"
   ],
   "metadata": {
    "collapsed": false,
    "pycharm": {
     "name": "#%%\n"
    }
   }
  },
  {
   "cell_type": "code",
   "execution_count": 65,
   "outputs": [
    {
     "data": {
      "text/plain": "{'param_set_0': {'params': {'K': 191},\n  'Fold 0': {'map': 0.08446494289922978, 'precision': 0.17294201417912758},\n  'Fold 1': {'map': 0.0828053443133263, 'precision': 0.17167078770752384},\n  'Fold 2': {'map': 0.08415020210528971, 'precision': 0.1727898753024381},\n  'Fold 3': {'map': 0.08344882702446713, 'precision': 0.17319929050743602},\n  'Fold 4': {'map': 0.08478858616009882, 'precision': 0.17471788625969378},\n  'mean': {'map': 0.08393158050048234, 'precision': 0.17306397079124386},\n  'std': {'map': 0.0007166852060654527, 'precision': 0.0009782339862583421}}}"
     },
     "execution_count": 64,
     "metadata": {},
     "output_type": "execute_result"
    },
    {
     "data": {
      "text/plain": "  0%|          | 0/2483 [00:00<?, ?it/s]",
      "application/vnd.jupyter.widget-view+json": {
       "version_major": 2,
       "version_minor": 0,
       "model_id": "328b64ea1e1e436f96340aaf6ea73223"
      }
     },
     "metadata": {},
     "output_type": "display_data"
    },
    {
     "data": {
      "text/plain": "  0%|          | 0/2483 [00:00<?, ?it/s]",
      "application/vnd.jupyter.widget-view+json": {
       "version_major": 2,
       "version_minor": 0,
       "model_id": "1bad72ea2afb446a967db260e066c8c5"
      }
     },
     "metadata": {},
     "output_type": "display_data"
    },
    {
     "data": {
      "text/plain": "  0%|          | 0/2483 [00:00<?, ?it/s]",
      "application/vnd.jupyter.widget-view+json": {
       "version_major": 2,
       "version_minor": 0,
       "model_id": "1a27749a63744fa0b7ab58af8c159961"
      }
     },
     "metadata": {},
     "output_type": "display_data"
    },
    {
     "data": {
      "text/plain": "  0%|          | 0/2483 [00:00<?, ?it/s]",
      "application/vnd.jupyter.widget-view+json": {
       "version_major": 2,
       "version_minor": 0,
       "model_id": "6295915655ba45568a13031a99f949f3"
      }
     },
     "metadata": {},
     "output_type": "display_data"
    },
    {
     "data": {
      "text/plain": "  0%|          | 0/2483 [00:00<?, ?it/s]",
      "application/vnd.jupyter.widget-view+json": {
       "version_major": 2,
       "version_minor": 0,
       "model_id": "0a782d7e05664368b9c97bda7bc65581"
      }
     },
     "metadata": {},
     "output_type": "display_data"
    },
    {
     "data": {
      "text/plain": "{'param_set_0': {'params': {'K': 191},\n  'Fold 0': {'map': 0.08446494289922978, 'precision': 0.17294201417912758},\n  'Fold 1': {'map': 0.0828053443133263, 'precision': 0.17167078770752384},\n  'Fold 2': {'map': 0.08415020210528971, 'precision': 0.1727898753024381},\n  'Fold 3': {'map': 0.08344882702446713, 'precision': 0.17319929050743602},\n  'Fold 4': {'map': 0.08478858616009882, 'precision': 0.17471788625969378},\n  'mean': {'map': 0.08393158050048234, 'precision': 0.17306397079124386},\n  'std': {'map': 0.0007166852060654527, 'precision': 0.0009782339862583421}}}"
     },
     "execution_count": 65,
     "metadata": {},
     "output_type": "execute_result"
    }
   ],
   "source": [
    "grid.fit(dataset.item_user.astype(float))\n",
    "grid.get_result(show=False)\n"
   ],
   "metadata": {
    "collapsed": false,
    "pycharm": {
     "name": "#%%\n"
    }
   }
  },
  {
   "cell_type": "code",
   "execution_count": 66,
   "outputs": [
    {
     "data": {
      "text/plain": "     K    Fold 0    Fold 1   Fold 2    Fold 3    Fold 4      mean       std\n0  191  0.084465  0.082805  0.08415  0.083449  0.084789  0.083932  0.000717",
      "text/html": "<div>\n<style scoped>\n    .dataframe tbody tr th:only-of-type {\n        vertical-align: middle;\n    }\n\n    .dataframe tbody tr th {\n        vertical-align: top;\n    }\n\n    .dataframe thead th {\n        text-align: right;\n    }\n</style>\n<table border=\"1\" class=\"dataframe\">\n  <thead>\n    <tr style=\"text-align: right;\">\n      <th></th>\n      <th>K</th>\n      <th>Fold 0</th>\n      <th>Fold 1</th>\n      <th>Fold 2</th>\n      <th>Fold 3</th>\n      <th>Fold 4</th>\n      <th>mean</th>\n      <th>std</th>\n    </tr>\n  </thead>\n  <tbody>\n    <tr>\n      <th>0</th>\n      <td>191</td>\n      <td>0.084465</td>\n      <td>0.082805</td>\n      <td>0.08415</td>\n      <td>0.083449</td>\n      <td>0.084789</td>\n      <td>0.083932</td>\n      <td>0.000717</td>\n    </tr>\n  </tbody>\n</table>\n</div>"
     },
     "execution_count": 66,
     "metadata": {},
     "output_type": "execute_result"
    }
   ],
   "source": [
    "inf = grid.get_result(show=False, filter_metric='map')\n",
    "df = pd.DataFrame(inf)\n",
    "#df.to_csv(\"nearst_neigh_grid.csv\", index=False)\n",
    "df"
   ],
   "metadata": {
    "collapsed": false,
    "pycharm": {
     "name": "#%%\n"
    }
   }
  },
  {
   "cell_type": "code",
   "execution_count": 3,
   "outputs": [
    {
     "data": {
      "text/plain": "  0%|          | 0/2483 [00:00<?, ?it/s]",
      "application/vnd.jupyter.widget-view+json": {
       "version_major": 2,
       "version_minor": 0,
       "model_id": "f910c41a03184ba4b451caa3342071b8"
      }
     },
     "metadata": {},
     "output_type": "display_data"
    }
   ],
   "source": [
    "m = CosineRecommender(K=180)\n",
    "m.fit(dataset.item_user.astype(float))"
   ],
   "metadata": {
    "collapsed": false,
    "pycharm": {
     "name": "#%%\n"
    }
   }
  },
  {
   "cell_type": "code",
   "execution_count": 43,
   "outputs": [
    {
     "name": "stdout",
     "output_type": "stream",
     "text": [
      "1  Python              1.000\n",
      "2  learnpython         0.338\n",
      "3  programming         0.173\n",
      "4  CryptoMarkets       0.154\n",
      "5  learnprogramming    0.147\n",
      "6  ProgrammerHumor     0.142\n",
      "7  linux               0.104\n",
      "8  javascript          0.073\n",
      "9  linux4noobs         0.068\n",
      "10 raspberry_pi        0.066\n"
     ]
    }
   ],
   "source": [
    "reddit = \"Python\"\n",
    "sitems = m.similar_items(dataset.get_item_id(reddit), N=10)\n",
    "\n",
    "for i, (idx, dist) in enumerate(sitems):\n",
    "    print(\"{0:<3}{1:<20}{2:.3f}\".format(i + 1, dataset.get_item(idx), dist))"
   ],
   "metadata": {
    "collapsed": false,
    "pycharm": {
     "name": "#%%\n"
    }
   }
  },
  {
   "cell_type": "code",
   "execution_count": 15,
   "outputs": [
    {
     "name": "stdout",
     "output_type": "stream",
     "text": [
      "CryptoMarkets       & 26.46 \\\\\n",
      "binance             & 12.73 \\\\\n",
      "btc                 & 11.27 \\\\\n",
      "CoinBase            & 10.29 \\\\\n",
      "ethtrader           & 10.10 \\\\\n",
      "cardano             & 9.96 \\\\\n",
      "SatoshiStreetBets   & 8.14 \\\\\n",
      "crafts              & 8.13 \\\\\n",
      "ethereum            & 7.92 \\\\\n",
      "wallstreetbets      & 6.55 \\\\\n"
     ]
    }
   ],
   "source": [
    "user = \"BigMac3k\"  # -ah IncognitoCumShot\n",
    "userid = dataset.get_user_id(user)\n",
    "\n",
    "rec = m.recommend(userid, dataset.user_item.astype(float), N=10, filter_already_liked_items=True)\n",
    "\n",
    "for i, (idx, dist) in enumerate(rec):\n",
    "    print(\"{1:<20}& {2:.2f} \\\\\\\\\".format(i + 1, dataset.get_item(idx), dist))"
   ],
   "metadata": {
    "collapsed": false,
    "pycharm": {
     "name": "#%%\n"
    }
   }
  }
 ],
 "metadata": {
  "kernelspec": {
   "display_name": "Python 3",
   "language": "python",
   "name": "python3"
  },
  "language_info": {
   "codemirror_mode": {
    "name": "ipython",
    "version": 2
   },
   "file_extension": ".py",
   "mimetype": "text/x-python",
   "name": "python",
   "nbconvert_exporter": "python",
   "pygments_lexer": "ipython2",
   "version": "2.7.6"
  }
 },
 "nbformat": 4,
 "nbformat_minor": 0
}