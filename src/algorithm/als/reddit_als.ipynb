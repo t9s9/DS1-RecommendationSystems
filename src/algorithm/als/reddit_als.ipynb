{
 "cells": [
  {
   "cell_type": "code",
   "execution_count": 2,
   "metadata": {
    "collapsed": true
   },
   "outputs": [],
   "source": [
    "from dataset import Dataset\n",
    "from model_selection import GridSearchCV\n",
    "\n",
    "from implicit.als import AlternatingLeastSquares\n",
    "from implicit.evaluation import train_test_split, ranking_metrics_at_k\n",
    "\n",
    "import pandas as pd\n",
    "import numpy as np\n",
    "import random\n",
    "from tqdm import tqdm\n",
    "from scipy.sparse import csr_matrix, coo_matrix\n",
    "import matplotlib.pyplot as plt"
   ]
  },
  {
   "cell_type": "code",
   "execution_count": 3,
   "outputs": [],
   "source": [
    "dataset = Dataset.from_csv(\"C:/Users/TS/PycharmProjects/DS1-RecommendationSystems/data.csv\",\n",
    "                           user=\"user\", item=\"subreddit\", rating='count')"
   ],
   "metadata": {
    "collapsed": false,
    "pycharm": {
     "name": "#%%\n"
    }
   }
  },
  {
   "cell_type": "code",
   "execution_count": 6,
   "outputs": [
    {
     "name": "stdout",
     "output_type": "stream",
     "text": [
      "Number of parameters combinations in grid: 2\n"
     ]
    }
   ],
   "source": [
    "model = AlternatingLeastSquares\n",
    "\n",
    "parameter = dict(iterations=[10, 20],\n",
    "                 factors=[60],\n",
    "                 alpha=[1],\n",
    "                 regularization=[0.01],\n",
    "                 )\n",
    "grid = GridSearchCV(algo=model,\n",
    "                    param_grid=parameter,\n",
    "                    cv=5, # Number of folds in cross validation\n",
    "                    eval_k=10, # NUmber of Top items to check in validation\n",
    "                    metrics=['map', 'precision'] # the metrics to use\n",
    "                    )\n",
    "print(\"Number of parameters combinations in grid:\", len(grid))"
   ],
   "metadata": {
    "collapsed": false,
    "pycharm": {
     "name": "#%%\n"
    }
   }
  },
  {
   "cell_type": "code",
   "execution_count": 7,
   "outputs": [
    {
     "data": {
      "text/plain": "  0%|          | 0/10 [00:00<?, ?it/s]",
      "application/vnd.jupyter.widget-view+json": {
       "version_major": 2,
       "version_minor": 0,
       "model_id": "3efb6cc943b648358bfac92e1dc6ba0b"
      }
     },
     "metadata": {},
     "output_type": "display_data"
    },
    {
     "data": {
      "text/plain": "  0%|          | 0/23581 [00:00<?, ?it/s]",
      "application/vnd.jupyter.widget-view+json": {
       "version_major": 2,
       "version_minor": 0,
       "model_id": "b469195d7be84add8096c6cf03913466"
      }
     },
     "metadata": {},
     "output_type": "display_data"
    },
    {
     "data": {
      "text/plain": "  0%|          | 0/10 [00:00<?, ?it/s]",
      "application/vnd.jupyter.widget-view+json": {
       "version_major": 2,
       "version_minor": 0,
       "model_id": "52bd0525a38c497aa7e414ea3f0a6c4a"
      }
     },
     "metadata": {},
     "output_type": "display_data"
    },
    {
     "data": {
      "text/plain": "  0%|          | 0/23581 [00:00<?, ?it/s]",
      "application/vnd.jupyter.widget-view+json": {
       "version_major": 2,
       "version_minor": 0,
       "model_id": "fc21565917c14e6dac04f441e99cf9a7"
      }
     },
     "metadata": {},
     "output_type": "display_data"
    },
    {
     "data": {
      "text/plain": "  0%|          | 0/10 [00:00<?, ?it/s]",
      "application/vnd.jupyter.widget-view+json": {
       "version_major": 2,
       "version_minor": 0,
       "model_id": "556d2117d5664462ab7d849d1013105d"
      }
     },
     "metadata": {},
     "output_type": "display_data"
    },
    {
     "data": {
      "text/plain": "  0%|          | 0/23581 [00:00<?, ?it/s]",
      "application/vnd.jupyter.widget-view+json": {
       "version_major": 2,
       "version_minor": 0,
       "model_id": "aa1e1ac372f64e9599e23f4472aa6a35"
      }
     },
     "metadata": {},
     "output_type": "display_data"
    },
    {
     "data": {
      "text/plain": "  0%|          | 0/10 [00:00<?, ?it/s]",
      "application/vnd.jupyter.widget-view+json": {
       "version_major": 2,
       "version_minor": 0,
       "model_id": "871c8266909e45b1a21581c2c35061fe"
      }
     },
     "metadata": {},
     "output_type": "display_data"
    },
    {
     "data": {
      "text/plain": "  0%|          | 0/23581 [00:00<?, ?it/s]",
      "application/vnd.jupyter.widget-view+json": {
       "version_major": 2,
       "version_minor": 0,
       "model_id": "6680ce7055ff48a5a85d134ac45ca636"
      }
     },
     "metadata": {},
     "output_type": "display_data"
    },
    {
     "data": {
      "text/plain": "  0%|          | 0/10 [00:00<?, ?it/s]",
      "application/vnd.jupyter.widget-view+json": {
       "version_major": 2,
       "version_minor": 0,
       "model_id": "b95b75cfe4e349c4a5a22c7fcde5bddf"
      }
     },
     "metadata": {},
     "output_type": "display_data"
    },
    {
     "data": {
      "text/plain": "  0%|          | 0/23581 [00:00<?, ?it/s]",
      "application/vnd.jupyter.widget-view+json": {
       "version_major": 2,
       "version_minor": 0,
       "model_id": "211041fe6d33465689feb9e45b34fd71"
      }
     },
     "metadata": {},
     "output_type": "display_data"
    },
    {
     "data": {
      "text/plain": "  0%|          | 0/20 [00:00<?, ?it/s]",
      "application/vnd.jupyter.widget-view+json": {
       "version_major": 2,
       "version_minor": 0,
       "model_id": "001df8aa82a6460a8a0456fe4baf9aa2"
      }
     },
     "metadata": {},
     "output_type": "display_data"
    },
    {
     "data": {
      "text/plain": "  0%|          | 0/23581 [00:00<?, ?it/s]",
      "application/vnd.jupyter.widget-view+json": {
       "version_major": 2,
       "version_minor": 0,
       "model_id": "cd5c5f8215054dc0a10e3df03d08f995"
      }
     },
     "metadata": {},
     "output_type": "display_data"
    },
    {
     "data": {
      "text/plain": "  0%|          | 0/20 [00:00<?, ?it/s]",
      "application/vnd.jupyter.widget-view+json": {
       "version_major": 2,
       "version_minor": 0,
       "model_id": "65321fb2bd4b4eec8d3fc9a5cac07cd2"
      }
     },
     "metadata": {},
     "output_type": "display_data"
    },
    {
     "data": {
      "text/plain": "  0%|          | 0/23581 [00:00<?, ?it/s]",
      "application/vnd.jupyter.widget-view+json": {
       "version_major": 2,
       "version_minor": 0,
       "model_id": "e8bf12bc93204fa38b80e808d6e433bd"
      }
     },
     "metadata": {},
     "output_type": "display_data"
    },
    {
     "data": {
      "text/plain": "  0%|          | 0/20 [00:00<?, ?it/s]",
      "application/vnd.jupyter.widget-view+json": {
       "version_major": 2,
       "version_minor": 0,
       "model_id": "5cf36a4693b24598b37e2cfdf87fe2f6"
      }
     },
     "metadata": {},
     "output_type": "display_data"
    },
    {
     "data": {
      "text/plain": "  0%|          | 0/23581 [00:00<?, ?it/s]",
      "application/vnd.jupyter.widget-view+json": {
       "version_major": 2,
       "version_minor": 0,
       "model_id": "efb07e7d74fb499a98270038619bccad"
      }
     },
     "metadata": {},
     "output_type": "display_data"
    },
    {
     "data": {
      "text/plain": "  0%|          | 0/20 [00:00<?, ?it/s]",
      "application/vnd.jupyter.widget-view+json": {
       "version_major": 2,
       "version_minor": 0,
       "model_id": "635b96bd521247a78a3c6e66ebb56210"
      }
     },
     "metadata": {},
     "output_type": "display_data"
    },
    {
     "data": {
      "text/plain": "  0%|          | 0/23581 [00:00<?, ?it/s]",
      "application/vnd.jupyter.widget-view+json": {
       "version_major": 2,
       "version_minor": 0,
       "model_id": "5eeb3938a5d4433e96e1d3b637fe30a9"
      }
     },
     "metadata": {},
     "output_type": "display_data"
    },
    {
     "data": {
      "text/plain": "  0%|          | 0/20 [00:00<?, ?it/s]",
      "application/vnd.jupyter.widget-view+json": {
       "version_major": 2,
       "version_minor": 0,
       "model_id": "4ea6729a5fd3477ba53f005f9b46b3b3"
      }
     },
     "metadata": {},
     "output_type": "display_data"
    },
    {
     "data": {
      "text/plain": "  0%|          | 0/23581 [00:00<?, ?it/s]",
      "application/vnd.jupyter.widget-view+json": {
       "version_major": 2,
       "version_minor": 0,
       "model_id": "017e3195437044cb8ad422738f97862a"
      }
     },
     "metadata": {},
     "output_type": "display_data"
    },
    {
     "data": {
      "text/plain": "<model_selection.GridSearchCV at 0x1ca59354ac0>"
     },
     "execution_count": 7,
     "metadata": {},
     "output_type": "execute_result"
    }
   ],
   "source": [
    "grid.fit(dataset.item_user)\n",
    "grid.get_result(show=False)"
   ],
   "metadata": {
    "collapsed": false,
    "pycharm": {
     "name": "#%%\n"
    }
   }
  },
  {
   "cell_type": "code",
   "execution_count": 10,
   "outputs": [
    {
     "data": {
      "text/plain": "  0%|          | 0/10 [00:00<?, ?it/s]",
      "application/vnd.jupyter.widget-view+json": {
       "version_major": 2,
       "version_minor": 0,
       "model_id": "ab21b7faf6144bef9f66403fca004961"
      }
     },
     "metadata": {},
     "output_type": "display_data"
    }
   ],
   "source": [
    "best_model = AlternatingLeastSquares(**grid.get_best()['map'][1])\n",
    "best_model.fit(dataset.item_user)"
   ],
   "metadata": {
    "collapsed": false,
    "pycharm": {
     "name": "#%%\n"
    }
   }
  },
  {
   "cell_type": "code",
   "execution_count": 13,
   "outputs": [
    {
     "name": "stdout",
     "output_type": "stream",
     "text": [
      "1  nba                 1.000\n",
      "2  nfl                 0.745\n",
      "3  baseball            0.659\n",
      "4  NBA2k               0.648\n",
      "5  CollegeBasketball   0.642\n",
      "6  nbadiscussion       0.641\n",
      "7  ripcity             0.625\n",
      "8  fantasybball        0.621\n",
      "9  rockets             0.619\n",
      "10 CFB                 0.618\n"
     ]
    }
   ],
   "source": [
    "reddit = \"nba\"\n",
    "\n",
    "related = best_model.similar_items(dataset.get_item_id(reddit), N=10)\n",
    "\n",
    "for i, (idx, dist) in enumerate(related):\n",
    "    print(\"{0:<3}{1:<20}{2:.3f}\".format(i + 1, dataset.get_item(idx), dist))"
   ],
   "metadata": {
    "collapsed": false,
    "pycharm": {
     "name": "#%%\n"
    }
   }
  },
  {
   "cell_type": "code",
   "execution_count": 20,
   "outputs": [
    {
     "name": "stdout",
     "output_type": "stream",
     "text": [
      "1  Bitcoin             0.795\n",
      "2  pennystocks         0.720\n",
      "3  Superstonk          0.712\n",
      "4  politics            0.650\n",
      "5  StockMarket         0.610\n",
      "6  worldnews           0.536\n",
      "7  ethtrader           0.531\n",
      "8  pics                0.530\n",
      "9  news                0.510\n",
      "10 gaming              0.509\n",
      "------------------------------\n",
      "True feedback:\n",
      "wallstreetbets         635\n",
      "CryptoCurrency         99 \n",
      "stocks                 18 \n",
      "options                10 \n",
      "interestingasfuck      8  \n",
      "HVAC                   5  \n",
      "Wallstreetbetsnew      5  \n",
      "runescape              4  \n",
      "australia              3  \n",
      "AskReddit              2  \n",
      "dogecoin               2  \n",
      "pcmasterrace           2  \n",
      "SPACs                  1  \n",
      "gifs                   1  \n",
      "spacex                 1  \n",
      "technology             1  \n",
      "tifu                   1  \n",
      "videos                 1  \n"
     ]
    }
   ],
   "source": [
    "user = \"IncognitoCumShot\"  # -ah IncognitoCumShot\n",
    "\n",
    "userid = dataset.get_user_id(user)\n",
    "\n",
    "rec = best_model.recommend(userid, dataset.user_item, N=10, filter_already_liked_items=True)\n",
    "for i, (idx, dist) in enumerate(rec):\n",
    "    print(\"{0:<3}{1:<20}{2:.3f}\".format(i + 1, dataset.get_item(idx), dist))\n",
    "\n",
    "print(\"-\"*30)\n",
    "print(\"True feedback:\")\n",
    "for subreddit, rating in sorted(zip(dataset.user_item.getrow(userid).indices,\n",
    "                                    dataset.user_item.getrow(userid).data), key=lambda x: x[1], reverse=True):\n",
    "    print(\"{0:<23}{1:<3}\".format(dataset.get_item(subreddit), rating))"
   ],
   "metadata": {
    "collapsed": false,
    "pycharm": {
     "name": "#%%\n"
    }
   }
  }
 ],
 "metadata": {
  "kernelspec": {
   "display_name": "Python 3",
   "language": "python",
   "name": "python3"
  },
  "language_info": {
   "codemirror_mode": {
    "name": "ipython",
    "version": 2
   },
   "file_extension": ".py",
   "mimetype": "text/x-python",
   "name": "python",
   "nbconvert_exporter": "python",
   "pygments_lexer": "ipython2",
   "version": "2.7.6"
  }
 },
 "nbformat": 4,
 "nbformat_minor": 0
}