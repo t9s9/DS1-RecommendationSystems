{
 "cells": [
  {
   "cell_type": "code",
   "execution_count": 41,
   "metadata": {
    "collapsed": true
   },
   "outputs": [],
   "source": [
    "import pandas as pd\n",
    "from implicit.als import AlternatingLeastSquares\n",
    "from implicit.evaluation import mean_average_precision_at_k, ranking_metrics_at_k\n",
    "\n",
    "from src.algorithm.als.sparsedataset import SparseDataset\n",
    "from model_selection import GridSearchCV, KFold\n",
    "from src.algorithm.als.model_wrapper import ImplicitModelWrapper\n",
    "\n",
    "from implicit.nearest_neighbours import CosineRecommender, normalize, BM25Recommender, TFIDFRecommender\n",
    "\n",
    "import matplotlib.pyplot as plt\n",
    "\n",
    "plt.rcParams['figure.facecolor'] = 'white'"
   ]
  },
  {
   "cell_type": "code",
   "execution_count": 9,
   "outputs": [
    {
     "name": "stdout",
     "output_type": "stream",
     "text": [
      "Loading csv.\n",
      "Creating pivot.\n"
     ]
    }
   ],
   "source": [
    "dataset, test = SparseDataset.from_csv(\"C:/Users/TS/PycharmProjects/DS1-RecommendationSystems/data.csv\",\n",
    "                                 user=\"user\", item=\"subreddit\", rating='count')"
   ],
   "metadata": {
    "collapsed": false,
    "pycharm": {
     "name": "#%%\n"
    }
   }
  },
  {
   "cell_type": "code",
   "execution_count": 78,
   "outputs": [
    {
     "name": "stdout",
     "output_type": "stream",
     "text": [
      "Number of parameters combinations in grid: 1\n"
     ]
    }
   ],
   "source": [
    "model = AlternatingLeastSquares\n",
    "\n",
    "parameter = dict(iterations=[10],\n",
    "                 factors=[64],\n",
    "                 alpha=[1],\n",
    "                 regularization=[0.1],\n",
    "                 )\n",
    "grid = GridSearchCV(algo=model,\n",
    "                    param_grid=parameter,\n",
    "                    cv=5,  # Number of folds in cross validation\n",
    "                    eval_k=20,  # Number of Top items to check in validation\n",
    "                    metrics=['map', 'precision'],  # the metrics to use\n",
    "                    random_state=0)\n",
    "print(\"Number of parameters combinations in grid:\", len(grid))"
   ],
   "metadata": {
    "collapsed": false,
    "pycharm": {
     "name": "#%%\n"
    }
   }
  },
  {
   "cell_type": "code",
   "execution_count": 77,
   "outputs": [
    {
     "data": {
      "text/plain": "  0%|          | 0/10 [00:00<?, ?it/s]",
      "application/vnd.jupyter.widget-view+json": {
       "version_major": 2,
       "version_minor": 0,
       "model_id": "5f39b8465eca487498a3c2a4daff54f2"
      }
     },
     "metadata": {},
     "output_type": "display_data"
    },
    {
     "data": {
      "text/plain": "  0%|          | 0/10 [00:00<?, ?it/s]",
      "application/vnd.jupyter.widget-view+json": {
       "version_major": 2,
       "version_minor": 0,
       "model_id": "c58a4b2c821a4fe8995cd07b5ef6ef9a"
      }
     },
     "metadata": {},
     "output_type": "display_data"
    },
    {
     "data": {
      "text/plain": "  0%|          | 0/10 [00:00<?, ?it/s]",
      "application/vnd.jupyter.widget-view+json": {
       "version_major": 2,
       "version_minor": 0,
       "model_id": "d6b48a7013a54a3b92af569717ba88a2"
      }
     },
     "metadata": {},
     "output_type": "display_data"
    },
    {
     "data": {
      "text/plain": "  0%|          | 0/10 [00:00<?, ?it/s]",
      "application/vnd.jupyter.widget-view+json": {
       "version_major": 2,
       "version_minor": 0,
       "model_id": "4c37372ff9b3461a88a30e1152f4e8aa"
      }
     },
     "metadata": {},
     "output_type": "display_data"
    },
    {
     "data": {
      "text/plain": "  0%|          | 0/10 [00:00<?, ?it/s]",
      "application/vnd.jupyter.widget-view+json": {
       "version_major": 2,
       "version_minor": 0,
       "model_id": "ae55fc9a28934337b867e5f13d4c70c5"
      }
     },
     "metadata": {},
     "output_type": "display_data"
    },
    {
     "data": {
      "text/plain": "{'param_set_0': {'params': {'alpha': 1,\n   'factors': 64,\n   'iterations': 10,\n   'regularization': 0.1},\n  'Fold 0': {'map': 0.12847238237923747, 'precision': 0.23237576538129906},\n  'Fold 1': {'map': 0.12816494833311556, 'precision': 0.23295454545454544},\n  'Fold 2': {'map': 0.1311190490954621, 'precision': 0.23469793430963026},\n  'Fold 3': {'map': 0.1283675372795771, 'precision': 0.232661375978387},\n  'Fold 4': {'map': 0.13022042512699, 'precision': 0.2335801393728223},\n  'mean': {'map': 0.12926886844287644, 'precision': 0.2332539520993368},\n  'std': {'map': 0.001182713498233923, 'precision': 0.0008250436922770743}}}"
     },
     "execution_count": 77,
     "metadata": {},
     "output_type": "execute_result"
    }
   ],
   "source": [
    "grid.fit(dataset.item_user)\n",
    "grid.get_result(show=False)"
   ],
   "metadata": {
    "collapsed": false,
    "pycharm": {
     "name": "#%%\n"
    }
   }
  },
  {
   "cell_type": "code",
   "execution_count": 52,
   "outputs": [
    {
     "data": {
      "text/plain": "   alpha  factors  iterations  regularization    Fold 0    Fold 1    Fold 2  \\\n0      1       64           5           0.010  0.125840  0.124978  0.123817   \n1      1       64           5           1.000  0.126453  0.124971  0.124607   \n2      1       64           5           0.001  0.124098  0.120606  0.122643   \n3      1       64           5           0.100  0.129130  0.127581  0.127489   \n\n     Fold 3    Fold 4      mean       std  \n0  0.126122  0.125970  0.125346  0.000861  \n1  0.125668  0.126584  0.125657  0.000783  \n2  0.123171  0.122291  0.122562  0.001152  \n3  0.128568  0.128250  0.128203  0.000615  ",
      "text/html": "<div>\n<style scoped>\n    .dataframe tbody tr th:only-of-type {\n        vertical-align: middle;\n    }\n\n    .dataframe tbody tr th {\n        vertical-align: top;\n    }\n\n    .dataframe thead th {\n        text-align: right;\n    }\n</style>\n<table border=\"1\" class=\"dataframe\">\n  <thead>\n    <tr style=\"text-align: right;\">\n      <th></th>\n      <th>alpha</th>\n      <th>factors</th>\n      <th>iterations</th>\n      <th>regularization</th>\n      <th>Fold 0</th>\n      <th>Fold 1</th>\n      <th>Fold 2</th>\n      <th>Fold 3</th>\n      <th>Fold 4</th>\n      <th>mean</th>\n      <th>std</th>\n    </tr>\n  </thead>\n  <tbody>\n    <tr>\n      <th>0</th>\n      <td>1</td>\n      <td>64</td>\n      <td>5</td>\n      <td>0.010</td>\n      <td>0.125840</td>\n      <td>0.124978</td>\n      <td>0.123817</td>\n      <td>0.126122</td>\n      <td>0.125970</td>\n      <td>0.125346</td>\n      <td>0.000861</td>\n    </tr>\n    <tr>\n      <th>1</th>\n      <td>1</td>\n      <td>64</td>\n      <td>5</td>\n      <td>1.000</td>\n      <td>0.126453</td>\n      <td>0.124971</td>\n      <td>0.124607</td>\n      <td>0.125668</td>\n      <td>0.126584</td>\n      <td>0.125657</td>\n      <td>0.000783</td>\n    </tr>\n    <tr>\n      <th>2</th>\n      <td>1</td>\n      <td>64</td>\n      <td>5</td>\n      <td>0.001</td>\n      <td>0.124098</td>\n      <td>0.120606</td>\n      <td>0.122643</td>\n      <td>0.123171</td>\n      <td>0.122291</td>\n      <td>0.122562</td>\n      <td>0.001152</td>\n    </tr>\n    <tr>\n      <th>3</th>\n      <td>1</td>\n      <td>64</td>\n      <td>5</td>\n      <td>0.100</td>\n      <td>0.129130</td>\n      <td>0.127581</td>\n      <td>0.127489</td>\n      <td>0.128568</td>\n      <td>0.128250</td>\n      <td>0.128203</td>\n      <td>0.000615</td>\n    </tr>\n  </tbody>\n</table>\n</div>"
     },
     "execution_count": 52,
     "metadata": {},
     "output_type": "execute_result"
    }
   ],
   "source": [
    "inf = grid.get_result(show=False, filter_metric='map')\n",
    "df = pd.DataFrame(inf)"
   ],
   "metadata": {
    "collapsed": false,
    "pycharm": {
     "name": "#%%\n"
    }
   }
  },
  {
   "cell_type": "code",
   "execution_count": 5,
   "outputs": [
    {
     "name": "stdout",
     "output_type": "stream",
     "text": [
      "alpha              1.000000\n",
      "factors           64.000000\n",
      "iterations        10.000000\n",
      "regularization     0.100000\n",
      "Fold 0             0.130713\n",
      "Fold 1             0.127383\n",
      "Fold 2             0.128475\n",
      "Fold 3             0.129593\n",
      "Fold 4             0.129868\n",
      "mean               0.129206\n",
      "std                0.001159\n",
      "Name: 213, dtype: float64\n"
     ]
    }
   ],
   "source": [
    "df = pd.read_csv(\"T:/SubredditDataset/Gridsearch_new.csv\")\n",
    "best = df.iloc[df['mean'].argmax()]\n",
    "print(best)"
   ],
   "metadata": {
    "collapsed": false,
    "pycharm": {
     "name": "#%%\n"
    }
   }
  },
  {
   "cell_type": "code",
   "execution_count": 48,
   "outputs": [
    {
     "data": {
      "text/plain": "  0%|          | 0/10 [00:00<?, ?it/s]",
      "application/vnd.jupyter.widget-view+json": {
       "version_major": 2,
       "version_minor": 0,
       "model_id": "f40b309e2ea5410fb1b460c61226bf33"
      }
     },
     "metadata": {},
     "output_type": "display_data"
    }
   ],
   "source": [
    "# , **grid.get_best()['map'][1]\n",
    "best_model = AlternatingLeastSquares(regularization=0.01,\n",
    "                                     iterations=10,\n",
    "                                     factors=32)\n",
    "best_model.fit(dataset.item_user)"
   ],
   "metadata": {
    "collapsed": false,
    "pycharm": {
     "name": "#%%\n"
    }
   }
  },
  {
   "cell_type": "code",
   "execution_count": 49,
   "outputs": [
    {
     "name": "stdout",
     "output_type": "stream",
     "text": [
      "1  Python              1.000\n",
      "2  learnpython         0.939\n",
      "3  learnprogramming    0.906\n",
      "4  webdev              0.882\n",
      "5  programming         0.871\n",
      "6  web_design          0.863\n",
      "7  programminghorror   0.843\n",
      "8  javascript          0.831\n",
      "9  linux4noobs         0.817\n",
      "10 Wordpress           0.817\n"
     ]
    }
   ],
   "source": [
    "reddit = \"Python\"\n",
    "sitems = best_model.similar_items(dataset.get_item_id(reddit), N=10)\n",
    "\n",
    "for i, (idx, dist) in enumerate(sitems):\n",
    "    print(\"{0:<3}{1:<20}{2:.3f}\".format(i + 1, dataset.get_item(idx), dist))\n"
   ],
   "metadata": {
    "collapsed": false,
    "pycharm": {
     "name": "#%%\n"
    }
   }
  },
  {
   "cell_type": "code",
   "execution_count": 18,
   "outputs": [
    {
     "name": "stdout",
     "output_type": "stream",
     "text": [
      "1  britishproblems     0.849\n",
      "2  UKPersonalFinance   0.723\n",
      "3  CoronavirusUK       0.704\n",
      "4  london              0.704\n",
      "5  Scotland            0.703\n",
      "6  politics            0.628\n",
      "7  soccer              0.554\n",
      "8  LegalAdviceUK       0.541\n",
      "9  brexit              0.521\n",
      "10 videos              0.508\n",
      "------------------------------\n",
      "True feedback:\n",
      "unitedkingdom          661\n",
      "ukpolitics             89 \n",
      "europe                 46 \n",
      "worldnews              9  \n",
      "CasualUK               6  \n",
      "ModSupport             6  \n",
      "PoliticalDiscussion    6  \n",
      "Roadcam                6  \n",
      "AskUK                  5  \n",
      "de                     5  \n",
      "news                   3  \n",
      "Showerthoughts         2  \n",
      "aww                    2  \n",
      "france                 2  \n",
      "nottheonion            2  \n",
      "todayilearned          2  \n",
      "AskReddit              1  \n",
      "ich_iel                1  \n",
      "space                  1  \n"
     ]
    }
   ],
   "source": [
    "user = \"-ah\"  # -ah IncognitoCumShot\n",
    "userid = dataset.get_user_id(user)\n",
    "\n",
    "rec = best_model.recommend(userid, dataset.user_item, N=10, filter_already_liked_items=True)\n",
    "\n",
    "for i, (idx, dist) in enumerate(rec):\n",
    "    print(\"{0:<3}{1:<20}{2:.3f}\".format(i + 1, dataset.get_item(idx), dist))\n",
    "print(\"-\" * 30)\n",
    "print(\"True feedback:\")\n",
    "for subreddit, rating in sorted(zip(dataset.user_item.getrow(userid).indices,\n",
    "                                    dataset.user_item.getrow(userid).data), key=lambda x: x[1],\n",
    "                                reverse=True):\n",
    "    print(\"{0:<23}{1:<3}\".format(dataset.get_item(subreddit), rating))"
   ],
   "metadata": {
    "collapsed": false,
    "pycharm": {
     "name": "#%%\n"
    }
   }
  },
  {
   "cell_type": "markdown",
   "source": [
    "Testing Cosine Neighbours"
   ],
   "metadata": {
    "collapsed": false
   }
  },
  {
   "cell_type": "code",
   "execution_count": 44,
   "outputs": [
    {
     "name": "stdout",
     "output_type": "stream",
     "text": [
      "Number of parameters combinations in grid: 20\n"
     ]
    }
   ],
   "source": [
    "\n",
    "neighbour_model = TFIDFRecommender\n",
    "\n",
    "parameter = dict(K=list(range(10, 201, 10)))\n",
    "grid = GridSearchCV(algo=neighbour_model,\n",
    "                    param_grid=parameter,\n",
    "                    cv=5,  # Number of folds in cross validation\n",
    "                    eval_k=10,  # Number of Top items to check in validation\n",
    "                    metrics=['map', 'precision'],  # the metrics to use\n",
    "                    random_state=0)\n",
    "print(\"Number of parameters combinations in grid:\", len(grid))"
   ],
   "metadata": {
    "collapsed": false,
    "pycharm": {
     "name": "#%%\n"
    }
   }
  },
  {
   "cell_type": "code",
   "execution_count": 45,
   "outputs": [
    {
     "data": {
      "text/plain": "  0%|          | 0/2483 [00:00<?, ?it/s]",
      "application/vnd.jupyter.widget-view+json": {
       "version_major": 2,
       "version_minor": 0,
       "model_id": "c82c7f40693d465984eaef5f16751984"
      }
     },
     "metadata": {},
     "output_type": "display_data"
    },
    {
     "data": {
      "text/plain": "  0%|          | 0/2483 [00:00<?, ?it/s]",
      "application/vnd.jupyter.widget-view+json": {
       "version_major": 2,
       "version_minor": 0,
       "model_id": "15abeb695104418fb45cf51ab7ca2f27"
      }
     },
     "metadata": {},
     "output_type": "display_data"
    },
    {
     "data": {
      "text/plain": "  0%|          | 0/2483 [00:00<?, ?it/s]",
      "application/vnd.jupyter.widget-view+json": {
       "version_major": 2,
       "version_minor": 0,
       "model_id": "3f68854f16594231ab905bb5f2761a5a"
      }
     },
     "metadata": {},
     "output_type": "display_data"
    },
    {
     "data": {
      "text/plain": "  0%|          | 0/2483 [00:00<?, ?it/s]",
      "application/vnd.jupyter.widget-view+json": {
       "version_major": 2,
       "version_minor": 0,
       "model_id": "7478efef4bc14132b8d7ca06aa3a6184"
      }
     },
     "metadata": {},
     "output_type": "display_data"
    },
    {
     "data": {
      "text/plain": "  0%|          | 0/2483 [00:00<?, ?it/s]",
      "application/vnd.jupyter.widget-view+json": {
       "version_major": 2,
       "version_minor": 0,
       "model_id": "eb2e629957204394aef27038ed8e6c98"
      }
     },
     "metadata": {},
     "output_type": "display_data"
    },
    {
     "data": {
      "text/plain": "  0%|          | 0/2483 [00:00<?, ?it/s]",
      "application/vnd.jupyter.widget-view+json": {
       "version_major": 2,
       "version_minor": 0,
       "model_id": "aa669608922747f688a0c033d8c143a2"
      }
     },
     "metadata": {},
     "output_type": "display_data"
    },
    {
     "data": {
      "text/plain": "  0%|          | 0/2483 [00:00<?, ?it/s]",
      "application/vnd.jupyter.widget-view+json": {
       "version_major": 2,
       "version_minor": 0,
       "model_id": "ada5ede105dc46aa9384b91b2294db1e"
      }
     },
     "metadata": {},
     "output_type": "display_data"
    },
    {
     "data": {
      "text/plain": "  0%|          | 0/2483 [00:00<?, ?it/s]",
      "application/vnd.jupyter.widget-view+json": {
       "version_major": 2,
       "version_minor": 0,
       "model_id": "b9d91bec289b47ffbecf0d17c69a1667"
      }
     },
     "metadata": {},
     "output_type": "display_data"
    },
    {
     "data": {
      "text/plain": "  0%|          | 0/2483 [00:00<?, ?it/s]",
      "application/vnd.jupyter.widget-view+json": {
       "version_major": 2,
       "version_minor": 0,
       "model_id": "d42e927955354186b5f72ded07e20937"
      }
     },
     "metadata": {},
     "output_type": "display_data"
    },
    {
     "data": {
      "text/plain": "  0%|          | 0/2483 [00:00<?, ?it/s]",
      "application/vnd.jupyter.widget-view+json": {
       "version_major": 2,
       "version_minor": 0,
       "model_id": "b5be1ca51c5b45a7a051041948a5fd9d"
      }
     },
     "metadata": {},
     "output_type": "display_data"
    },
    {
     "data": {
      "text/plain": "  0%|          | 0/2483 [00:00<?, ?it/s]",
      "application/vnd.jupyter.widget-view+json": {
       "version_major": 2,
       "version_minor": 0,
       "model_id": "c1590505ec364273963205a0565f1b1a"
      }
     },
     "metadata": {},
     "output_type": "display_data"
    },
    {
     "data": {
      "text/plain": "  0%|          | 0/2483 [00:00<?, ?it/s]",
      "application/vnd.jupyter.widget-view+json": {
       "version_major": 2,
       "version_minor": 0,
       "model_id": "a6ae60cd9dbe48a4b39561d67090d5bf"
      }
     },
     "metadata": {},
     "output_type": "display_data"
    },
    {
     "data": {
      "text/plain": "  0%|          | 0/2483 [00:00<?, ?it/s]",
      "application/vnd.jupyter.widget-view+json": {
       "version_major": 2,
       "version_minor": 0,
       "model_id": "77c5ef1d24f34edcb7a8b9bc5eeb3a90"
      }
     },
     "metadata": {},
     "output_type": "display_data"
    },
    {
     "data": {
      "text/plain": "  0%|          | 0/2483 [00:00<?, ?it/s]",
      "application/vnd.jupyter.widget-view+json": {
       "version_major": 2,
       "version_minor": 0,
       "model_id": "7ce4280c2f4a4d7a8411ea6c08bf29c5"
      }
     },
     "metadata": {},
     "output_type": "display_data"
    },
    {
     "data": {
      "text/plain": "  0%|          | 0/2483 [00:00<?, ?it/s]",
      "application/vnd.jupyter.widget-view+json": {
       "version_major": 2,
       "version_minor": 0,
       "model_id": "3cebfee571a2463999393b65b1b185e0"
      }
     },
     "metadata": {},
     "output_type": "display_data"
    },
    {
     "data": {
      "text/plain": "  0%|          | 0/2483 [00:00<?, ?it/s]",
      "application/vnd.jupyter.widget-view+json": {
       "version_major": 2,
       "version_minor": 0,
       "model_id": "b4937ed9f5a64b4f914c62a5cc652ccf"
      }
     },
     "metadata": {},
     "output_type": "display_data"
    },
    {
     "data": {
      "text/plain": "  0%|          | 0/2483 [00:00<?, ?it/s]",
      "application/vnd.jupyter.widget-view+json": {
       "version_major": 2,
       "version_minor": 0,
       "model_id": "7d5e49c879f94d32886b1d9cdea1615b"
      }
     },
     "metadata": {},
     "output_type": "display_data"
    },
    {
     "data": {
      "text/plain": "  0%|          | 0/2483 [00:00<?, ?it/s]",
      "application/vnd.jupyter.widget-view+json": {
       "version_major": 2,
       "version_minor": 0,
       "model_id": "aeb5b4d1793e4553b5ea88f9e7ccfe9b"
      }
     },
     "metadata": {},
     "output_type": "display_data"
    },
    {
     "data": {
      "text/plain": "  0%|          | 0/2483 [00:00<?, ?it/s]",
      "application/vnd.jupyter.widget-view+json": {
       "version_major": 2,
       "version_minor": 0,
       "model_id": "8a9cd0725a284a4ebde1f6b08b908ca0"
      }
     },
     "metadata": {},
     "output_type": "display_data"
    },
    {
     "data": {
      "text/plain": "  0%|          | 0/2483 [00:00<?, ?it/s]",
      "application/vnd.jupyter.widget-view+json": {
       "version_major": 2,
       "version_minor": 0,
       "model_id": "606a53d4c3104d118977780d9b7d15c2"
      }
     },
     "metadata": {},
     "output_type": "display_data"
    },
    {
     "data": {
      "text/plain": "  0%|          | 0/2483 [00:00<?, ?it/s]",
      "application/vnd.jupyter.widget-view+json": {
       "version_major": 2,
       "version_minor": 0,
       "model_id": "a980a22205dc4e8789713b02c69d1ef8"
      }
     },
     "metadata": {},
     "output_type": "display_data"
    },
    {
     "data": {
      "text/plain": "  0%|          | 0/2483 [00:00<?, ?it/s]",
      "application/vnd.jupyter.widget-view+json": {
       "version_major": 2,
       "version_minor": 0,
       "model_id": "9991f0a66c724d65bfb3ec12833c280d"
      }
     },
     "metadata": {},
     "output_type": "display_data"
    },
    {
     "data": {
      "text/plain": "  0%|          | 0/2483 [00:00<?, ?it/s]",
      "application/vnd.jupyter.widget-view+json": {
       "version_major": 2,
       "version_minor": 0,
       "model_id": "16a10e894fa04b2b9f1de82d22b183e9"
      }
     },
     "metadata": {},
     "output_type": "display_data"
    },
    {
     "data": {
      "text/plain": "  0%|          | 0/2483 [00:00<?, ?it/s]",
      "application/vnd.jupyter.widget-view+json": {
       "version_major": 2,
       "version_minor": 0,
       "model_id": "34582bd6869c4d11bfe4ad6b03e0a2a0"
      }
     },
     "metadata": {},
     "output_type": "display_data"
    },
    {
     "data": {
      "text/plain": "  0%|          | 0/2483 [00:00<?, ?it/s]",
      "application/vnd.jupyter.widget-view+json": {
       "version_major": 2,
       "version_minor": 0,
       "model_id": "5c2cf7594b7b460288ff647c1245cf35"
      }
     },
     "metadata": {},
     "output_type": "display_data"
    },
    {
     "data": {
      "text/plain": "  0%|          | 0/2483 [00:00<?, ?it/s]",
      "application/vnd.jupyter.widget-view+json": {
       "version_major": 2,
       "version_minor": 0,
       "model_id": "69d812f3f5c745d4866fced4cad418e3"
      }
     },
     "metadata": {},
     "output_type": "display_data"
    },
    {
     "data": {
      "text/plain": "  0%|          | 0/2483 [00:00<?, ?it/s]",
      "application/vnd.jupyter.widget-view+json": {
       "version_major": 2,
       "version_minor": 0,
       "model_id": "839d2d6ea1ce40e6aa461023b100aab8"
      }
     },
     "metadata": {},
     "output_type": "display_data"
    },
    {
     "data": {
      "text/plain": "  0%|          | 0/2483 [00:00<?, ?it/s]",
      "application/vnd.jupyter.widget-view+json": {
       "version_major": 2,
       "version_minor": 0,
       "model_id": "9d43950f67bd426da05dae018d25a147"
      }
     },
     "metadata": {},
     "output_type": "display_data"
    },
    {
     "data": {
      "text/plain": "  0%|          | 0/2483 [00:00<?, ?it/s]",
      "application/vnd.jupyter.widget-view+json": {
       "version_major": 2,
       "version_minor": 0,
       "model_id": "2981013e8db847f7a5506e73d08767d0"
      }
     },
     "metadata": {},
     "output_type": "display_data"
    },
    {
     "data": {
      "text/plain": "  0%|          | 0/2483 [00:00<?, ?it/s]",
      "application/vnd.jupyter.widget-view+json": {
       "version_major": 2,
       "version_minor": 0,
       "model_id": "a29c9ca5633742b3adc168c7e85bdfa7"
      }
     },
     "metadata": {},
     "output_type": "display_data"
    },
    {
     "data": {
      "text/plain": "  0%|          | 0/2483 [00:00<?, ?it/s]",
      "application/vnd.jupyter.widget-view+json": {
       "version_major": 2,
       "version_minor": 0,
       "model_id": "7115a2228e58474182a2e9ee78d6dd46"
      }
     },
     "metadata": {},
     "output_type": "display_data"
    },
    {
     "data": {
      "text/plain": "  0%|          | 0/2483 [00:00<?, ?it/s]",
      "application/vnd.jupyter.widget-view+json": {
       "version_major": 2,
       "version_minor": 0,
       "model_id": "466ebf8e7dfd407c858f21cda0092ac6"
      }
     },
     "metadata": {},
     "output_type": "display_data"
    },
    {
     "data": {
      "text/plain": "  0%|          | 0/2483 [00:00<?, ?it/s]",
      "application/vnd.jupyter.widget-view+json": {
       "version_major": 2,
       "version_minor": 0,
       "model_id": "fcae3bc5f85d4a0c9c20c04fc360dfef"
      }
     },
     "metadata": {},
     "output_type": "display_data"
    },
    {
     "data": {
      "text/plain": "  0%|          | 0/2483 [00:00<?, ?it/s]",
      "application/vnd.jupyter.widget-view+json": {
       "version_major": 2,
       "version_minor": 0,
       "model_id": "96e58ea96f9941018b9895556e2603b5"
      }
     },
     "metadata": {},
     "output_type": "display_data"
    },
    {
     "data": {
      "text/plain": "  0%|          | 0/2483 [00:00<?, ?it/s]",
      "application/vnd.jupyter.widget-view+json": {
       "version_major": 2,
       "version_minor": 0,
       "model_id": "ab972a1127364deead53efec9eb310ea"
      }
     },
     "metadata": {},
     "output_type": "display_data"
    },
    {
     "data": {
      "text/plain": "  0%|          | 0/2483 [00:00<?, ?it/s]",
      "application/vnd.jupyter.widget-view+json": {
       "version_major": 2,
       "version_minor": 0,
       "model_id": "2e9e0c778800420998c85ec020a9096f"
      }
     },
     "metadata": {},
     "output_type": "display_data"
    },
    {
     "data": {
      "text/plain": "  0%|          | 0/2483 [00:00<?, ?it/s]",
      "application/vnd.jupyter.widget-view+json": {
       "version_major": 2,
       "version_minor": 0,
       "model_id": "1525ef9420d7420798bec3e9dec1b2b9"
      }
     },
     "metadata": {},
     "output_type": "display_data"
    },
    {
     "data": {
      "text/plain": "  0%|          | 0/2483 [00:00<?, ?it/s]",
      "application/vnd.jupyter.widget-view+json": {
       "version_major": 2,
       "version_minor": 0,
       "model_id": "08768325508f4f7f93d038a5becdd9d6"
      }
     },
     "metadata": {},
     "output_type": "display_data"
    },
    {
     "data": {
      "text/plain": "  0%|          | 0/2483 [00:00<?, ?it/s]",
      "application/vnd.jupyter.widget-view+json": {
       "version_major": 2,
       "version_minor": 0,
       "model_id": "91be16b898b14bfea40fd0cd87f3e9cb"
      }
     },
     "metadata": {},
     "output_type": "display_data"
    },
    {
     "data": {
      "text/plain": "  0%|          | 0/2483 [00:00<?, ?it/s]",
      "application/vnd.jupyter.widget-view+json": {
       "version_major": 2,
       "version_minor": 0,
       "model_id": "ba1b1f999af84c59804baee227305681"
      }
     },
     "metadata": {},
     "output_type": "display_data"
    },
    {
     "data": {
      "text/plain": "  0%|          | 0/2483 [00:00<?, ?it/s]",
      "application/vnd.jupyter.widget-view+json": {
       "version_major": 2,
       "version_minor": 0,
       "model_id": "7e0d87aa0bc54dc882b4a1e78fd8beae"
      }
     },
     "metadata": {},
     "output_type": "display_data"
    },
    {
     "data": {
      "text/plain": "  0%|          | 0/2483 [00:00<?, ?it/s]",
      "application/vnd.jupyter.widget-view+json": {
       "version_major": 2,
       "version_minor": 0,
       "model_id": "8c0acd3d7abf44b5b13ec5fc37e7d7a1"
      }
     },
     "metadata": {},
     "output_type": "display_data"
    },
    {
     "data": {
      "text/plain": "  0%|          | 0/2483 [00:00<?, ?it/s]",
      "application/vnd.jupyter.widget-view+json": {
       "version_major": 2,
       "version_minor": 0,
       "model_id": "b73f1263baa54dde957d2ec060b170fe"
      }
     },
     "metadata": {},
     "output_type": "display_data"
    },
    {
     "data": {
      "text/plain": "  0%|          | 0/2483 [00:00<?, ?it/s]",
      "application/vnd.jupyter.widget-view+json": {
       "version_major": 2,
       "version_minor": 0,
       "model_id": "5fb293cfc8f443918cfad56c4b26a19d"
      }
     },
     "metadata": {},
     "output_type": "display_data"
    },
    {
     "data": {
      "text/plain": "  0%|          | 0/2483 [00:00<?, ?it/s]",
      "application/vnd.jupyter.widget-view+json": {
       "version_major": 2,
       "version_minor": 0,
       "model_id": "78d421bd10344debb4d19102e28defbc"
      }
     },
     "metadata": {},
     "output_type": "display_data"
    },
    {
     "data": {
      "text/plain": "  0%|          | 0/2483 [00:00<?, ?it/s]",
      "application/vnd.jupyter.widget-view+json": {
       "version_major": 2,
       "version_minor": 0,
       "model_id": "3f02dee3f0a54a14b9cfc4d26eba6dc1"
      }
     },
     "metadata": {},
     "output_type": "display_data"
    },
    {
     "data": {
      "text/plain": "  0%|          | 0/2483 [00:00<?, ?it/s]",
      "application/vnd.jupyter.widget-view+json": {
       "version_major": 2,
       "version_minor": 0,
       "model_id": "d0f63795f6be4cc0b08e0a813ea88e35"
      }
     },
     "metadata": {},
     "output_type": "display_data"
    },
    {
     "data": {
      "text/plain": "  0%|          | 0/2483 [00:00<?, ?it/s]",
      "application/vnd.jupyter.widget-view+json": {
       "version_major": 2,
       "version_minor": 0,
       "model_id": "185615bdc5df4e019694a20ca347b9c0"
      }
     },
     "metadata": {},
     "output_type": "display_data"
    },
    {
     "data": {
      "text/plain": "  0%|          | 0/2483 [00:00<?, ?it/s]",
      "application/vnd.jupyter.widget-view+json": {
       "version_major": 2,
       "version_minor": 0,
       "model_id": "57cd4b9e810941ce819deeb95345eff9"
      }
     },
     "metadata": {},
     "output_type": "display_data"
    },
    {
     "data": {
      "text/plain": "  0%|          | 0/2483 [00:00<?, ?it/s]",
      "application/vnd.jupyter.widget-view+json": {
       "version_major": 2,
       "version_minor": 0,
       "model_id": "282ac410dc9c4d63bd6de5de53566722"
      }
     },
     "metadata": {},
     "output_type": "display_data"
    },
    {
     "data": {
      "text/plain": "  0%|          | 0/2483 [00:00<?, ?it/s]",
      "application/vnd.jupyter.widget-view+json": {
       "version_major": 2,
       "version_minor": 0,
       "model_id": "7edfeeba9d58407e814e1cfaf4c45011"
      }
     },
     "metadata": {},
     "output_type": "display_data"
    },
    {
     "data": {
      "text/plain": "  0%|          | 0/2483 [00:00<?, ?it/s]",
      "application/vnd.jupyter.widget-view+json": {
       "version_major": 2,
       "version_minor": 0,
       "model_id": "cb7cfb1a8c96413bb7353c025a7db0b8"
      }
     },
     "metadata": {},
     "output_type": "display_data"
    },
    {
     "data": {
      "text/plain": "  0%|          | 0/2483 [00:00<?, ?it/s]",
      "application/vnd.jupyter.widget-view+json": {
       "version_major": 2,
       "version_minor": 0,
       "model_id": "95186e524ddc49bc9aeb25f85aa5b3b2"
      }
     },
     "metadata": {},
     "output_type": "display_data"
    },
    {
     "data": {
      "text/plain": "  0%|          | 0/2483 [00:00<?, ?it/s]",
      "application/vnd.jupyter.widget-view+json": {
       "version_major": 2,
       "version_minor": 0,
       "model_id": "ef435457b776431fad1fc8ddab6a47f0"
      }
     },
     "metadata": {},
     "output_type": "display_data"
    },
    {
     "data": {
      "text/plain": "  0%|          | 0/2483 [00:00<?, ?it/s]",
      "application/vnd.jupyter.widget-view+json": {
       "version_major": 2,
       "version_minor": 0,
       "model_id": "7e1be8a93b0746dda4457284c2eed991"
      }
     },
     "metadata": {},
     "output_type": "display_data"
    },
    {
     "data": {
      "text/plain": "  0%|          | 0/2483 [00:00<?, ?it/s]",
      "application/vnd.jupyter.widget-view+json": {
       "version_major": 2,
       "version_minor": 0,
       "model_id": "95ec19d06d734e5e8ccf17e7990d89f2"
      }
     },
     "metadata": {},
     "output_type": "display_data"
    },
    {
     "data": {
      "text/plain": "  0%|          | 0/2483 [00:00<?, ?it/s]",
      "application/vnd.jupyter.widget-view+json": {
       "version_major": 2,
       "version_minor": 0,
       "model_id": "27c7ca466aba40ceaedca77e6be4011c"
      }
     },
     "metadata": {},
     "output_type": "display_data"
    },
    {
     "data": {
      "text/plain": "  0%|          | 0/2483 [00:00<?, ?it/s]",
      "application/vnd.jupyter.widget-view+json": {
       "version_major": 2,
       "version_minor": 0,
       "model_id": "75101f17eeab490bb56f7c078a195bc7"
      }
     },
     "metadata": {},
     "output_type": "display_data"
    },
    {
     "data": {
      "text/plain": "  0%|          | 0/2483 [00:00<?, ?it/s]",
      "application/vnd.jupyter.widget-view+json": {
       "version_major": 2,
       "version_minor": 0,
       "model_id": "f3eee970fdbd4cf896edddf98a63ecfa"
      }
     },
     "metadata": {},
     "output_type": "display_data"
    },
    {
     "data": {
      "text/plain": "  0%|          | 0/2483 [00:00<?, ?it/s]",
      "application/vnd.jupyter.widget-view+json": {
       "version_major": 2,
       "version_minor": 0,
       "model_id": "db396ee51cc14790a73e0c9e2ccd3068"
      }
     },
     "metadata": {},
     "output_type": "display_data"
    },
    {
     "data": {
      "text/plain": "  0%|          | 0/2483 [00:00<?, ?it/s]",
      "application/vnd.jupyter.widget-view+json": {
       "version_major": 2,
       "version_minor": 0,
       "model_id": "be3a04836acb4b529b430e64262bc205"
      }
     },
     "metadata": {},
     "output_type": "display_data"
    },
    {
     "data": {
      "text/plain": "  0%|          | 0/2483 [00:00<?, ?it/s]",
      "application/vnd.jupyter.widget-view+json": {
       "version_major": 2,
       "version_minor": 0,
       "model_id": "67d31bbfe33f4350b974361882e9ee7b"
      }
     },
     "metadata": {},
     "output_type": "display_data"
    },
    {
     "data": {
      "text/plain": "  0%|          | 0/2483 [00:00<?, ?it/s]",
      "application/vnd.jupyter.widget-view+json": {
       "version_major": 2,
       "version_minor": 0,
       "model_id": "44e91395ac7a431da0c5d81369cedae6"
      }
     },
     "metadata": {},
     "output_type": "display_data"
    },
    {
     "data": {
      "text/plain": "  0%|          | 0/2483 [00:00<?, ?it/s]",
      "application/vnd.jupyter.widget-view+json": {
       "version_major": 2,
       "version_minor": 0,
       "model_id": "b5b0124d928d4785b4ed85c03f8dd956"
      }
     },
     "metadata": {},
     "output_type": "display_data"
    },
    {
     "data": {
      "text/plain": "  0%|          | 0/2483 [00:00<?, ?it/s]",
      "application/vnd.jupyter.widget-view+json": {
       "version_major": 2,
       "version_minor": 0,
       "model_id": "2a0855402a754ecf8e05178fab29a128"
      }
     },
     "metadata": {},
     "output_type": "display_data"
    },
    {
     "data": {
      "text/plain": "  0%|          | 0/2483 [00:00<?, ?it/s]",
      "application/vnd.jupyter.widget-view+json": {
       "version_major": 2,
       "version_minor": 0,
       "model_id": "1e24167a6815464d9e91b09ba720f7fd"
      }
     },
     "metadata": {},
     "output_type": "display_data"
    },
    {
     "data": {
      "text/plain": "  0%|          | 0/2483 [00:00<?, ?it/s]",
      "application/vnd.jupyter.widget-view+json": {
       "version_major": 2,
       "version_minor": 0,
       "model_id": "20de2557cd8c4e3f91fd868a8220b4cb"
      }
     },
     "metadata": {},
     "output_type": "display_data"
    },
    {
     "data": {
      "text/plain": "  0%|          | 0/2483 [00:00<?, ?it/s]",
      "application/vnd.jupyter.widget-view+json": {
       "version_major": 2,
       "version_minor": 0,
       "model_id": "f8d0e23e0e1f402598ab603d7884fee3"
      }
     },
     "metadata": {},
     "output_type": "display_data"
    },
    {
     "data": {
      "text/plain": "  0%|          | 0/2483 [00:00<?, ?it/s]",
      "application/vnd.jupyter.widget-view+json": {
       "version_major": 2,
       "version_minor": 0,
       "model_id": "e4b5f5e7782f4efe84858091bd942f9c"
      }
     },
     "metadata": {},
     "output_type": "display_data"
    },
    {
     "data": {
      "text/plain": "  0%|          | 0/2483 [00:00<?, ?it/s]",
      "application/vnd.jupyter.widget-view+json": {
       "version_major": 2,
       "version_minor": 0,
       "model_id": "68ddd531658c4f15aeb0d86610d4f346"
      }
     },
     "metadata": {},
     "output_type": "display_data"
    },
    {
     "data": {
      "text/plain": "  0%|          | 0/2483 [00:00<?, ?it/s]",
      "application/vnd.jupyter.widget-view+json": {
       "version_major": 2,
       "version_minor": 0,
       "model_id": "80bc3c28fadc4f3682dc85b262ac540d"
      }
     },
     "metadata": {},
     "output_type": "display_data"
    },
    {
     "data": {
      "text/plain": "  0%|          | 0/2483 [00:00<?, ?it/s]",
      "application/vnd.jupyter.widget-view+json": {
       "version_major": 2,
       "version_minor": 0,
       "model_id": "d3066c2190ab4b14921c82152f532886"
      }
     },
     "metadata": {},
     "output_type": "display_data"
    },
    {
     "data": {
      "text/plain": "  0%|          | 0/2483 [00:00<?, ?it/s]",
      "application/vnd.jupyter.widget-view+json": {
       "version_major": 2,
       "version_minor": 0,
       "model_id": "97cf56d70c4d4e09915f8c3a9c652e2a"
      }
     },
     "metadata": {},
     "output_type": "display_data"
    },
    {
     "data": {
      "text/plain": "  0%|          | 0/2483 [00:00<?, ?it/s]",
      "application/vnd.jupyter.widget-view+json": {
       "version_major": 2,
       "version_minor": 0,
       "model_id": "2c5f528301464da99b6c70fe5ab371ea"
      }
     },
     "metadata": {},
     "output_type": "display_data"
    },
    {
     "data": {
      "text/plain": "  0%|          | 0/2483 [00:00<?, ?it/s]",
      "application/vnd.jupyter.widget-view+json": {
       "version_major": 2,
       "version_minor": 0,
       "model_id": "9adcc87841d148d5a625887a23d7a87c"
      }
     },
     "metadata": {},
     "output_type": "display_data"
    },
    {
     "data": {
      "text/plain": "  0%|          | 0/2483 [00:00<?, ?it/s]",
      "application/vnd.jupyter.widget-view+json": {
       "version_major": 2,
       "version_minor": 0,
       "model_id": "48f6e0f6451d477e8904e8432723d536"
      }
     },
     "metadata": {},
     "output_type": "display_data"
    },
    {
     "data": {
      "text/plain": "  0%|          | 0/2483 [00:00<?, ?it/s]",
      "application/vnd.jupyter.widget-view+json": {
       "version_major": 2,
       "version_minor": 0,
       "model_id": "47dfc6d477764ec8b2813699b59c25ae"
      }
     },
     "metadata": {},
     "output_type": "display_data"
    },
    {
     "data": {
      "text/plain": "  0%|          | 0/2483 [00:00<?, ?it/s]",
      "application/vnd.jupyter.widget-view+json": {
       "version_major": 2,
       "version_minor": 0,
       "model_id": "188c02ad387548d9a7d1483162178002"
      }
     },
     "metadata": {},
     "output_type": "display_data"
    },
    {
     "data": {
      "text/plain": "  0%|          | 0/2483 [00:00<?, ?it/s]",
      "application/vnd.jupyter.widget-view+json": {
       "version_major": 2,
       "version_minor": 0,
       "model_id": "e40bcb3d425b4aa592cba08ff4cad647"
      }
     },
     "metadata": {},
     "output_type": "display_data"
    },
    {
     "data": {
      "text/plain": "  0%|          | 0/2483 [00:00<?, ?it/s]",
      "application/vnd.jupyter.widget-view+json": {
       "version_major": 2,
       "version_minor": 0,
       "model_id": "513b7c63a47b4423bdc718101fb1ba2f"
      }
     },
     "metadata": {},
     "output_type": "display_data"
    },
    {
     "data": {
      "text/plain": "  0%|          | 0/2483 [00:00<?, ?it/s]",
      "application/vnd.jupyter.widget-view+json": {
       "version_major": 2,
       "version_minor": 0,
       "model_id": "118815826b884142b27a5e971d6bffbc"
      }
     },
     "metadata": {},
     "output_type": "display_data"
    },
    {
     "data": {
      "text/plain": "  0%|          | 0/2483 [00:00<?, ?it/s]",
      "application/vnd.jupyter.widget-view+json": {
       "version_major": 2,
       "version_minor": 0,
       "model_id": "aafe2c0db7f9401da944466986a6e244"
      }
     },
     "metadata": {},
     "output_type": "display_data"
    },
    {
     "data": {
      "text/plain": "  0%|          | 0/2483 [00:00<?, ?it/s]",
      "application/vnd.jupyter.widget-view+json": {
       "version_major": 2,
       "version_minor": 0,
       "model_id": "e4509e943c2f4342b11cfc5430655705"
      }
     },
     "metadata": {},
     "output_type": "display_data"
    },
    {
     "data": {
      "text/plain": "  0%|          | 0/2483 [00:00<?, ?it/s]",
      "application/vnd.jupyter.widget-view+json": {
       "version_major": 2,
       "version_minor": 0,
       "model_id": "4357ba4f91b2469bb08f2c4b6be66f7b"
      }
     },
     "metadata": {},
     "output_type": "display_data"
    },
    {
     "data": {
      "text/plain": "  0%|          | 0/2483 [00:00<?, ?it/s]",
      "application/vnd.jupyter.widget-view+json": {
       "version_major": 2,
       "version_minor": 0,
       "model_id": "30bdc6cbd5cf49d2becc41dce0021e3d"
      }
     },
     "metadata": {},
     "output_type": "display_data"
    },
    {
     "data": {
      "text/plain": "  0%|          | 0/2483 [00:00<?, ?it/s]",
      "application/vnd.jupyter.widget-view+json": {
       "version_major": 2,
       "version_minor": 0,
       "model_id": "1b00608eb3dd4b62945c53c7cffd1eae"
      }
     },
     "metadata": {},
     "output_type": "display_data"
    },
    {
     "data": {
      "text/plain": "  0%|          | 0/2483 [00:00<?, ?it/s]",
      "application/vnd.jupyter.widget-view+json": {
       "version_major": 2,
       "version_minor": 0,
       "model_id": "227ef33fc2fb4fa28a677297ff8076d0"
      }
     },
     "metadata": {},
     "output_type": "display_data"
    },
    {
     "data": {
      "text/plain": "  0%|          | 0/2483 [00:00<?, ?it/s]",
      "application/vnd.jupyter.widget-view+json": {
       "version_major": 2,
       "version_minor": 0,
       "model_id": "f8269a894b694e3d9dc3f4cae8c2f763"
      }
     },
     "metadata": {},
     "output_type": "display_data"
    },
    {
     "data": {
      "text/plain": "  0%|          | 0/2483 [00:00<?, ?it/s]",
      "application/vnd.jupyter.widget-view+json": {
       "version_major": 2,
       "version_minor": 0,
       "model_id": "ca3a2620d09c4cf791c7d30a696e73be"
      }
     },
     "metadata": {},
     "output_type": "display_data"
    },
    {
     "data": {
      "text/plain": "  0%|          | 0/2483 [00:00<?, ?it/s]",
      "application/vnd.jupyter.widget-view+json": {
       "version_major": 2,
       "version_minor": 0,
       "model_id": "2a7739fa48294b65b346f1781d6520e8"
      }
     },
     "metadata": {},
     "output_type": "display_data"
    },
    {
     "data": {
      "text/plain": "  0%|          | 0/2483 [00:00<?, ?it/s]",
      "application/vnd.jupyter.widget-view+json": {
       "version_major": 2,
       "version_minor": 0,
       "model_id": "5652459678d942f5bd1a5e27e7d82a59"
      }
     },
     "metadata": {},
     "output_type": "display_data"
    },
    {
     "data": {
      "text/plain": "  0%|          | 0/2483 [00:00<?, ?it/s]",
      "application/vnd.jupyter.widget-view+json": {
       "version_major": 2,
       "version_minor": 0,
       "model_id": "b98fae618d7c48b4bf0240d3ec2c77be"
      }
     },
     "metadata": {},
     "output_type": "display_data"
    },
    {
     "data": {
      "text/plain": "  0%|          | 0/2483 [00:00<?, ?it/s]",
      "application/vnd.jupyter.widget-view+json": {
       "version_major": 2,
       "version_minor": 0,
       "model_id": "5fcbf5042e8c417881162cc162eb0309"
      }
     },
     "metadata": {},
     "output_type": "display_data"
    },
    {
     "data": {
      "text/plain": "  0%|          | 0/2483 [00:00<?, ?it/s]",
      "application/vnd.jupyter.widget-view+json": {
       "version_major": 2,
       "version_minor": 0,
       "model_id": "47ece09b133f4e4cb2331ccfa9bb932c"
      }
     },
     "metadata": {},
     "output_type": "display_data"
    },
    {
     "data": {
      "text/plain": "  0%|          | 0/2483 [00:00<?, ?it/s]",
      "application/vnd.jupyter.widget-view+json": {
       "version_major": 2,
       "version_minor": 0,
       "model_id": "9af2f05e2415444f884d6a14bc2c89a2"
      }
     },
     "metadata": {},
     "output_type": "display_data"
    },
    {
     "data": {
      "text/plain": "  0%|          | 0/2483 [00:00<?, ?it/s]",
      "application/vnd.jupyter.widget-view+json": {
       "version_major": 2,
       "version_minor": 0,
       "model_id": "4f648a78769247babe8defa4a1fdd39d"
      }
     },
     "metadata": {},
     "output_type": "display_data"
    },
    {
     "data": {
      "text/plain": "  0%|          | 0/2483 [00:00<?, ?it/s]",
      "application/vnd.jupyter.widget-view+json": {
       "version_major": 2,
       "version_minor": 0,
       "model_id": "e44a08f5d0534604b32ab945427e2a46"
      }
     },
     "metadata": {},
     "output_type": "display_data"
    },
    {
     "data": {
      "text/plain": "  0%|          | 0/2483 [00:00<?, ?it/s]",
      "application/vnd.jupyter.widget-view+json": {
       "version_major": 2,
       "version_minor": 0,
       "model_id": "65e1261b631445789d8da07fe59edfe3"
      }
     },
     "metadata": {},
     "output_type": "display_data"
    },
    {
     "data": {
      "text/plain": "  0%|          | 0/2483 [00:00<?, ?it/s]",
      "application/vnd.jupyter.widget-view+json": {
       "version_major": 2,
       "version_minor": 0,
       "model_id": "34ebd922239349569d69daa92bde44ac"
      }
     },
     "metadata": {},
     "output_type": "display_data"
    },
    {
     "data": {
      "text/plain": "  0%|          | 0/2483 [00:00<?, ?it/s]",
      "application/vnd.jupyter.widget-view+json": {
       "version_major": 2,
       "version_minor": 0,
       "model_id": "7c82ae9514d14b98978eea11761dd53b"
      }
     },
     "metadata": {},
     "output_type": "display_data"
    },
    {
     "data": {
      "text/plain": "{'param_set_0': {'params': {'K': 10},\n  'Fold 0': {'map': 0.1018809651713145, 'precision': 0.19100337450852914},\n  'Fold 1': {'map': 0.10188809080666979, 'precision': 0.19365173796377202},\n  'Fold 2': {'map': 0.10275410269668374, 'precision': 0.19302686270860475},\n  'Fold 3': {'map': 0.10203132480131955, 'precision': 0.1926793267262872},\n  'Fold 4': {'map': 0.1029855062968817, 'precision': 0.19477654603300856},\n  'mean': {'map': 0.10230799795457386, 'precision': 0.19302756958804032},\n  'std': {'map': 0.0004676011204863614, 'precision': 0.001238316928469858}},\n 'param_set_1': {'params': {'K': 20},\n  'Fold 0': {'map': 0.1098415311782906, 'precision': 0.19788861025974427},\n  'Fold 1': {'map': 0.11056044964762489, 'precision': 0.2006544088940118},\n  'Fold 2': {'map': 0.11086072589406336, 'precision': 0.19965258390719026},\n  'Fold 3': {'map': 0.1111675342446831, 'precision': 0.20108284442018828},\n  'Fold 4': {'map': 0.11199669515824721, 'precision': 0.20272419964207597},\n  'mean': {'map': 0.11088538722458183, 'precision': 0.20040052942464212},\n  'std': {'map': 0.000708581727099988, 'precision': 0.0015999132604963982}},\n 'param_set_2': {'params': {'K': 30},\n  'Fold 0': {'map': 0.11469286570021552, 'precision': 0.2064951549487632},\n  'Fold 1': {'map': 0.1148274267859789, 'precision': 0.20842551451040175},\n  'Fold 2': {'map': 0.11579077775723395, 'precision': 0.2076183386066133},\n  'Fold 3': {'map': 0.11521260431527322, 'precision': 0.20722268391610127},\n  'Fold 4': {'map': 0.11670152256223898, 'precision': 0.21026794591370054},\n  'mean': {'map': 0.11544503942418811, 'precision': 0.208005927579116},\n  'std': {'map': 0.0007347818224357885, 'precision': 0.001291426337565097}},\n 'param_set_3': {'params': {'K': 40},\n  'Fold 0': {'map': 0.11699646815120758, 'precision': 0.21057552397758583},\n  'Fold 1': {'map': 0.11711066454087452, 'precision': 0.21232965848035842},\n  'Fold 2': {'map': 0.11752731107639446, 'precision': 0.21131583845151683},\n  'Fold 3': {'map': 0.11771420202928314, 'precision': 0.21130970838863322},\n  'Fold 4': {'map': 0.11909556216732163, 'precision': 0.21423866573871544},\n  'mean': {'map': 0.11768884159301626, 'precision': 0.21195387900736193},\n  'std': {'map': 0.0007509018205127886, 'precision': 0.0012714853318178797}},\n 'param_set_4': {'params': {'K': 50},\n  'Fold 0': {'map': 0.11796157783745304, 'precision': 0.21259403733630539},\n  'Fold 1': {'map': 0.11812757182219709, 'precision': 0.21408962179379923},\n  'Fold 2': {'map': 0.11878983054572036, 'precision': 0.21327005397357157},\n  'Fold 3': {'map': 0.11881815014586174, 'precision': 0.21332531226355417},\n  'Fold 4': {'map': 0.12029166219112945, 'precision': 0.21610906740902763},\n  'mean': {'map': 0.11879775850847232, 'precision': 0.21387761855525161},\n  'std': {'map': 0.0008222621471978628, 'precision': 0.0012121111390103717}},\n 'param_set_5': {'params': {'K': 60},\n  'Fold 0': {'map': 0.11861924503272453, 'precision': 0.21412340175226774},\n  'Fold 1': {'map': 0.11902454022521035, 'precision': 0.21579381162195493},\n  'Fold 2': {'map': 0.11957728993995731, 'precision': 0.21464110676840994},\n  'Fold 3': {'map': 0.11966559506255854, 'precision': 0.21491918978926086},\n  'Fold 4': {'map': 0.1213179590751128, 'precision': 0.21815345993239213},\n  'mean': {'map': 0.1196409258671127, 'precision': 0.21552619397285713},\n  'std': {'map': 0.000920962699360125, 'precision': 0.0014208311005017885}},\n 'param_set_6': {'params': {'K': 70},\n  'Fold 0': {'map': 0.11919934215663162, 'precision': 0.2151078913965512},\n  'Fold 1': {'map': 0.1196179905635266, 'precision': 0.21653745809242286},\n  'Fold 2': {'map': 0.1196851357983157, 'precision': 0.21494509584961846},\n  'Fold 3': {'map': 0.11997593676492446, 'precision': 0.21554557745500552},\n  'Fold 4': {'map': 0.12160802326319729, 'precision': 0.21902341419765362},\n  'mean': {'map': 0.12001728570931913, 'precision': 0.21623188739825033},\n  'std': {'map': 0.0008331803565539649, 'precision': 0.001501746727020675}},\n 'param_set_7': {'params': {'K': 80},\n  'Fold 0': {'map': 0.11944248670732284, 'precision': 0.21501501501501502},\n  'Fold 1': {'map': 0.11985282173856428, 'precision': 0.2169712518668625},\n  'Fold 2': {'map': 0.1200071108320846, 'precision': 0.21570817048203983},\n  'Fold 3': {'map': 0.12027859296690574, 'precision': 0.21617196512075018},\n  'Fold 4': {'map': 0.12192336128378493, 'precision': 0.21914147941936768},\n  'mean': {'map': 0.12030087470573247, 'precision': 0.21660157638080704},\n  'std': {'map': 0.0008552003043156678, 'precision': 0.0014204002472840843}},\n 'param_set_8': {'params': {'K': 90},\n  'Fold 0': {'map': 0.11960755037185111, 'precision': 0.21570230023838272},\n  'Fold 1': {'map': 0.12009483849572888, 'precision': 0.21757856315107799},\n  'Fold 2': {'map': 0.12035177337224738, 'precision': 0.21644022582046032},\n  'Fold 3': {'map': 0.12065962698541435, 'precision': 0.21667431562496123},\n  'Fold 4': {'map': 0.12222734393616899, 'precision': 0.21977530324120104},\n  'mean': {'map': 0.12058822663228215, 'precision': 0.21723414161521665},\n  'std': {'map': 0.000889142448831935, 'precision': 0.0014047330021075327}},\n 'param_set_9': {'params': {'K': 100},\n  'Fold 0': {'map': 0.11980980349922894, 'precision': 0.21583232717253337},\n  'Fold 1': {'map': 0.12020919099367246, 'precision': 0.21778926298437723},\n  'Fold 2': {'map': 0.12064627436772969, 'precision': 0.21697375767727525},\n  'Fold 3': {'map': 0.1208013303076256, 'precision': 0.2173937311618561},\n  'Fold 4': {'map': 0.12250987839304683, 'precision': 0.22049612248956055},\n  'mean': {'map': 0.12079529551226072, 'precision': 0.2176970402971205},\n  'std': {'map': 0.0009248514680548707, 'precision': 0.0015450343271780334}},\n 'param_set_10': {'params': {'K': 110},\n  'Fold 0': {'map': 0.12003108165535824, 'precision': 0.21630909259775238},\n  'Fold 1': {'map': 0.12032691911286233, 'precision': 0.21788221879318573},\n  'Fold 2': {'map': 0.12075065065029353, 'precision': 0.21730876605248464},\n  'Fold 3': {'map': 0.12082982282215193, 'precision': 0.21756118132992644},\n  'Fold 4': {'map': 0.12274745952007661, 'precision': 0.22102430900775502},\n  'mean': {'map': 0.12093718675214853, 'precision': 0.21801711355622083},\n  'std': {'map': 0.0009504591798757963, 'precision': 0.0015930089175150743}},\n 'param_set_11': {'params': {'K': 120},\n  'Fold 0': {'map': 0.11998198923456334, 'precision': 0.2163400513915978},\n  'Fold 1': {'map': 0.12036995474800988, 'precision': 0.21834080078330761},\n  'Fold 2': {'map': 0.1207815449764865, 'precision': 0.21740182393448726},\n  'Fold 3': {'map': 0.12080587705767089, 'precision': 0.2176356036268466},\n  'Fold 4': {'map': 0.12283063185596967, 'precision': 0.221173444024657},\n  'mean': {'map': 0.12095399957454005, 'precision': 0.21817834475217923},\n  'std': {'map': 0.0009858338651634459, 'precision': 0.0016293487412485372}},\n 'param_set_12': {'params': {'K': 130},\n  'Fold 0': {'map': 0.1198522235855343, 'precision': 0.21655057118974644},\n  'Fold 1': {'map': 0.1203691735221771, 'precision': 0.21840896837643384},\n  'Fold 2': {'map': 0.12076108584534133, 'precision': 0.2174142316520876},\n  'Fold 3': {'map': 0.12074653113877945, 'precision': 0.2178526686595304},\n  'Fold 4': {'map': 0.1226592232403214, 'precision': 0.22105537880294293},\n  'mean': {'map': 0.12087764746643073, 'precision': 0.21825636373614826},\n  'std': {'map': 0.0009502452555524211, 'precision': 0.001525756067897496}},\n 'param_set_13': {'params': {'K': 140},\n  'Fold 0': {'map': 0.11991254208621245, 'precision': 0.21669298164143524},\n  'Fold 1': {'map': 0.12040485165008065, 'precision': 0.2185267124009246},\n  'Fold 2': {'map': 0.12091675690079152, 'precision': 0.21758793969849247},\n  'Fold 3': {'map': 0.12076933436662579, 'precision': 0.21793329281452722},\n  'Fold 4': {'map': 0.1226357957673469, 'precision': 0.22121072777888248},\n  'mean': {'map': 0.12092785615421146, 'precision': 0.2183903308668524},\n  'std': {'map': 0.0009215971398285571, 'precision': 0.0015301600194479099}},\n 'param_set_14': {'params': {'K': 150},\n  'Fold 0': {'map': 0.11995226225018531, 'precision': 0.216909693198353},\n  'Fold 1': {'map': 0.12055225239088678, 'precision': 0.2188737474204763},\n  'Fold 2': {'map': 0.12092824210412559, 'precision': 0.21769340529809542},\n  'Fold 3': {'map': 0.12086201454521918, 'precision': 0.21806353183413751},\n  'Fold 4': {'map': 0.12266459021459439, 'precision': 0.22118587194273215},\n  'mean': {'map': 0.12099187230100225, 'precision': 0.21854524993875887},\n  'std': {'map': 0.0009047598333561404, 'precision': 0.001463798663655402}},\n 'param_set_15': {'params': {'K': 160},\n  'Fold 0': {'map': 0.11997221753138512, 'precision': 0.21671774867651156},\n  'Fold 1': {'map': 0.12052322422755488, 'precision': 0.2189852943910465},\n  'Fold 2': {'map': 0.12102439790594095, 'precision': 0.21801600595570444},\n  'Fold 3': {'map': 0.12089254068343104, 'precision': 0.21808213740836754},\n  'Fold 4': {'map': 0.12262529651019152, 'precision': 0.22114237422946909},\n  'mean': {'map': 0.1210075353717007, 'precision': 0.2185887121322198},\n  'std': {'map': 0.0008873668395226308, 'precision': 0.00146721383329113}},\n 'param_set_16': {'params': {'K': 170},\n  'Fold 0': {'map': 0.12000867271744514, 'precision': 0.21697780254481286},\n  'Fold 1': {'map': 0.12052183859379069, 'precision': 0.21910303841553724},\n  'Fold 2': {'map': 0.1211051484969912, 'precision': 0.21824554873131088},\n  'Fold 3': {'map': 0.12094165857911528, 'precision': 0.21811934855682763},\n  'Fold 4': {'map': 0.12264231697800712, 'precision': 0.22111751839331875},\n  'mean': {'map': 0.12104392707306988, 'precision': 0.21871265132836148},\n  'std': {'map': 0.0008846903590346204, 'precision': 0.0013795420250656426}},\n 'param_set_17': {'params': {'K': 180},\n  'Fold 0': {'map': 0.12001063006829542, 'precision': 0.2169406519921984},\n  'Fold 1': {'map': 0.12052888201410861, 'precision': 0.21929514708707482},\n  'Fold 2': {'map': 0.12101719711498704, 'precision': 0.21806563682610583},\n  'Fold 3': {'map': 0.12099173771742969, 'precision': 0.21819997271182445},\n  'Fold 4': {'map': 0.12262166157477092, 'precision': 0.22128529528733346},\n  'mean': {'map': 0.12103402169791835, 'precision': 0.21875734078090742},\n  'std': {'map': 0.0008746619813288906, 'precision': 0.0014676008510528763}},\n 'param_set_18': {'params': {'K': 190},\n  'Fold 0': {'map': 0.11991864845026615, 'precision': 0.21679824154050958},\n  'Fold 1': {'map': 0.12060061714218381, 'precision': 0.21940669405764499},\n  'Fold 2': {'map': 0.12107626369968863, 'precision': 0.21801600595570444},\n  'Fold 3': {'map': 0.12104925958446598, 'precision': 0.21844804703489165},\n  'Fold 4': {'map': 0.12261455580023653, 'precision': 0.22108644859813084},\n  'mean': {'map': 0.1210518689353682, 'precision': 0.21875108743737628},\n  'std': {'map': 0.0008866125421600404, 'precision': 0.001437325096061781}},\n 'param_set_19': {'params': {'K': 200},\n  'Fold 0': {'map': 0.11991565300241513, 'precision': 0.21690350143958392},\n  'Fold 1': {'map': 0.12062303671275418, 'precision': 0.21946866459685066},\n  'Fold 2': {'map': 0.12108082795473118, 'precision': 0.21806563682610583},\n  'Fold 3': {'map': 0.12105725622904956, 'precision': 0.21851626747373512},\n  'Fold 4': {'map': 0.12268279255385904, 'precision': 0.22139714655000994},\n  'mean': {'map': 0.12107191329056181, 'precision': 0.21887024337725708},\n  'std': {'map': 0.0009092474182157219, 'precision': 0.0015089143178033944}}}"
     },
     "execution_count": 45,
     "metadata": {},
     "output_type": "execute_result"
    }
   ],
   "source": [
    "grid.fit(dataset.item_user.astype(float))\n",
    "grid.get_result(show=False)\n"
   ],
   "metadata": {
    "collapsed": false,
    "pycharm": {
     "name": "#%%\n"
    }
   }
  },
  {
   "cell_type": "code",
   "execution_count": 47,
   "outputs": [
    {
     "data": {
      "text/plain": "      K    Fold 0    Fold 1    Fold 2    Fold 3    Fold 4      mean       std\n0    10  0.101881  0.101888  0.102754  0.102031  0.102986  0.102308  0.000468\n1    20  0.109842  0.110560  0.110861  0.111168  0.111997  0.110885  0.000709\n2    30  0.114693  0.114827  0.115791  0.115213  0.116702  0.115445  0.000735\n3    40  0.116996  0.117111  0.117527  0.117714  0.119096  0.117689  0.000751\n4    50  0.117962  0.118128  0.118790  0.118818  0.120292  0.118798  0.000822\n5    60  0.118619  0.119025  0.119577  0.119666  0.121318  0.119641  0.000921\n6    70  0.119199  0.119618  0.119685  0.119976  0.121608  0.120017  0.000833\n7    80  0.119442  0.119853  0.120007  0.120279  0.121923  0.120301  0.000855\n8    90  0.119608  0.120095  0.120352  0.120660  0.122227  0.120588  0.000889\n9   100  0.119810  0.120209  0.120646  0.120801  0.122510  0.120795  0.000925\n10  110  0.120031  0.120327  0.120751  0.120830  0.122747  0.120937  0.000950\n11  120  0.119982  0.120370  0.120782  0.120806  0.122831  0.120954  0.000986\n12  130  0.119852  0.120369  0.120761  0.120747  0.122659  0.120878  0.000950\n13  140  0.119913  0.120405  0.120917  0.120769  0.122636  0.120928  0.000922\n14  150  0.119952  0.120552  0.120928  0.120862  0.122665  0.120992  0.000905\n15  160  0.119972  0.120523  0.121024  0.120893  0.122625  0.121008  0.000887\n16  170  0.120009  0.120522  0.121105  0.120942  0.122642  0.121044  0.000885\n17  180  0.120011  0.120529  0.121017  0.120992  0.122622  0.121034  0.000875\n18  190  0.119919  0.120601  0.121076  0.121049  0.122615  0.121052  0.000887\n19  200  0.119916  0.120623  0.121081  0.121057  0.122683  0.121072  0.000909",
      "text/html": "<div>\n<style scoped>\n    .dataframe tbody tr th:only-of-type {\n        vertical-align: middle;\n    }\n\n    .dataframe tbody tr th {\n        vertical-align: top;\n    }\n\n    .dataframe thead th {\n        text-align: right;\n    }\n</style>\n<table border=\"1\" class=\"dataframe\">\n  <thead>\n    <tr style=\"text-align: right;\">\n      <th></th>\n      <th>K</th>\n      <th>Fold 0</th>\n      <th>Fold 1</th>\n      <th>Fold 2</th>\n      <th>Fold 3</th>\n      <th>Fold 4</th>\n      <th>mean</th>\n      <th>std</th>\n    </tr>\n  </thead>\n  <tbody>\n    <tr>\n      <th>0</th>\n      <td>10</td>\n      <td>0.101881</td>\n      <td>0.101888</td>\n      <td>0.102754</td>\n      <td>0.102031</td>\n      <td>0.102986</td>\n      <td>0.102308</td>\n      <td>0.000468</td>\n    </tr>\n    <tr>\n      <th>1</th>\n      <td>20</td>\n      <td>0.109842</td>\n      <td>0.110560</td>\n      <td>0.110861</td>\n      <td>0.111168</td>\n      <td>0.111997</td>\n      <td>0.110885</td>\n      <td>0.000709</td>\n    </tr>\n    <tr>\n      <th>2</th>\n      <td>30</td>\n      <td>0.114693</td>\n      <td>0.114827</td>\n      <td>0.115791</td>\n      <td>0.115213</td>\n      <td>0.116702</td>\n      <td>0.115445</td>\n      <td>0.000735</td>\n    </tr>\n    <tr>\n      <th>3</th>\n      <td>40</td>\n      <td>0.116996</td>\n      <td>0.117111</td>\n      <td>0.117527</td>\n      <td>0.117714</td>\n      <td>0.119096</td>\n      <td>0.117689</td>\n      <td>0.000751</td>\n    </tr>\n    <tr>\n      <th>4</th>\n      <td>50</td>\n      <td>0.117962</td>\n      <td>0.118128</td>\n      <td>0.118790</td>\n      <td>0.118818</td>\n      <td>0.120292</td>\n      <td>0.118798</td>\n      <td>0.000822</td>\n    </tr>\n    <tr>\n      <th>5</th>\n      <td>60</td>\n      <td>0.118619</td>\n      <td>0.119025</td>\n      <td>0.119577</td>\n      <td>0.119666</td>\n      <td>0.121318</td>\n      <td>0.119641</td>\n      <td>0.000921</td>\n    </tr>\n    <tr>\n      <th>6</th>\n      <td>70</td>\n      <td>0.119199</td>\n      <td>0.119618</td>\n      <td>0.119685</td>\n      <td>0.119976</td>\n      <td>0.121608</td>\n      <td>0.120017</td>\n      <td>0.000833</td>\n    </tr>\n    <tr>\n      <th>7</th>\n      <td>80</td>\n      <td>0.119442</td>\n      <td>0.119853</td>\n      <td>0.120007</td>\n      <td>0.120279</td>\n      <td>0.121923</td>\n      <td>0.120301</td>\n      <td>0.000855</td>\n    </tr>\n    <tr>\n      <th>8</th>\n      <td>90</td>\n      <td>0.119608</td>\n      <td>0.120095</td>\n      <td>0.120352</td>\n      <td>0.120660</td>\n      <td>0.122227</td>\n      <td>0.120588</td>\n      <td>0.000889</td>\n    </tr>\n    <tr>\n      <th>9</th>\n      <td>100</td>\n      <td>0.119810</td>\n      <td>0.120209</td>\n      <td>0.120646</td>\n      <td>0.120801</td>\n      <td>0.122510</td>\n      <td>0.120795</td>\n      <td>0.000925</td>\n    </tr>\n    <tr>\n      <th>10</th>\n      <td>110</td>\n      <td>0.120031</td>\n      <td>0.120327</td>\n      <td>0.120751</td>\n      <td>0.120830</td>\n      <td>0.122747</td>\n      <td>0.120937</td>\n      <td>0.000950</td>\n    </tr>\n    <tr>\n      <th>11</th>\n      <td>120</td>\n      <td>0.119982</td>\n      <td>0.120370</td>\n      <td>0.120782</td>\n      <td>0.120806</td>\n      <td>0.122831</td>\n      <td>0.120954</td>\n      <td>0.000986</td>\n    </tr>\n    <tr>\n      <th>12</th>\n      <td>130</td>\n      <td>0.119852</td>\n      <td>0.120369</td>\n      <td>0.120761</td>\n      <td>0.120747</td>\n      <td>0.122659</td>\n      <td>0.120878</td>\n      <td>0.000950</td>\n    </tr>\n    <tr>\n      <th>13</th>\n      <td>140</td>\n      <td>0.119913</td>\n      <td>0.120405</td>\n      <td>0.120917</td>\n      <td>0.120769</td>\n      <td>0.122636</td>\n      <td>0.120928</td>\n      <td>0.000922</td>\n    </tr>\n    <tr>\n      <th>14</th>\n      <td>150</td>\n      <td>0.119952</td>\n      <td>0.120552</td>\n      <td>0.120928</td>\n      <td>0.120862</td>\n      <td>0.122665</td>\n      <td>0.120992</td>\n      <td>0.000905</td>\n    </tr>\n    <tr>\n      <th>15</th>\n      <td>160</td>\n      <td>0.119972</td>\n      <td>0.120523</td>\n      <td>0.121024</td>\n      <td>0.120893</td>\n      <td>0.122625</td>\n      <td>0.121008</td>\n      <td>0.000887</td>\n    </tr>\n    <tr>\n      <th>16</th>\n      <td>170</td>\n      <td>0.120009</td>\n      <td>0.120522</td>\n      <td>0.121105</td>\n      <td>0.120942</td>\n      <td>0.122642</td>\n      <td>0.121044</td>\n      <td>0.000885</td>\n    </tr>\n    <tr>\n      <th>17</th>\n      <td>180</td>\n      <td>0.120011</td>\n      <td>0.120529</td>\n      <td>0.121017</td>\n      <td>0.120992</td>\n      <td>0.122622</td>\n      <td>0.121034</td>\n      <td>0.000875</td>\n    </tr>\n    <tr>\n      <th>18</th>\n      <td>190</td>\n      <td>0.119919</td>\n      <td>0.120601</td>\n      <td>0.121076</td>\n      <td>0.121049</td>\n      <td>0.122615</td>\n      <td>0.121052</td>\n      <td>0.000887</td>\n    </tr>\n    <tr>\n      <th>19</th>\n      <td>200</td>\n      <td>0.119916</td>\n      <td>0.120623</td>\n      <td>0.121081</td>\n      <td>0.121057</td>\n      <td>0.122683</td>\n      <td>0.121072</td>\n      <td>0.000909</td>\n    </tr>\n  </tbody>\n</table>\n</div>"
     },
     "execution_count": 47,
     "metadata": {},
     "output_type": "execute_result"
    }
   ],
   "source": [
    "inf = grid.get_result(show=False, filter_metric='map')\n",
    "df = pd.DataFrame(inf)\n",
    "#df.to_csv(\"nearst_neigh_grid.csv\", index=False)\n",
    "df"
   ],
   "metadata": {
    "collapsed": false,
    "pycharm": {
     "name": "#%%\n"
    }
   }
  },
  {
   "cell_type": "code",
   "execution_count": 42,
   "outputs": [
    {
     "data": {
      "text/plain": "  0%|          | 0/2483 [00:00<?, ?it/s]",
      "application/vnd.jupyter.widget-view+json": {
       "version_major": 2,
       "version_minor": 0,
       "model_id": "5e5bf08fa9774698a3a294e905224bc0"
      }
     },
     "metadata": {},
     "output_type": "display_data"
    }
   ],
   "source": [
    "m = TFIDFRecommender(K=200)\n",
    "m.fit(dataset.item_user.astype(float))"
   ],
   "metadata": {
    "collapsed": false,
    "pycharm": {
     "name": "#%%\n"
    }
   }
  },
  {
   "cell_type": "code",
   "execution_count": 43,
   "outputs": [
    {
     "name": "stdout",
     "output_type": "stream",
     "text": [
      "1  Python              1.000\n",
      "2  learnpython         0.338\n",
      "3  programming         0.173\n",
      "4  CryptoMarkets       0.154\n",
      "5  learnprogramming    0.147\n",
      "6  ProgrammerHumor     0.142\n",
      "7  linux               0.104\n",
      "8  javascript          0.073\n",
      "9  linux4noobs         0.068\n",
      "10 raspberry_pi        0.066\n"
     ]
    }
   ],
   "source": [
    "reddit = \"Python\"\n",
    "sitems = m.similar_items(dataset.get_item_id(reddit), N=10)\n",
    "\n",
    "for i, (idx, dist) in enumerate(sitems):\n",
    "    print(\"{0:<3}{1:<20}{2:.3f}\".format(i + 1, dataset.get_item(idx), dist))"
   ],
   "metadata": {
    "collapsed": false,
    "pycharm": {
     "name": "#%%\n"
    }
   }
  },
  {
   "cell_type": "code",
   "execution_count": 125,
   "outputs": [
    {
     "data": {
      "text/plain": "<3224x34563 sparse matrix of type '<class 'numpy.float64'>'\n\twith 1284519 stored elements in COOrdinate format>"
     },
     "execution_count": 125,
     "metadata": {},
     "output_type": "execute_result"
    }
   ],
   "source": [
    "\n"
   ],
   "metadata": {
    "collapsed": false,
    "pycharm": {
     "name": "#%%\n"
    }
   }
  }
 ],
 "metadata": {
  "kernelspec": {
   "display_name": "Python 3",
   "language": "python",
   "name": "python3"
  },
  "language_info": {
   "codemirror_mode": {
    "name": "ipython",
    "version": 2
   },
   "file_extension": ".py",
   "mimetype": "text/x-python",
   "name": "python",
   "nbconvert_exporter": "python",
   "pygments_lexer": "ipython2",
   "version": "2.7.6"
  }
 },
 "nbformat": 4,
 "nbformat_minor": 0
}