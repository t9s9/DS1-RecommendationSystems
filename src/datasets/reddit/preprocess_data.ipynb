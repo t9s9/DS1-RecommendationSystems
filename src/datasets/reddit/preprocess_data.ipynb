{
 "cells": [
  {
   "cell_type": "markdown",
   "source": [
    "# Reddit dataset"
   ],
   "metadata": {
    "collapsed": false,
    "pycharm": {
     "name": "#%% md\n"
    }
   }
  },
  {
   "cell_type": "code",
   "execution_count": 3,
   "metadata": {
    "collapsed": true
   },
   "outputs": [],
   "source": [
    "import numpy as np\n",
    "import pandas as pd\n",
    "import sqlite3 as sql\n",
    "\n",
    "save_path = \"C:/Users\\TS/PycharmProjects/DS1-RecommendationSystems/src/data/reddit/\""
   ]
  },
  {
   "cell_type": "code",
   "execution_count": 4,
   "outputs": [
    {
     "name": "stdout",
     "output_type": "stream",
     "text": [
      "DF size: (20000571, 10)nDF columns: ['ID', 'user', 'subreddit', 'content', 'num_upvotes', 'num_downvotes', 'num_comments', 'created_time_utc', 'link_title', 'link_id']\n"
     ]
    }
   ],
   "source": [
    "db = sql.connect(\"T:/SubredditDataset/data_original.db\")\n",
    "\n",
    "query = \"SELECT * FROM comment\"\n",
    "df = pd.read_sql_query(query, db)\n",
    "print(f\"DF size: {df.shape}\\nDF columns: {list(df.columns)}\")"
   ],
   "metadata": {
    "collapsed": false,
    "pycharm": {
     "name": "#%%\n"
    }
   }
  },
  {
   "cell_type": "markdown",
   "source": [
    "TODO:\n",
    "1. Duplicate entries will be removed.\n",
    "* The table comment contains a lot of information we dont need for the recommender such as the number of upvotes.\n",
    "* If a user has written multiple comments in a subreddit, there is one data point for each in the table.\n",
    " For this reason, all comments from a user in the same subreddit are combined and a count variable is introduced."
   ],
   "metadata": {
    "collapsed": false,
    "pycharm": {
     "name": "#%% md\n"
    }
   }
  },
  {
   "cell_type": "code",
   "execution_count": 5,
   "outputs": [
    {
     "name": "stdout",
     "output_type": "stream",
     "text": [
      "DF size: (20000571, 10)nDF columns: ['ID', 'user', 'subreddit', 'content', 'num_upvotes', 'num_downvotes', 'num_comments', 'created_time_utc', 'link_title', 'link_id']\n"
     ]
    }
   ],
   "source": [
    "# Remove duplicates given by a subset of the columns\n",
    "df_no_duplicates = df.drop_duplicates(keep='first',\n",
    "                                      ignore_index=True,\n",
    "                                      subset=[\"user\", \"subreddit\", \"created_time_utc\", \"link_id\"])\n",
    "# We only need the user and the subreddit\n",
    "df_no_duplicates = df_no_duplicates[['user', 'subreddit']]\n",
    "print(f\"DF size: {df_no_duplicates.shape}\\nDF columns: {list(df_no_duplicates.columns)}\")"
   ],
   "metadata": {
    "collapsed": false,
    "pycharm": {
     "name": "#%%\n"
    }
   }
  },
  {
   "cell_type": "code",
   "execution_count": 64,
   "outputs": [
    {
     "data": {
      "text/plain": "                     user  subreddit         count\ncount             1738737    1738737  1.738737e+06\nunique              37845      69490           NaN\ntop     CarpenterAcademic  AskReddit           NaN\nfreq                  851      21021           NaN\nmean                  NaN        NaN  1.121939e+01\nstd                   NaN        NaN  4.808560e+01\nmin                   NaN        NaN  1.000000e+00\n25%                   NaN        NaN  1.000000e+00\n50%                   NaN        NaN  2.000000e+00\n75%                   NaN        NaN  6.000000e+00\nmax                   NaN        NaN  1.096000e+03",
      "text/html": "<div>\n<style scoped>\n    .dataframe tbody tr th:only-of-type {\n        vertical-align: middle;\n    }\n\n    .dataframe tbody tr th {\n        vertical-align: top;\n    }\n\n    .dataframe thead th {\n        text-align: right;\n    }\n</style>\n<table border=\"1\" class=\"dataframe\">\n  <thead>\n    <tr style=\"text-align: right;\">\n      <th></th>\n      <th>user</th>\n      <th>subreddit</th>\n      <th>count</th>\n    </tr>\n  </thead>\n  <tbody>\n    <tr>\n      <th>count</th>\n      <td>1738737</td>\n      <td>1738737</td>\n      <td>1.738737e+06</td>\n    </tr>\n    <tr>\n      <th>unique</th>\n      <td>37845</td>\n      <td>69490</td>\n      <td>NaN</td>\n    </tr>\n    <tr>\n      <th>top</th>\n      <td>CarpenterAcademic</td>\n      <td>AskReddit</td>\n      <td>NaN</td>\n    </tr>\n    <tr>\n      <th>freq</th>\n      <td>851</td>\n      <td>21021</td>\n      <td>NaN</td>\n    </tr>\n    <tr>\n      <th>mean</th>\n      <td>NaN</td>\n      <td>NaN</td>\n      <td>1.121939e+01</td>\n    </tr>\n    <tr>\n      <th>std</th>\n      <td>NaN</td>\n      <td>NaN</td>\n      <td>4.808560e+01</td>\n    </tr>\n    <tr>\n      <th>min</th>\n      <td>NaN</td>\n      <td>NaN</td>\n      <td>1.000000e+00</td>\n    </tr>\n    <tr>\n      <th>25%</th>\n      <td>NaN</td>\n      <td>NaN</td>\n      <td>1.000000e+00</td>\n    </tr>\n    <tr>\n      <th>50%</th>\n      <td>NaN</td>\n      <td>NaN</td>\n      <td>2.000000e+00</td>\n    </tr>\n    <tr>\n      <th>75%</th>\n      <td>NaN</td>\n      <td>NaN</td>\n      <td>6.000000e+00</td>\n    </tr>\n    <tr>\n      <th>max</th>\n      <td>NaN</td>\n      <td>NaN</td>\n      <td>1.096000e+03</td>\n    </tr>\n  </tbody>\n</table>\n</div>"
     },
     "execution_count": 64,
     "metadata": {},
     "output_type": "execute_result"
    }
   ],
   "source": [
    "df_grouped = df_no_duplicates.groupby(by=['user', 'subreddit']).size().reset_index(name='count')\n",
    "df_grouped.to_csv(save_path + \"dataset.csv\", index=False)\n",
    "df_grouped.describe(include=\"all\")"
   ],
   "metadata": {
    "collapsed": false,
    "pycharm": {
     "name": "#%%\n"
    }
   }
  },
  {
   "cell_type": "code",
   "execution_count": 62,
   "outputs": [],
   "source": [
    "subreddit_group = df_grouped.groupby(by=['subreddit'])['count']\n",
    "sum_comments_per_subreddit = subreddit_group.sum().reset_index(name=\"total_num_comments\")\n",
    "sum_comments_per_subreddit = sum_comments_per_subreddit.sort_values(by=\"total_num_comments\", ascending=False,\n",
    "                                                                    ignore_index=True)\n",
    "unique_users_per_subreddit = subreddit_group.count().reset_index(name=\"unique_users\")\n",
    "subreddit_summary = sum_comments_per_subreddit.merge(unique_users_per_subreddit, on=\"subreddit\")\n",
    "subreddit_summary.to_csv(save_path + \"subreddit_summary.csv\", index=False)"
   ],
   "metadata": {
    "collapsed": false,
    "pycharm": {
     "name": "#%%\n"
    }
   }
  },
  {
   "cell_type": "code",
   "execution_count": 63,
   "outputs": [],
   "source": [
    "user_group = df_grouped.groupby(by=['user'])['count']\n",
    "sum_comments_per_user = user_group.sum().reset_index(name=\"total_num_comments\")\n",
    "sum_comments_per_user = sum_comments_per_user.sort_values(by=\"total_num_comments\", ascending=False, ignore_index=True)\n",
    "unique_subreddits_per_user = user_group.count().reset_index(name=\"unique_subreddits\")\n",
    "user_summary = sum_comments_per_user.merge(unique_subreddits_per_user, on=\"user\")\n",
    "user_summary.to_csv(save_path + \"user_summary.csv\", index=False)\n"
   ],
   "metadata": {
    "collapsed": false,
    "pycharm": {
     "name": "#%%\n"
    }
   }
  },
  {
   "cell_type": "code",
   "execution_count": 5,
   "outputs": [],
   "source": [
    "subreddit_info = pd.read_csv(save_path + \"subreddit_info.csv\")\n",
    "subreddit_info = subreddit_info[['subreddit', 'num_subscribers', 'over18', 'public_description']]"
   ],
   "metadata": {
    "collapsed": false,
    "pycharm": {
     "name": "#%%\n"
    }
   }
  },
  {
   "cell_type": "code",
   "execution_count": 6,
   "outputs": [
    {
     "name": "stdout",
     "output_type": "stream",
     "text": [
      "0\n"
     ]
    }
   ],
   "source": [
    "subreddit_info_clean = subreddit_info.dropna(axis=0, how=\"any\")\n",
    "print(subreddit_info.shape[0] - subreddit_info_clean.shape[0])"
   ],
   "metadata": {
    "collapsed": false,
    "pycharm": {
     "name": "#%%\n"
    }
   }
  },
  {
   "cell_type": "code",
   "execution_count": 7,
   "outputs": [],
   "source": [
    "subreddit_info_clean.over18 = subreddit_info_clean.over18.astype('bool')"
   ],
   "metadata": {
    "collapsed": false,
    "pycharm": {
     "name": "#%%\n"
    }
   }
  },
  {
   "cell_type": "code",
   "execution_count": 9,
   "outputs": [],
   "source": [
    "subreddit_info_clean.to_csv(save_path + \"subreddit_info.csv\", index=False)"
   ],
   "metadata": {
    "collapsed": false,
    "pycharm": {
     "name": "#%%\n"
    }
   }
  },
  {
   "cell_type": "code",
   "execution_count": 8,
   "outputs": [
    {
     "data": {
      "text/plain": "           subreddit  num_subscribers  over18  \\\n0    ChoosingBeggars        2134849.0   False   \n1             Python         809272.0   False   \n2  interestingasfuck        8092462.0   False   \n3     PublicFreakout        3257059.0   False   \n4   ShitMomGroupsSay         258681.0   False   \n\n                                  public_description  \n0  This subreddit is for posting screenshots, pic...  \n1  News about the programming language Python. If...  \n2             For anything that is InterestingAsFuck  \n3  A subreddit dedicated to people freaking out, ...  \n4  Share the drama. \\n\\nEssential oils cure all? ...  ",
      "text/html": "<div>\n<style scoped>\n    .dataframe tbody tr th:only-of-type {\n        vertical-align: middle;\n    }\n\n    .dataframe tbody tr th {\n        vertical-align: top;\n    }\n\n    .dataframe thead th {\n        text-align: right;\n    }\n</style>\n<table border=\"1\" class=\"dataframe\">\n  <thead>\n    <tr style=\"text-align: right;\">\n      <th></th>\n      <th>subreddit</th>\n      <th>num_subscribers</th>\n      <th>over18</th>\n      <th>public_description</th>\n    </tr>\n  </thead>\n  <tbody>\n    <tr>\n      <th>0</th>\n      <td>ChoosingBeggars</td>\n      <td>2134849.0</td>\n      <td>False</td>\n      <td>This subreddit is for posting screenshots, pic...</td>\n    </tr>\n    <tr>\n      <th>1</th>\n      <td>Python</td>\n      <td>809272.0</td>\n      <td>False</td>\n      <td>News about the programming language Python. If...</td>\n    </tr>\n    <tr>\n      <th>2</th>\n      <td>interestingasfuck</td>\n      <td>8092462.0</td>\n      <td>False</td>\n      <td>For anything that is InterestingAsFuck</td>\n    </tr>\n    <tr>\n      <th>3</th>\n      <td>PublicFreakout</td>\n      <td>3257059.0</td>\n      <td>False</td>\n      <td>A subreddit dedicated to people freaking out, ...</td>\n    </tr>\n    <tr>\n      <th>4</th>\n      <td>ShitMomGroupsSay</td>\n      <td>258681.0</td>\n      <td>False</td>\n      <td>Share the drama. \\n\\nEssential oils cure all? ...</td>\n    </tr>\n  </tbody>\n</table>\n</div>"
     },
     "execution_count": 8,
     "metadata": {},
     "output_type": "execute_result"
    }
   ],
   "source": [
    "subreddit_info_clean.head()\n"
   ],
   "metadata": {
    "collapsed": false,
    "pycharm": {
     "name": "#%%\n"
    }
   }
  }
 ],
 "metadata": {
  "kernelspec": {
   "name": "ds1-recommendationsystems",
   "language": "python",
   "display_name": "DS1-RecommendationSystems"
  },
  "language_info": {
   "codemirror_mode": {
    "name": "ipython",
    "version": 2
   },
   "file_extension": ".py",
   "mimetype": "text/x-python",
   "name": "python",
   "nbconvert_exporter": "python",
   "pygments_lexer": "ipython2",
   "version": "2.7.6"
  }
 },
 "nbformat": 4,
 "nbformat_minor": 0
}